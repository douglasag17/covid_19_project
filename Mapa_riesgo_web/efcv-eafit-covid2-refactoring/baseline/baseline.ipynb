{
 "cells": [
  {
   "cell_type": "code",
   "execution_count": 1,
   "metadata": {},
   "outputs": [],
   "source": [
    "import pickle\n",
    "import sys\n",
    "import pandas as pd"
   ]
  },
  {
   "cell_type": "code",
   "execution_count": 2,
   "metadata": {},
   "outputs": [
    {
     "ename": "NameError",
     "evalue": "name 'data' is not defined",
     "output_type": "error",
     "traceback": [
      "\u001b[0;31m---------------------------------------------------------------------------\u001b[0m",
      "\u001b[0;31mNameError\u001b[0m                                 Traceback (most recent call last)",
      "\u001b[0;32m<ipython-input-2-c6201f8cef64>\u001b[0m in \u001b[0;36m<module>\u001b[0;34m\u001b[0m\n\u001b[0;32m----> 1\u001b[0;31m \u001b[0mlen\u001b[0m\u001b[0;34m(\u001b[0m\u001b[0mdata\u001b[0m\u001b[0;34m)\u001b[0m\u001b[0;34m\u001b[0m\u001b[0;34m\u001b[0m\u001b[0m\n\u001b[0m",
      "\u001b[0;31mNameError\u001b[0m: name 'data' is not defined"
     ]
    }
   ],
   "source": [
    "len(data)"
   ]
  },
  {
   "cell_type": "code",
   "execution_count": null,
   "metadata": {},
   "outputs": [],
   "source": [
    "data[0]['train']"
   ]
  },
  {
   "cell_type": "code",
   "execution_count": 6,
   "metadata": {},
   "outputs": [
    {
     "ename": "RecursionError",
     "evalue": "maximum recursion depth exceeded",
     "output_type": "error",
     "traceback": [
      "\u001b[0;31m---------------------------------------------------------------------------\u001b[0m",
      "\u001b[0;31mRecursionError\u001b[0m                            Traceback (most recent call last)",
      "\u001b[0;32m<ipython-input-6-1adb18891037>\u001b[0m in \u001b[0;36m<module>\u001b[0;34m\u001b[0m\n\u001b[0;32m----> 1\u001b[0;31m \u001b[0mlen\u001b[0m\u001b[0;34m(\u001b[0m\u001b[0mdata\u001b[0m\u001b[0;34m[\u001b[0m\u001b[0;34m-\u001b[0m\u001b[0;36m1\u001b[0m\u001b[0;34m]\u001b[0m\u001b[0;34m[\u001b[0m\u001b[0;34m'train'\u001b[0m\u001b[0;34m]\u001b[0m\u001b[0;34m.\u001b[0m\u001b[0mdepartamento\u001b[0m\u001b[0;34m.\u001b[0m\u001b[0munique\u001b[0m\u001b[0;34m(\u001b[0m\u001b[0;34m)\u001b[0m\u001b[0;34m)\u001b[0m\u001b[0;34m\u001b[0m\u001b[0;34m\u001b[0m\u001b[0m\n\u001b[0m",
      "\u001b[0;32m~/opt/anaconda3/envs/tf2/lib/python3.7/site-packages/pandas/core/generic.py\u001b[0m in \u001b[0;36m__getattr__\u001b[0;34m(self, name)\u001b[0m\n\u001b[1;32m   5175\u001b[0m             \u001b[0;32mreturn\u001b[0m \u001b[0mobject\u001b[0m\u001b[0;34m.\u001b[0m\u001b[0m__getattribute__\u001b[0m\u001b[0;34m(\u001b[0m\u001b[0mself\u001b[0m\u001b[0;34m,\u001b[0m \u001b[0mname\u001b[0m\u001b[0;34m)\u001b[0m\u001b[0;34m\u001b[0m\u001b[0;34m\u001b[0m\u001b[0m\n\u001b[1;32m   5176\u001b[0m         \u001b[0;32melse\u001b[0m\u001b[0;34m:\u001b[0m\u001b[0;34m\u001b[0m\u001b[0;34m\u001b[0m\u001b[0m\n\u001b[0;32m-> 5177\u001b[0;31m             \u001b[0;32mif\u001b[0m \u001b[0mself\u001b[0m\u001b[0;34m.\u001b[0m\u001b[0m_info_axis\u001b[0m\u001b[0;34m.\u001b[0m\u001b[0m_can_hold_identifiers_and_holds_name\u001b[0m\u001b[0;34m(\u001b[0m\u001b[0mname\u001b[0m\u001b[0;34m)\u001b[0m\u001b[0;34m:\u001b[0m\u001b[0;34m\u001b[0m\u001b[0;34m\u001b[0m\u001b[0m\n\u001b[0m\u001b[1;32m   5178\u001b[0m                 \u001b[0;32mreturn\u001b[0m \u001b[0mself\u001b[0m\u001b[0;34m[\u001b[0m\u001b[0mname\u001b[0m\u001b[0;34m]\u001b[0m\u001b[0;34m\u001b[0m\u001b[0;34m\u001b[0m\u001b[0m\n\u001b[1;32m   5179\u001b[0m             \u001b[0;32mreturn\u001b[0m \u001b[0mobject\u001b[0m\u001b[0;34m.\u001b[0m\u001b[0m__getattribute__\u001b[0m\u001b[0;34m(\u001b[0m\u001b[0mself\u001b[0m\u001b[0;34m,\u001b[0m \u001b[0mname\u001b[0m\u001b[0;34m)\u001b[0m\u001b[0;34m\u001b[0m\u001b[0;34m\u001b[0m\u001b[0m\n",
      "... last 1 frames repeated, from the frame below ...\n",
      "\u001b[0;32m~/opt/anaconda3/envs/tf2/lib/python3.7/site-packages/pandas/core/generic.py\u001b[0m in \u001b[0;36m__getattr__\u001b[0;34m(self, name)\u001b[0m\n\u001b[1;32m   5175\u001b[0m             \u001b[0;32mreturn\u001b[0m \u001b[0mobject\u001b[0m\u001b[0;34m.\u001b[0m\u001b[0m__getattribute__\u001b[0m\u001b[0;34m(\u001b[0m\u001b[0mself\u001b[0m\u001b[0;34m,\u001b[0m \u001b[0mname\u001b[0m\u001b[0;34m)\u001b[0m\u001b[0;34m\u001b[0m\u001b[0;34m\u001b[0m\u001b[0m\n\u001b[1;32m   5176\u001b[0m         \u001b[0;32melse\u001b[0m\u001b[0;34m:\u001b[0m\u001b[0;34m\u001b[0m\u001b[0;34m\u001b[0m\u001b[0m\n\u001b[0;32m-> 5177\u001b[0;31m             \u001b[0;32mif\u001b[0m \u001b[0mself\u001b[0m\u001b[0;34m.\u001b[0m\u001b[0m_info_axis\u001b[0m\u001b[0;34m.\u001b[0m\u001b[0m_can_hold_identifiers_and_holds_name\u001b[0m\u001b[0;34m(\u001b[0m\u001b[0mname\u001b[0m\u001b[0;34m)\u001b[0m\u001b[0;34m:\u001b[0m\u001b[0;34m\u001b[0m\u001b[0;34m\u001b[0m\u001b[0m\n\u001b[0m\u001b[1;32m   5178\u001b[0m                 \u001b[0;32mreturn\u001b[0m \u001b[0mself\u001b[0m\u001b[0;34m[\u001b[0m\u001b[0mname\u001b[0m\u001b[0;34m]\u001b[0m\u001b[0;34m\u001b[0m\u001b[0;34m\u001b[0m\u001b[0m\n\u001b[1;32m   5179\u001b[0m             \u001b[0;32mreturn\u001b[0m \u001b[0mobject\u001b[0m\u001b[0;34m.\u001b[0m\u001b[0m__getattribute__\u001b[0m\u001b[0;34m(\u001b[0m\u001b[0mself\u001b[0m\u001b[0;34m,\u001b[0m \u001b[0mname\u001b[0m\u001b[0;34m)\u001b[0m\u001b[0;34m\u001b[0m\u001b[0;34m\u001b[0m\u001b[0m\n",
      "\u001b[0;31mRecursionError\u001b[0m: maximum recursion depth exceeded"
     ]
    }
   ],
   "source": [
    "len(data[-1]['train'].departamento.unique())"
   ]
  },
  {
   "cell_type": "code",
   "execution_count": 4,
   "metadata": {},
   "outputs": [
    {
     "ename": "RecursionError",
     "evalue": "maximum recursion depth exceeded",
     "output_type": "error",
     "traceback": [
      "\u001b[0;31m---------------------------------------------------------------------------\u001b[0m",
      "\u001b[0;31mRecursionError\u001b[0m                            Traceback (most recent call last)",
      "\u001b[0;32m<ipython-input-4-0c34b2bf7b9e>\u001b[0m in \u001b[0;36m<module>\u001b[0;34m\u001b[0m\n\u001b[0;32m----> 1\u001b[0;31m \u001b[0mlen\u001b[0m\u001b[0;34m(\u001b[0m\u001b[0mdata\u001b[0m\u001b[0;34m[\u001b[0m\u001b[0;34m-\u001b[0m\u001b[0;36m1\u001b[0m\u001b[0;34m]\u001b[0m\u001b[0;34m[\u001b[0m\u001b[0;34m'test'\u001b[0m\u001b[0;34m]\u001b[0m\u001b[0;34m.\u001b[0m\u001b[0mdepartamento\u001b[0m\u001b[0;34m.\u001b[0m\u001b[0munique\u001b[0m\u001b[0;34m(\u001b[0m\u001b[0;34m)\u001b[0m\u001b[0;34m)\u001b[0m\u001b[0;34m\u001b[0m\u001b[0;34m\u001b[0m\u001b[0m\n\u001b[0m",
      "\u001b[0;32m~/opt/anaconda3/envs/tf2/lib/python3.7/site-packages/pandas/core/generic.py\u001b[0m in \u001b[0;36m__getattr__\u001b[0;34m(self, name)\u001b[0m\n\u001b[1;32m   5175\u001b[0m             \u001b[0;32mreturn\u001b[0m \u001b[0mobject\u001b[0m\u001b[0;34m.\u001b[0m\u001b[0m__getattribute__\u001b[0m\u001b[0;34m(\u001b[0m\u001b[0mself\u001b[0m\u001b[0;34m,\u001b[0m \u001b[0mname\u001b[0m\u001b[0;34m)\u001b[0m\u001b[0;34m\u001b[0m\u001b[0;34m\u001b[0m\u001b[0m\n\u001b[1;32m   5176\u001b[0m         \u001b[0;32melse\u001b[0m\u001b[0;34m:\u001b[0m\u001b[0;34m\u001b[0m\u001b[0;34m\u001b[0m\u001b[0m\n\u001b[0;32m-> 5177\u001b[0;31m             \u001b[0;32mif\u001b[0m \u001b[0mself\u001b[0m\u001b[0;34m.\u001b[0m\u001b[0m_info_axis\u001b[0m\u001b[0;34m.\u001b[0m\u001b[0m_can_hold_identifiers_and_holds_name\u001b[0m\u001b[0;34m(\u001b[0m\u001b[0mname\u001b[0m\u001b[0;34m)\u001b[0m\u001b[0;34m:\u001b[0m\u001b[0;34m\u001b[0m\u001b[0;34m\u001b[0m\u001b[0m\n\u001b[0m\u001b[1;32m   5178\u001b[0m                 \u001b[0;32mreturn\u001b[0m \u001b[0mself\u001b[0m\u001b[0;34m[\u001b[0m\u001b[0mname\u001b[0m\u001b[0;34m]\u001b[0m\u001b[0;34m\u001b[0m\u001b[0;34m\u001b[0m\u001b[0m\n\u001b[1;32m   5179\u001b[0m             \u001b[0;32mreturn\u001b[0m \u001b[0mobject\u001b[0m\u001b[0;34m.\u001b[0m\u001b[0m__getattribute__\u001b[0m\u001b[0;34m(\u001b[0m\u001b[0mself\u001b[0m\u001b[0;34m,\u001b[0m \u001b[0mname\u001b[0m\u001b[0;34m)\u001b[0m\u001b[0;34m\u001b[0m\u001b[0;34m\u001b[0m\u001b[0m\n",
      "... last 1 frames repeated, from the frame below ...\n",
      "\u001b[0;32m~/opt/anaconda3/envs/tf2/lib/python3.7/site-packages/pandas/core/generic.py\u001b[0m in \u001b[0;36m__getattr__\u001b[0;34m(self, name)\u001b[0m\n\u001b[1;32m   5175\u001b[0m             \u001b[0;32mreturn\u001b[0m \u001b[0mobject\u001b[0m\u001b[0;34m.\u001b[0m\u001b[0m__getattribute__\u001b[0m\u001b[0;34m(\u001b[0m\u001b[0mself\u001b[0m\u001b[0;34m,\u001b[0m \u001b[0mname\u001b[0m\u001b[0;34m)\u001b[0m\u001b[0;34m\u001b[0m\u001b[0;34m\u001b[0m\u001b[0m\n\u001b[1;32m   5176\u001b[0m         \u001b[0;32melse\u001b[0m\u001b[0;34m:\u001b[0m\u001b[0;34m\u001b[0m\u001b[0;34m\u001b[0m\u001b[0m\n\u001b[0;32m-> 5177\u001b[0;31m             \u001b[0;32mif\u001b[0m \u001b[0mself\u001b[0m\u001b[0;34m.\u001b[0m\u001b[0m_info_axis\u001b[0m\u001b[0;34m.\u001b[0m\u001b[0m_can_hold_identifiers_and_holds_name\u001b[0m\u001b[0;34m(\u001b[0m\u001b[0mname\u001b[0m\u001b[0;34m)\u001b[0m\u001b[0;34m:\u001b[0m\u001b[0;34m\u001b[0m\u001b[0;34m\u001b[0m\u001b[0m\n\u001b[0m\u001b[1;32m   5178\u001b[0m                 \u001b[0;32mreturn\u001b[0m \u001b[0mself\u001b[0m\u001b[0;34m[\u001b[0m\u001b[0mname\u001b[0m\u001b[0;34m]\u001b[0m\u001b[0;34m\u001b[0m\u001b[0;34m\u001b[0m\u001b[0m\n\u001b[1;32m   5179\u001b[0m             \u001b[0;32mreturn\u001b[0m \u001b[0mobject\u001b[0m\u001b[0;34m.\u001b[0m\u001b[0m__getattribute__\u001b[0m\u001b[0;34m(\u001b[0m\u001b[0mself\u001b[0m\u001b[0;34m,\u001b[0m \u001b[0mname\u001b[0m\u001b[0;34m)\u001b[0m\u001b[0;34m\u001b[0m\u001b[0;34m\u001b[0m\u001b[0m\n",
      "\u001b[0;31mRecursionError\u001b[0m: maximum recursion depth exceeded"
     ]
    }
   ],
   "source": [
    "len(data[-1]['test'].departamento.unique())"
   ]
  },
  {
   "cell_type": "code",
   "execution_count": 39,
   "metadata": {},
   "outputs": [
    {
     "data": {
      "text/plain": [
       "4"
      ]
     },
     "execution_count": 39,
     "metadata": {},
     "output_type": "execute_result"
    }
   ],
   "source": [
    "data[-1]['test'].departamento.unique()"
   ]
  },
  {
   "cell_type": "code",
   "execution_count": 3,
   "metadata": {},
   "outputs": [],
   "source": [
    "train_set = pd.read_csv('../data/train.csv')\n",
    "test_set =  pd.read_csv('../data/test.csv')"
   ]
  },
  {
   "cell_type": "code",
   "execution_count": 4,
   "metadata": {},
   "outputs": [
    {
     "data": {
      "text/html": [
       "<div>\n",
       "<style scoped>\n",
       "    .dataframe tbody tr th:only-of-type {\n",
       "        vertical-align: middle;\n",
       "    }\n",
       "\n",
       "    .dataframe tbody tr th {\n",
       "        vertical-align: top;\n",
       "    }\n",
       "\n",
       "    .dataframe thead th {\n",
       "        text-align: right;\n",
       "    }\n",
       "</style>\n",
       "<table border=\"1\" class=\"dataframe\">\n",
       "  <thead>\n",
       "    <tr style=\"text-align: right;\">\n",
       "      <th></th>\n",
       "      <th>Unnamed: 0</th>\n",
       "      <th>fecha</th>\n",
       "      <th>departamento</th>\n",
       "      <th>susceptibles</th>\n",
       "      <th>infectados</th>\n",
       "      <th>recuperados</th>\n",
       "      <th>decesos</th>\n",
       "      <th>cantidad_mayores_65</th>\n",
       "      <th>ipm</th>\n",
       "      <th>poblacion_total</th>\n",
       "      <th>personas_km2</th>\n",
       "      <th>edad_promedio</th>\n",
       "      <th>promedio_morbilidades</th>\n",
       "    </tr>\n",
       "  </thead>\n",
       "  <tbody>\n",
       "    <tr>\n",
       "      <th>0</th>\n",
       "      <td>0</td>\n",
       "      <td>2020-03-02</td>\n",
       "      <td>amazonas</td>\n",
       "      <td>78830.0</td>\n",
       "      <td>0.0</td>\n",
       "      <td>0.0</td>\n",
       "      <td>0.0</td>\n",
       "      <td>2791</td>\n",
       "      <td>81.690909</td>\n",
       "      <td>78830.0</td>\n",
       "      <td>0.719</td>\n",
       "      <td>25.420</td>\n",
       "      <td>2435.250000</td>\n",
       "    </tr>\n",
       "    <tr>\n",
       "      <th>1</th>\n",
       "      <td>1</td>\n",
       "      <td>2020-03-02</td>\n",
       "      <td>antioquia</td>\n",
       "      <td>6690977.0</td>\n",
       "      <td>0.0</td>\n",
       "      <td>0.0</td>\n",
       "      <td>0.0</td>\n",
       "      <td>576614</td>\n",
       "      <td>37.586400</td>\n",
       "      <td>6690977.0</td>\n",
       "      <td>105.184</td>\n",
       "      <td>34.628</td>\n",
       "      <td>779755.333333</td>\n",
       "    </tr>\n",
       "    <tr>\n",
       "      <th>2</th>\n",
       "      <td>2</td>\n",
       "      <td>2020-03-02</td>\n",
       "      <td>arauca</td>\n",
       "      <td>270708.0</td>\n",
       "      <td>0.0</td>\n",
       "      <td>0.0</td>\n",
       "      <td>0.0</td>\n",
       "      <td>13880</td>\n",
       "      <td>44.457143</td>\n",
       "      <td>270708.0</td>\n",
       "      <td>11.366</td>\n",
       "      <td>29.092</td>\n",
       "      <td>13375.583333</td>\n",
       "    </tr>\n",
       "    <tr>\n",
       "      <th>3</th>\n",
       "      <td>3</td>\n",
       "      <td>2020-03-02</td>\n",
       "      <td>atlantico</td>\n",
       "      <td>2546138.0</td>\n",
       "      <td>0.0</td>\n",
       "      <td>0.0</td>\n",
       "      <td>0.0</td>\n",
       "      <td>196909</td>\n",
       "      <td>37.326087</td>\n",
       "      <td>2546138.0</td>\n",
       "      <td>751.517</td>\n",
       "      <td>32.435</td>\n",
       "      <td>306515.916667</td>\n",
       "    </tr>\n",
       "    <tr>\n",
       "      <th>4</th>\n",
       "      <td>4</td>\n",
       "      <td>2020-03-02</td>\n",
       "      <td>bogota</td>\n",
       "      <td>8181047.0</td>\n",
       "      <td>0.0</td>\n",
       "      <td>0.0</td>\n",
       "      <td>0.0</td>\n",
       "      <td>632389</td>\n",
       "      <td>9.000000</td>\n",
       "      <td>8181047.0</td>\n",
       "      <td>5155.039</td>\n",
       "      <td>34.469</td>\n",
       "      <td>659978.250000</td>\n",
       "    </tr>\n",
       "  </tbody>\n",
       "</table>\n",
       "</div>"
      ],
      "text/plain": [
       "   Unnamed: 0       fecha departamento  susceptibles  infectados  recuperados  \\\n",
       "0           0  2020-03-02     amazonas       78830.0         0.0          0.0   \n",
       "1           1  2020-03-02    antioquia     6690977.0         0.0          0.0   \n",
       "2           2  2020-03-02       arauca      270708.0         0.0          0.0   \n",
       "3           3  2020-03-02    atlantico     2546138.0         0.0          0.0   \n",
       "4           4  2020-03-02       bogota     8181047.0         0.0          0.0   \n",
       "\n",
       "   decesos  cantidad_mayores_65        ipm  poblacion_total  personas_km2  \\\n",
       "0      0.0                 2791  81.690909          78830.0         0.719   \n",
       "1      0.0               576614  37.586400        6690977.0       105.184   \n",
       "2      0.0                13880  44.457143         270708.0        11.366   \n",
       "3      0.0               196909  37.326087        2546138.0       751.517   \n",
       "4      0.0               632389   9.000000        8181047.0      5155.039   \n",
       "\n",
       "   edad_promedio  promedio_morbilidades  \n",
       "0         25.420            2435.250000  \n",
       "1         34.628          779755.333333  \n",
       "2         29.092           13375.583333  \n",
       "3         32.435          306515.916667  \n",
       "4         34.469          659978.250000  "
      ]
     },
     "execution_count": 4,
     "metadata": {},
     "output_type": "execute_result"
    }
   ],
   "source": [
    "train_set.head()"
   ]
  },
  {
   "cell_type": "code",
   "execution_count": 5,
   "metadata": {},
   "outputs": [
    {
     "data": {
      "text/html": [
       "<div>\n",
       "<style scoped>\n",
       "    .dataframe tbody tr th:only-of-type {\n",
       "        vertical-align: middle;\n",
       "    }\n",
       "\n",
       "    .dataframe tbody tr th {\n",
       "        vertical-align: top;\n",
       "    }\n",
       "\n",
       "    .dataframe thead th {\n",
       "        text-align: right;\n",
       "    }\n",
       "</style>\n",
       "<table border=\"1\" class=\"dataframe\">\n",
       "  <thead>\n",
       "    <tr style=\"text-align: right;\">\n",
       "      <th></th>\n",
       "      <th>Unnamed: 0</th>\n",
       "      <th>fecha</th>\n",
       "      <th>departamento</th>\n",
       "      <th>susceptibles</th>\n",
       "      <th>infectados</th>\n",
       "      <th>recuperados</th>\n",
       "      <th>decesos</th>\n",
       "      <th>cantidad_mayores_65</th>\n",
       "      <th>ipm</th>\n",
       "      <th>poblacion_total</th>\n",
       "      <th>personas_km2</th>\n",
       "      <th>edad_promedio</th>\n",
       "      <th>promedio_morbilidades</th>\n",
       "    </tr>\n",
       "  </thead>\n",
       "  <tbody>\n",
       "    <tr>\n",
       "      <th>0</th>\n",
       "      <td>5478</td>\n",
       "      <td>2020-08-15</td>\n",
       "      <td>amazonas</td>\n",
       "      <td>73568.0</td>\n",
       "      <td>5.0</td>\n",
       "      <td>5.0</td>\n",
       "      <td>0.0</td>\n",
       "      <td>2791</td>\n",
       "      <td>81.690909</td>\n",
       "      <td>78830.0</td>\n",
       "      <td>0.719</td>\n",
       "      <td>25.420</td>\n",
       "      <td>2435.250000</td>\n",
       "    </tr>\n",
       "    <tr>\n",
       "      <th>1</th>\n",
       "      <td>5479</td>\n",
       "      <td>2020-08-15</td>\n",
       "      <td>antioquia</td>\n",
       "      <td>6581876.0</td>\n",
       "      <td>1687.0</td>\n",
       "      <td>442.0</td>\n",
       "      <td>28.0</td>\n",
       "      <td>576614</td>\n",
       "      <td>37.586400</td>\n",
       "      <td>6690977.0</td>\n",
       "      <td>105.184</td>\n",
       "      <td>34.628</td>\n",
       "      <td>779755.333333</td>\n",
       "    </tr>\n",
       "    <tr>\n",
       "      <th>2</th>\n",
       "      <td>5480</td>\n",
       "      <td>2020-08-15</td>\n",
       "      <td>arauca</td>\n",
       "      <td>269730.0</td>\n",
       "      <td>4.0</td>\n",
       "      <td>2.0</td>\n",
       "      <td>0.0</td>\n",
       "      <td>13880</td>\n",
       "      <td>44.457143</td>\n",
       "      <td>270708.0</td>\n",
       "      <td>11.366</td>\n",
       "      <td>29.092</td>\n",
       "      <td>13375.583333</td>\n",
       "    </tr>\n",
       "    <tr>\n",
       "      <th>3</th>\n",
       "      <td>5481</td>\n",
       "      <td>2020-08-15</td>\n",
       "      <td>atlantico</td>\n",
       "      <td>2428817.0</td>\n",
       "      <td>411.0</td>\n",
       "      <td>184.0</td>\n",
       "      <td>5.0</td>\n",
       "      <td>196909</td>\n",
       "      <td>37.326087</td>\n",
       "      <td>2546138.0</td>\n",
       "      <td>751.517</td>\n",
       "      <td>32.435</td>\n",
       "      <td>306515.916667</td>\n",
       "    </tr>\n",
       "    <tr>\n",
       "      <th>4</th>\n",
       "      <td>5482</td>\n",
       "      <td>2020-08-15</td>\n",
       "      <td>bogota</td>\n",
       "      <td>7902662.0</td>\n",
       "      <td>4221.0</td>\n",
       "      <td>638.0</td>\n",
       "      <td>58.0</td>\n",
       "      <td>632389</td>\n",
       "      <td>9.000000</td>\n",
       "      <td>8181047.0</td>\n",
       "      <td>5155.039</td>\n",
       "      <td>34.469</td>\n",
       "      <td>659978.250000</td>\n",
       "    </tr>\n",
       "  </tbody>\n",
       "</table>\n",
       "</div>"
      ],
      "text/plain": [
       "   Unnamed: 0       fecha departamento  susceptibles  infectados  recuperados  \\\n",
       "0        5478  2020-08-15     amazonas       73568.0         5.0          5.0   \n",
       "1        5479  2020-08-15    antioquia     6581876.0      1687.0        442.0   \n",
       "2        5480  2020-08-15       arauca      269730.0         4.0          2.0   \n",
       "3        5481  2020-08-15    atlantico     2428817.0       411.0        184.0   \n",
       "4        5482  2020-08-15       bogota     7902662.0      4221.0        638.0   \n",
       "\n",
       "   decesos  cantidad_mayores_65        ipm  poblacion_total  personas_km2  \\\n",
       "0      0.0                 2791  81.690909          78830.0         0.719   \n",
       "1     28.0               576614  37.586400        6690977.0       105.184   \n",
       "2      0.0                13880  44.457143         270708.0        11.366   \n",
       "3      5.0               196909  37.326087        2546138.0       751.517   \n",
       "4     58.0               632389   9.000000        8181047.0      5155.039   \n",
       "\n",
       "   edad_promedio  promedio_morbilidades  \n",
       "0         25.420            2435.250000  \n",
       "1         34.628          779755.333333  \n",
       "2         29.092           13375.583333  \n",
       "3         32.435          306515.916667  \n",
       "4         34.469          659978.250000  "
      ]
     },
     "execution_count": 5,
     "metadata": {},
     "output_type": "execute_result"
    }
   ],
   "source": [
    "test_set.head()"
   ]
  },
  {
   "cell_type": "code",
   "execution_count": 6,
   "metadata": {},
   "outputs": [],
   "source": [
    "train_departamento = train_set.groupby([\"departamento\", \"fecha\"])[\"infectados\"].sum()\n",
    "train_departamento = train_departamento.reset_index(drop=False)\n",
    "test_departamento = test_set.groupby([\"departamento\", \"fecha\"])[\"infectados\"].sum()\n",
    "test_departamento = test_departamento.reset_index(drop=False)"
   ]
  },
  {
   "cell_type": "code",
   "execution_count": 7,
   "metadata": {},
   "outputs": [
    {
     "data": {
      "text/html": [
       "<div>\n",
       "<style scoped>\n",
       "    .dataframe tbody tr th:only-of-type {\n",
       "        vertical-align: middle;\n",
       "    }\n",
       "\n",
       "    .dataframe tbody tr th {\n",
       "        vertical-align: top;\n",
       "    }\n",
       "\n",
       "    .dataframe thead th {\n",
       "        text-align: right;\n",
       "    }\n",
       "</style>\n",
       "<table border=\"1\" class=\"dataframe\">\n",
       "  <thead>\n",
       "    <tr style=\"text-align: right;\">\n",
       "      <th></th>\n",
       "      <th>departamento</th>\n",
       "      <th>fecha</th>\n",
       "      <th>infectados</th>\n",
       "    </tr>\n",
       "  </thead>\n",
       "  <tbody>\n",
       "    <tr>\n",
       "      <th>0</th>\n",
       "      <td>amazonas</td>\n",
       "      <td>2020-08-15</td>\n",
       "      <td>5.0</td>\n",
       "    </tr>\n",
       "    <tr>\n",
       "      <th>1</th>\n",
       "      <td>amazonas</td>\n",
       "      <td>2020-08-16</td>\n",
       "      <td>7.0</td>\n",
       "    </tr>\n",
       "    <tr>\n",
       "      <th>2</th>\n",
       "      <td>amazonas</td>\n",
       "      <td>2020-08-17</td>\n",
       "      <td>1.0</td>\n",
       "    </tr>\n",
       "    <tr>\n",
       "      <th>3</th>\n",
       "      <td>amazonas</td>\n",
       "      <td>2020-08-18</td>\n",
       "      <td>7.0</td>\n",
       "    </tr>\n",
       "    <tr>\n",
       "      <th>4</th>\n",
       "      <td>amazonas</td>\n",
       "      <td>2020-08-19</td>\n",
       "      <td>4.0</td>\n",
       "    </tr>\n",
       "  </tbody>\n",
       "</table>\n",
       "</div>"
      ],
      "text/plain": [
       "  departamento       fecha  infectados\n",
       "0     amazonas  2020-08-15         5.0\n",
       "1     amazonas  2020-08-16         7.0\n",
       "2     amazonas  2020-08-17         1.0\n",
       "3     amazonas  2020-08-18         7.0\n",
       "4     amazonas  2020-08-19         4.0"
      ]
     },
     "execution_count": 7,
     "metadata": {},
     "output_type": "execute_result"
    }
   ],
   "source": [
    "test_departamento.head()"
   ]
  },
  {
   "cell_type": "markdown",
   "metadata": {},
   "source": [
    "## ANTIOQUIA"
   ]
  },
  {
   "cell_type": "code",
   "execution_count": 8,
   "metadata": {},
   "outputs": [],
   "source": [
    "train_departamento_filter = train_departamento.loc[train_departamento.departamento == 'antioquia']\n",
    "test_departamento_filter = test_departamento.loc[test_departamento.departamento == 'antioquia']"
   ]
  },
  {
   "cell_type": "code",
   "execution_count": 9,
   "metadata": {},
   "outputs": [
    {
     "data": {
      "text/plain": [
       "166"
      ]
     },
     "execution_count": 9,
     "metadata": {},
     "output_type": "execute_result"
    }
   ],
   "source": [
    "len(train_departamento_filter)"
   ]
  },
  {
   "cell_type": "code",
   "execution_count": 10,
   "metadata": {},
   "outputs": [
    {
     "data": {
      "text/html": [
       "<div>\n",
       "<style scoped>\n",
       "    .dataframe tbody tr th:only-of-type {\n",
       "        vertical-align: middle;\n",
       "    }\n",
       "\n",
       "    .dataframe tbody tr th {\n",
       "        vertical-align: top;\n",
       "    }\n",
       "\n",
       "    .dataframe thead th {\n",
       "        text-align: right;\n",
       "    }\n",
       "</style>\n",
       "<table border=\"1\" class=\"dataframe\">\n",
       "  <thead>\n",
       "    <tr style=\"text-align: right;\">\n",
       "      <th></th>\n",
       "      <th>departamento</th>\n",
       "      <th>fecha</th>\n",
       "      <th>infectados</th>\n",
       "    </tr>\n",
       "  </thead>\n",
       "  <tbody>\n",
       "    <tr>\n",
       "      <th>327</th>\n",
       "      <td>antioquia</td>\n",
       "      <td>2020-08-10</td>\n",
       "      <td>2399.0</td>\n",
       "    </tr>\n",
       "    <tr>\n",
       "      <th>328</th>\n",
       "      <td>antioquia</td>\n",
       "      <td>2020-08-11</td>\n",
       "      <td>1747.0</td>\n",
       "    </tr>\n",
       "    <tr>\n",
       "      <th>329</th>\n",
       "      <td>antioquia</td>\n",
       "      <td>2020-08-12</td>\n",
       "      <td>1656.0</td>\n",
       "    </tr>\n",
       "    <tr>\n",
       "      <th>330</th>\n",
       "      <td>antioquia</td>\n",
       "      <td>2020-08-13</td>\n",
       "      <td>1613.0</td>\n",
       "    </tr>\n",
       "    <tr>\n",
       "      <th>331</th>\n",
       "      <td>antioquia</td>\n",
       "      <td>2020-08-14</td>\n",
       "      <td>1763.0</td>\n",
       "    </tr>\n",
       "  </tbody>\n",
       "</table>\n",
       "</div>"
      ],
      "text/plain": [
       "    departamento       fecha  infectados\n",
       "327    antioquia  2020-08-10      2399.0\n",
       "328    antioquia  2020-08-11      1747.0\n",
       "329    antioquia  2020-08-12      1656.0\n",
       "330    antioquia  2020-08-13      1613.0\n",
       "331    antioquia  2020-08-14      1763.0"
      ]
     },
     "execution_count": 10,
     "metadata": {},
     "output_type": "execute_result"
    }
   ],
   "source": [
    "train_departamento_filter.tail()"
   ]
  },
  {
   "cell_type": "code",
   "execution_count": 11,
   "metadata": {},
   "outputs": [
    {
     "data": {
      "text/plain": [
       "7"
      ]
     },
     "execution_count": 11,
     "metadata": {},
     "output_type": "execute_result"
    }
   ],
   "source": [
    "len(test_departamento_filter)"
   ]
  },
  {
   "cell_type": "code",
   "execution_count": 12,
   "metadata": {},
   "outputs": [
    {
     "data": {
      "text/html": [
       "<div>\n",
       "<style scoped>\n",
       "    .dataframe tbody tr th:only-of-type {\n",
       "        vertical-align: middle;\n",
       "    }\n",
       "\n",
       "    .dataframe tbody tr th {\n",
       "        vertical-align: top;\n",
       "    }\n",
       "\n",
       "    .dataframe thead th {\n",
       "        text-align: right;\n",
       "    }\n",
       "</style>\n",
       "<table border=\"1\" class=\"dataframe\">\n",
       "  <thead>\n",
       "    <tr style=\"text-align: right;\">\n",
       "      <th></th>\n",
       "      <th>departamento</th>\n",
       "      <th>fecha</th>\n",
       "      <th>infectados</th>\n",
       "    </tr>\n",
       "  </thead>\n",
       "  <tbody>\n",
       "    <tr>\n",
       "      <th>7</th>\n",
       "      <td>antioquia</td>\n",
       "      <td>2020-08-15</td>\n",
       "      <td>1687.0</td>\n",
       "    </tr>\n",
       "    <tr>\n",
       "      <th>8</th>\n",
       "      <td>antioquia</td>\n",
       "      <td>2020-08-16</td>\n",
       "      <td>1423.0</td>\n",
       "    </tr>\n",
       "    <tr>\n",
       "      <th>9</th>\n",
       "      <td>antioquia</td>\n",
       "      <td>2020-08-17</td>\n",
       "      <td>1034.0</td>\n",
       "    </tr>\n",
       "    <tr>\n",
       "      <th>10</th>\n",
       "      <td>antioquia</td>\n",
       "      <td>2020-08-18</td>\n",
       "      <td>1415.0</td>\n",
       "    </tr>\n",
       "    <tr>\n",
       "      <th>11</th>\n",
       "      <td>antioquia</td>\n",
       "      <td>2020-08-19</td>\n",
       "      <td>1525.0</td>\n",
       "    </tr>\n",
       "  </tbody>\n",
       "</table>\n",
       "</div>"
      ],
      "text/plain": [
       "   departamento       fecha  infectados\n",
       "7     antioquia  2020-08-15      1687.0\n",
       "8     antioquia  2020-08-16      1423.0\n",
       "9     antioquia  2020-08-17      1034.0\n",
       "10    antioquia  2020-08-18      1415.0\n",
       "11    antioquia  2020-08-19      1525.0"
      ]
     },
     "execution_count": 12,
     "metadata": {},
     "output_type": "execute_result"
    }
   ],
   "source": [
    "test_departamento_filter.head()"
   ]
  },
  {
   "cell_type": "code",
   "execution_count": 13,
   "metadata": {},
   "outputs": [
    {
     "data": {
      "text/plain": [
       "<Figure size 640x480 with 1 Axes>"
      ]
     },
     "metadata": {},
     "output_type": "display_data"
    }
   ],
   "source": [
    "import matplotlib.pyplot as plt\n",
    "plt.plot (train_departamento_filter['fecha'], train_departamento_filter['infectados']) \n",
    "plt.title ('Infected time serie - Antioquia') \n",
    "#plt.grid(True)\n",
    "plt.ylabel ('number of people infected')\n",
    "plt.show ()"
   ]
  },
  {
   "cell_type": "code",
   "execution_count": 14,
   "metadata": {},
   "outputs": [],
   "source": [
    "import numpy as np\n",
    "import pmdarima as pm"
   ]
  },
  {
   "cell_type": "code",
   "execution_count": 15,
   "metadata": {},
   "outputs": [
    {
     "data": {
      "image/png": "[encoded data removed]",
      "text/plain": [
       "<Figure size 1600x300 with 2 Axes>"
      ]
     },
     "execution_count": 15,
     "metadata": {},
     "output_type": "execute_result"
    },
    {
     "data": {
      "image/png": "[encoded data removed]",
      "text/plain": [
       "<Figure size 1600x300 with 2 Axes>"
      ]
     },
     "metadata": {
      "needs_background": "light"
     },
     "output_type": "display_data"
    }
   ],
   "source": [
    "from statsmodels.tsa.stattools import acf, pacf\n",
    "from statsmodels.graphics.tsaplots import plot_acf, plot_pacf\n",
    "\n",
    "# acf_50 = acf(df.value, nlags=20)\n",
    "# pacf_50 = pacf(df.value, nlags=20)\n",
    "\n",
    "# Draw Plot\n",
    "fig, axes = plt.subplots(1,2,figsize=(16,3), dpi= 100)\n",
    "plot_acf(train_departamento_filter['infectados'], lags=20, ax=axes[0])\n",
    "plot_pacf(train_departamento_filter['infectados'], lags=20, ax=axes[1])"
   ]
  },
  {
   "cell_type": "code",
   "execution_count": 16,
   "metadata": {},
   "outputs": [
    {
     "data": {
      "image/png": "[encoded data removed]",
      "text/plain": [
       "<Figure size 1000x300 with 8 Axes>"
      ]
     },
     "metadata": {
      "needs_background": "light"
     },
     "output_type": "display_data"
    }
   ],
   "source": [
    "from pandas.plotting import lag_plot\n",
    "plt.rcParams.update({'ytick.left' : False, 'axes.titlepad':10})\n",
    "\n",
    "# Plot\n",
    "fig, axes = plt.subplots(1, 8, figsize=(10,3), sharex=True, sharey=True, dpi=100)\n",
    "for i, ax in enumerate(axes.flatten()[:8]):\n",
    "    lag_plot(train_departamento_filter['infectados'], lag=i+1, ax=ax, c='firebrick')\n",
    "    ax.set_title('Lag ' + str(i+1))\n",
    "\n",
    "fig.suptitle('Lag Plots of Infected', y=1.05)    \n",
    "plt.show()"
   ]
  },
  {
   "cell_type": "code",
   "execution_count": 17,
   "metadata": {},
   "outputs": [
    {
     "name": "stderr",
     "output_type": "stream",
     "text": [
      "/Users/santiagocortes/opt/anaconda3/envs/tf2/lib/python3.7/site-packages/pmdarima/arima/_validation.py:60: UserWarning: m (12) set for non-seasonal fit. Setting to 0\n",
      "  warnings.warn(\"m (%i) set for non-seasonal fit. Setting to 0\" % m)\n"
     ]
    },
    {
     "name": "stdout",
     "output_type": "stream",
     "text": [
      "Performing stepwise search to minimize aic\n",
      " ARIMA(0,1,0)(0,0,0)[0] intercept   : AIC=2313.630, Time=0.02 sec\n",
      " ARIMA(1,1,0)(0,0,0)[0] intercept   : AIC=2271.868, Time=0.02 sec\n",
      " ARIMA(0,1,1)(0,0,0)[0] intercept   : AIC=2265.378, Time=0.06 sec\n",
      " ARIMA(0,1,0)(0,0,0)[0]             : AIC=2311.898, Time=0.01 sec\n",
      " ARIMA(1,1,1)(0,0,0)[0] intercept   : AIC=2267.310, Time=0.13 sec\n",
      " ARIMA(0,1,2)(0,0,0)[0] intercept   : AIC=2267.345, Time=0.09 sec\n",
      " ARIMA(1,1,2)(0,0,0)[0] intercept   : AIC=2269.026, Time=0.12 sec\n",
      " ARIMA(0,1,1)(0,0,0)[0]             : AIC=2265.512, Time=0.03 sec\n",
      "\n",
      "Best model:  ARIMA(0,1,1)(0,0,0)[0] intercept\n",
      "Total fit time: 0.477 seconds\n"
     ]
    },
    {
     "data": {
      "text/html": [
       "<table class=\"simpletable\">\n",
       "<caption>SARIMAX Results</caption>\n",
       "<tr>\n",
       "  <th>Dep. Variable:</th>           <td>y</td>        <th>  No. Observations:  </th>    <td>166</td>   \n",
       "</tr>\n",
       "<tr>\n",
       "  <th>Model:</th>           <td>SARIMAX(0, 1, 1)</td> <th>  Log Likelihood     </th> <td>-1129.689</td>\n",
       "</tr>\n",
       "<tr>\n",
       "  <th>Date:</th>            <td>Tue, 25 Aug 2020</td> <th>  AIC                </th> <td>2265.378</td> \n",
       "</tr>\n",
       "<tr>\n",
       "  <th>Time:</th>                <td>08:12:03</td>     <th>  BIC                </th> <td>2274.696</td> \n",
       "</tr>\n",
       "<tr>\n",
       "  <th>Sample:</th>                  <td>0</td>        <th>  HQIC               </th> <td>2269.160</td> \n",
       "</tr>\n",
       "<tr>\n",
       "  <th></th>                      <td> - 166</td>      <th>                     </th>     <td> </td>    \n",
       "</tr>\n",
       "<tr>\n",
       "  <th>Covariance Type:</th>        <td>opg</td>       <th>                     </th>     <td> </td>    \n",
       "</tr>\n",
       "</table>\n",
       "<table class=\"simpletable\">\n",
       "<tr>\n",
       "      <td></td>         <th>coef</th>     <th>std err</th>      <th>z</th>      <th>P>|z|</th>  <th>[0.025</th>    <th>0.975]</th>  \n",
       "</tr>\n",
       "<tr>\n",
       "  <th>intercept</th> <td>   10.7089</td> <td>    8.796</td> <td>    1.217</td> <td> 0.223</td> <td>   -6.531</td> <td>   27.949</td>\n",
       "</tr>\n",
       "<tr>\n",
       "  <th>ma.L1</th>     <td>   -0.6054</td> <td>    0.030</td> <td>  -20.291</td> <td> 0.000</td> <td>   -0.664</td> <td>   -0.547</td>\n",
       "</tr>\n",
       "<tr>\n",
       "  <th>sigma2</th>    <td> 5.167e+04</td> <td> 2106.487</td> <td>   24.530</td> <td> 0.000</td> <td> 4.75e+04</td> <td> 5.58e+04</td>\n",
       "</tr>\n",
       "</table>\n",
       "<table class=\"simpletable\">\n",
       "<tr>\n",
       "  <th>Ljung-Box (Q):</th>           <td>38.93</td> <th>  Jarque-Bera (JB):  </th> <td>1823.11</td>\n",
       "</tr>\n",
       "<tr>\n",
       "  <th>Prob(Q):</th>                 <td>0.52</td>  <th>  Prob(JB):          </th>  <td>0.00</td>  \n",
       "</tr>\n",
       "<tr>\n",
       "  <th>Heteroskedasticity (H):</th> <td>208.27</td> <th>  Skew:              </th>  <td>-0.07</td> \n",
       "</tr>\n",
       "<tr>\n",
       "  <th>Prob(H) (two-sided):</th>     <td>0.00</td>  <th>  Kurtosis:          </th>  <td>19.28</td> \n",
       "</tr>\n",
       "</table><br/><br/>Warnings:<br/>[1] Covariance matrix calculated using the outer product of gradients (complex-step)."
      ],
      "text/plain": [
       "<class 'statsmodels.iolib.summary.Summary'>\n",
       "\"\"\"\n",
       "                               SARIMAX Results                                \n",
       "==============================================================================\n",
       "Dep. Variable:                      y   No. Observations:                  166\n",
       "Model:               SARIMAX(0, 1, 1)   Log Likelihood               -1129.689\n",
       "Date:                Tue, 25 Aug 2020   AIC                           2265.378\n",
       "Time:                        08:12:03   BIC                           2274.696\n",
       "Sample:                             0   HQIC                          2269.160\n",
       "                                - 166                                         \n",
       "Covariance Type:                  opg                                         \n",
       "==============================================================================\n",
       "                 coef    std err          z      P>|z|      [0.025      0.975]\n",
       "------------------------------------------------------------------------------\n",
       "intercept     10.7089      8.796      1.217      0.223      -6.531      27.949\n",
       "ma.L1         -0.6054      0.030    -20.291      0.000      -0.664      -0.547\n",
       "sigma2      5.167e+04   2106.487     24.530      0.000    4.75e+04    5.58e+04\n",
       "===================================================================================\n",
       "Ljung-Box (Q):                       38.93   Jarque-Bera (JB):              1823.11\n",
       "Prob(Q):                              0.52   Prob(JB):                         0.00\n",
       "Heteroskedasticity (H):             208.27   Skew:                            -0.07\n",
       "Prob(H) (two-sided):                  0.00   Kurtosis:                        19.28\n",
       "===================================================================================\n",
       "\n",
       "Warnings:\n",
       "[1] Covariance matrix calculated using the outer product of gradients (complex-step).\n",
       "\"\"\""
      ]
     },
     "execution_count": 17,
     "metadata": {},
     "output_type": "execute_result"
    }
   ],
   "source": [
    "stepwise_fit = pm.auto_arima(train_departamento_filter['infectados'], start_p=0, start_q=0, max_p=7, max_q=8, m=12,\n",
    "                             start_P=0, seasonal=False, d=1, D=1, trace=True,\n",
    "                             error_action='ignore',  # don't want to know if an order does not work\n",
    "                             suppress_warnings=True,  # don't want convergence warnings\n",
    "                             stepwise=True)  # set to stepwise\n",
    "\n",
    "stepwise_fit.summary()"
   ]
  },
  {
   "cell_type": "code",
   "execution_count": 18,
   "metadata": {},
   "outputs": [
    {
     "data": {
      "text/html": [
       "\n",
       "    <div class=\"bk-root\">\n",
       "        <a href=\"https://bokeh.org\" target=\"_blank\" class=\"bk-logo bk-logo-small bk-logo-notebook\"></a>\n",
       "        <span id=\"1001\">Loading BokehJS ...</span>\n",
       "    </div>"
      ]
     },
     "metadata": {},
     "output_type": "display_data"
    },
    {
     "data": {
      "application/javascript": [
       "\n",
       "(function(root) {\n",
       "  function now() {\n",
       "    return new Date();\n",
       "  }\n",
       "\n",
       "  var force = true;\n",
       "\n",
       "  if (typeof root._bokeh_onload_callbacks === \"undefined\" || force === true) {\n",
       "    root._bokeh_onload_callbacks = [];\n",
       "    root._bokeh_is_loading = undefined;\n",
       "  }\n",
       "\n",
       "  var JS_MIME_TYPE = 'application/javascript';\n",
       "  var HTML_MIME_TYPE = 'text/html';\n",
       "  var EXEC_MIME_TYPE = 'application/vnd.bokehjs_exec.v0+json';\n",
       "  var CLASS_NAME = 'output_bokeh rendered_html';\n",
       "\n",
       "  /**\n",
       "   * Render data to the DOM node\n",
       "   */\n",
       "  function render(props, node) {\n",
       "    var script = document.createElement(\"script\");\n",
       "    node.appendChild(script);\n",
       "  }\n",
       "\n",
       "  /**\n",
       "   * Handle when an output is cleared or removed\n",
       "   */\n",
       "  function handleClearOutput(event, handle) {\n",
       "    var cell = handle.cell;\n",
       "\n",
       "    var id = cell.output_area._bokeh_element_id;\n",
       "    var server_id = cell.output_area._bokeh_server_id;\n",
       "    // Clean up Bokeh references\n",
       "    if (id != null && id in Bokeh.index) {\n",
       "      Bokeh.index[id].model.document.clear();\n",
       "      delete Bokeh.index[id];\n",
       "    }\n",
       "\n",
       "    if (server_id !== undefined) {\n",
       "      // Clean up Bokeh references\n",
       "      var cmd = \"from bokeh.io.state import curstate; print(curstate().uuid_to_server['\" + server_id + \"'].get_sessions()[0].document.roots[0]._id)\";\n",
       "      cell.notebook.kernel.execute(cmd, {\n",
       "        iopub: {\n",
       "          output: function(msg) {\n",
       "            var id = msg.content.text.trim();\n",
       "            if (id in Bokeh.index) {\n",
       "              Bokeh.index[id].model.document.clear();\n",
       "              delete Bokeh.index[id];\n",
       "            }\n",
       "          }\n",
       "        }\n",
       "      });\n",
       "      // Destroy server and session\n",
       "      var cmd = \"import bokeh.io.notebook as ion; ion.destroy_server('\" + server_id + \"')\";\n",
       "      cell.notebook.kernel.execute(cmd);\n",
       "    }\n",
       "  }\n",
       "\n",
       "  /**\n",
       "   * Handle when a new output is added\n",
       "   */\n",
       "  function handleAddOutput(event, handle) {\n",
       "    var output_area = handle.output_area;\n",
       "    var output = handle.output;\n",
       "\n",
       "    // limit handleAddOutput to display_data with EXEC_MIME_TYPE content only\n",
       "    if ((output.output_type != \"display_data\") || (!output.data.hasOwnProperty(EXEC_MIME_TYPE))) {\n",
       "      return\n",
       "    }\n",
       "\n",
       "    var toinsert = output_area.element.find(\".\" + CLASS_NAME.split(' ')[0]);\n",
       "\n",
       "    if (output.metadata[EXEC_MIME_TYPE][\"id\"] !== undefined) {\n",
       "      toinsert[toinsert.length - 1].firstChild.textContent = output.data[JS_MIME_TYPE];\n",
       "      // store reference to embed id on output_area\n",
       "      output_area._bokeh_element_id = output.metadata[EXEC_MIME_TYPE][\"id\"];\n",
       "    }\n",
       "    if (output.metadata[EXEC_MIME_TYPE][\"server_id\"] !== undefined) {\n",
       "      var bk_div = document.createElement(\"div\");\n",
       "      bk_div.innerHTML = output.data[HTML_MIME_TYPE];\n",
       "      var script_attrs = bk_div.children[0].attributes;\n",
       "      for (var i = 0; i < script_attrs.length; i++) {\n",
       "        toinsert[toinsert.length - 1].firstChild.setAttribute(script_attrs[i].name, script_attrs[i].value);\n",
       "        toinsert[toinsert.length - 1].firstChild.textContent = bk_div.children[0].textContent\n",
       "      }\n",
       "      // store reference to server id on output_area\n",
       "      output_area._bokeh_server_id = output.metadata[EXEC_MIME_TYPE][\"server_id\"];\n",
       "    }\n",
       "  }\n",
       "\n",
       "  function register_renderer(events, OutputArea) {\n",
       "\n",
       "    function append_mime(data, metadata, element) {\n",
       "      // create a DOM node to render to\n",
       "      var toinsert = this.create_output_subarea(\n",
       "        metadata,\n",
       "        CLASS_NAME,\n",
       "        EXEC_MIME_TYPE\n",
       "      );\n",
       "      this.keyboard_manager.register_events(toinsert);\n",
       "      // Render to node\n",
       "      var props = {data: data, metadata: metadata[EXEC_MIME_TYPE]};\n",
       "      render(props, toinsert[toinsert.length - 1]);\n",
       "      element.append(toinsert);\n",
       "      return toinsert\n",
       "    }\n",
       "\n",
       "    /* Handle when an output is cleared or removed */\n",
       "    events.on('clear_output.CodeCell', handleClearOutput);\n",
       "    events.on('delete.Cell', handleClearOutput);\n",
       "\n",
       "    /* Handle when a new output is added */\n",
       "    events.on('output_added.OutputArea', handleAddOutput);\n",
       "\n",
       "    /**\n",
       "     * Register the mime type and append_mime function with output_area\n",
       "     */\n",
       "    OutputArea.prototype.register_mime_type(EXEC_MIME_TYPE, append_mime, {\n",
       "      /* Is output safe? */\n",
       "      safe: true,\n",
       "      /* Index of renderer in `output_area.display_order` */\n",
       "      index: 0\n",
       "    });\n",
       "  }\n",
       "\n",
       "  // register the mime type if in Jupyter Notebook environment and previously unregistered\n",
       "  if (root.Jupyter !== undefined) {\n",
       "    var events = require('base/js/events');\n",
       "    var OutputArea = require('notebook/js/outputarea').OutputArea;\n",
       "\n",
       "    if (OutputArea.prototype.mime_types().indexOf(EXEC_MIME_TYPE) == -1) {\n",
       "      register_renderer(events, OutputArea);\n",
       "    }\n",
       "  }\n",
       "\n",
       "  \n",
       "  if (typeof (root._bokeh_timeout) === \"undefined\" || force === true) {\n",
       "    root._bokeh_timeout = Date.now() + 5000;\n",
       "    root._bokeh_failed_load = false;\n",
       "  }\n",
       "\n",
       "  var NB_LOAD_WARNING = {'data': {'text/html':\n",
       "     \"<div style='background-color: #fdd'>\\n\"+\n",
       "     \"<p>\\n\"+\n",
       "     \"BokehJS does not appear to have successfully loaded. If loading BokehJS from CDN, this \\n\"+\n",
       "     \"may be due to a slow or bad network connection. Possible fixes:\\n\"+\n",
       "     \"</p>\\n\"+\n",
       "     \"<ul>\\n\"+\n",
       "     \"<li>re-rerun `output_notebook()` to attempt to load from CDN again, or</li>\\n\"+\n",
       "     \"<li>use INLINE resources instead, as so:</li>\\n\"+\n",
       "     \"</ul>\\n\"+\n",
       "     \"<code>\\n\"+\n",
       "     \"from bokeh.resources import INLINE\\n\"+\n",
       "     \"output_notebook(resources=INLINE)\\n\"+\n",
       "     \"</code>\\n\"+\n",
       "     \"</div>\"}};\n",
       "\n",
       "  function display_loaded() {\n",
       "    var el = document.getElementById(\"1001\");\n",
       "    if (el != null) {\n",
       "      el.textContent = \"BokehJS is loading...\";\n",
       "    }\n",
       "    if (root.Bokeh !== undefined) {\n",
       "      if (el != null) {\n",
       "        el.textContent = \"BokehJS \" + root.Bokeh.version + \" successfully loaded.\";\n",
       "      }\n",
       "    } else if (Date.now() < root._bokeh_timeout) {\n",
       "      setTimeout(display_loaded, 100)\n",
       "    }\n",
       "  }\n",
       "\n",
       "\n",
       "  function run_callbacks() {\n",
       "    try {\n",
       "      root._bokeh_onload_callbacks.forEach(function(callback) {\n",
       "        if (callback != null)\n",
       "          callback();\n",
       "      });\n",
       "    } finally {\n",
       "      delete root._bokeh_onload_callbacks\n",
       "    }\n",
       "    console.debug(\"Bokeh: all callbacks have finished\");\n",
       "  }\n",
       "\n",
       "  function load_libs(css_urls, js_urls, callback) {\n",
       "    if (css_urls == null) css_urls = [];\n",
       "    if (js_urls == null) js_urls = [];\n",
       "\n",
       "    root._bokeh_onload_callbacks.push(callback);\n",
       "    if (root._bokeh_is_loading > 0) {\n",
       "      console.debug(\"Bokeh: BokehJS is being loaded, scheduling callback at\", now());\n",
       "      return null;\n",
       "    }\n",
       "    if (js_urls == null || js_urls.length === 0) {\n",
       "      run_callbacks();\n",
       "      return null;\n",
       "    }\n",
       "    console.debug(\"Bokeh: BokehJS not loaded, scheduling load and callback at\", now());\n",
       "    root._bokeh_is_loading = css_urls.length + js_urls.length;\n",
       "\n",
       "    function on_load() {\n",
       "      root._bokeh_is_loading--;\n",
       "      if (root._bokeh_is_loading === 0) {\n",
       "        console.debug(\"Bokeh: all BokehJS libraries/stylesheets loaded\");\n",
       "        run_callbacks()\n",
       "      }\n",
       "    }\n",
       "\n",
       "    function on_error() {\n",
       "      console.error(\"failed to load \" + url);\n",
       "    }\n",
       "\n",
       "    for (var i = 0; i < css_urls.length; i++) {\n",
       "      var url = css_urls[i];\n",
       "      const element = document.createElement(\"link\");\n",
       "      element.onload = on_load;\n",
       "      element.onerror = on_error;\n",
       "      element.rel = \"stylesheet\";\n",
       "      element.type = \"text/css\";\n",
       "      element.href = url;\n",
       "      console.debug(\"Bokeh: injecting link tag for BokehJS stylesheet: \", url);\n",
       "      document.body.appendChild(element);\n",
       "    }\n",
       "\n",
       "    const hashes = {\"https://cdn.bokeh.org/bokeh/release/bokeh-2.2.0.min.js\": \"jtq3UzIrk2TfDZfSNGEN0ICKrRWmtzZSQm6i1Xnd3hY3UfU9m98vuEL7JUv7Iway\", \"https://cdn.bokeh.org/bokeh/release/bokeh-widgets-2.2.0.min.js\": \"rRlSZb4FImflqQNhKcvkZq8b+FqcNFxP9CmCO8Vgo9uNXe6wk6yNMlKMrXn+TjeM\", \"https://cdn.bokeh.org/bokeh/release/bokeh-tables-2.2.0.min.js\": \"MJyUmyL5f4wPlABPEp4CF5HzMeAPMvzucE8gEGNH15tAWgHFb2hsPNIEkva89XtP\"};\n",
       "\n",
       "    for (var i = 0; i < js_urls.length; i++) {\n",
       "      var url = js_urls[i];\n",
       "      var element = document.createElement('script');\n",
       "      element.onload = on_load;\n",
       "      element.onerror = on_error;\n",
       "      element.async = false;\n",
       "      element.src = url;\n",
       "      if (url in hashes) {\n",
       "        element.crossOrigin = \"anonymous\";\n",
       "        element.integrity = \"sha384-\" + hashes[url];\n",
       "      }\n",
       "      console.debug(\"Bokeh: injecting script tag for BokehJS library: \", url);\n",
       "      document.head.appendChild(element);\n",
       "    }\n",
       "  };\n",
       "\n",
       "  function inject_raw_css(css) {\n",
       "    const element = document.createElement(\"style\");\n",
       "    element.appendChild(document.createTextNode(css));\n",
       "    document.body.appendChild(element);\n",
       "  }\n",
       "\n",
       "  \n",
       "  var js_urls = [\"https://cdn.bokeh.org/bokeh/release/bokeh-2.2.0.min.js\", \"https://cdn.bokeh.org/bokeh/release/bokeh-widgets-2.2.0.min.js\", \"https://cdn.bokeh.org/bokeh/release/bokeh-tables-2.2.0.min.js\"];\n",
       "  var css_urls = [];\n",
       "  \n",
       "\n",
       "  var inline_js = [\n",
       "    function(Bokeh) {\n",
       "      Bokeh.set_log_level(\"info\");\n",
       "    },\n",
       "    function(Bokeh) {\n",
       "    \n",
       "    \n",
       "    }\n",
       "  ];\n",
       "\n",
       "  function run_inline_js() {\n",
       "    \n",
       "    if (root.Bokeh !== undefined || force === true) {\n",
       "      \n",
       "    for (var i = 0; i < inline_js.length; i++) {\n",
       "      inline_js[i].call(root, root.Bokeh);\n",
       "    }\n",
       "    if (force === true) {\n",
       "        display_loaded();\n",
       "      }} else if (Date.now() < root._bokeh_timeout) {\n",
       "      setTimeout(run_inline_js, 100);\n",
       "    } else if (!root._bokeh_failed_load) {\n",
       "      console.log(\"Bokeh: BokehJS failed to load within specified timeout.\");\n",
       "      root._bokeh_failed_load = true;\n",
       "    } else if (force !== true) {\n",
       "      var cell = $(document.getElementById(\"1001\")).parents('.cell').data().cell;\n",
       "      cell.output_area.append_execute_result(NB_LOAD_WARNING)\n",
       "    }\n",
       "\n",
       "  }\n",
       "\n",
       "  if (root._bokeh_is_loading === 0) {\n",
       "    console.debug(\"Bokeh: BokehJS loaded, going straight to plotting\");\n",
       "    run_inline_js();\n",
       "  } else {\n",
       "    load_libs(css_urls, js_urls, function() {\n",
       "      console.debug(\"Bokeh: BokehJS plotting callback run at\", now());\n",
       "      run_inline_js();\n",
       "    });\n",
       "  }\n",
       "}(window));"
      ],
      "application/vnd.bokehjs_load.v0+json": "\n(function(root) {\n  function now() {\n    return new Date();\n  }\n\n  var force = true;\n\n  if (typeof root._bokeh_onload_callbacks === \"undefined\" || force === true) {\n    root._bokeh_onload_callbacks = [];\n    root._bokeh_is_loading = undefined;\n  }\n\n  \n\n  \n  if (typeof (root._bokeh_timeout) === \"undefined\" || force === true) {\n    root._bokeh_timeout = Date.now() + 5000;\n    root._bokeh_failed_load = false;\n  }\n\n  var NB_LOAD_WARNING = {'data': {'text/html':\n     \"<div style='background-color: #fdd'>\\n\"+\n     \"<p>\\n\"+\n     \"BokehJS does not appear to have successfully loaded. If loading BokehJS from CDN, this \\n\"+\n     \"may be due to a slow or bad network connection. Possible fixes:\\n\"+\n     \"</p>\\n\"+\n     \"<ul>\\n\"+\n     \"<li>re-rerun `output_notebook()` to attempt to load from CDN again, or</li>\\n\"+\n     \"<li>use INLINE resources instead, as so:</li>\\n\"+\n     \"</ul>\\n\"+\n     \"<code>\\n\"+\n     \"from bokeh.resources import INLINE\\n\"+\n     \"output_notebook(resources=INLINE)\\n\"+\n     \"</code>\\n\"+\n     \"</div>\"}};\n\n  function display_loaded() {\n    var el = document.getElementById(\"1001\");\n    if (el != null) {\n      el.textContent = \"BokehJS is loading...\";\n    }\n    if (root.Bokeh !== undefined) {\n      if (el != null) {\n        el.textContent = \"BokehJS \" + root.Bokeh.version + \" successfully loaded.\";\n      }\n    } else if (Date.now() < root._bokeh_timeout) {\n      setTimeout(display_loaded, 100)\n    }\n  }\n\n\n  function run_callbacks() {\n    try {\n      root._bokeh_onload_callbacks.forEach(function(callback) {\n        if (callback != null)\n          callback();\n      });\n    } finally {\n      delete root._bokeh_onload_callbacks\n    }\n    console.debug(\"Bokeh: all callbacks have finished\");\n  }\n\n  function load_libs(css_urls, js_urls, callback) {\n    if (css_urls == null) css_urls = [];\n    if (js_urls == null) js_urls = [];\n\n    root._bokeh_onload_callbacks.push(callback);\n    if (root._bokeh_is_loading > 0) {\n      console.debug(\"Bokeh: BokehJS is being loaded, scheduling callback at\", now());\n      return null;\n    }\n    if (js_urls == null || js_urls.length === 0) {\n      run_callbacks();\n      return null;\n    }\n    console.debug(\"Bokeh: BokehJS not loaded, scheduling load and callback at\", now());\n    root._bokeh_is_loading = css_urls.length + js_urls.length;\n\n    function on_load() {\n      root._bokeh_is_loading--;\n      if (root._bokeh_is_loading === 0) {\n        console.debug(\"Bokeh: all BokehJS libraries/stylesheets loaded\");\n        run_callbacks()\n      }\n    }\n\n    function on_error() {\n      console.error(\"failed to load \" + url);\n    }\n\n    for (var i = 0; i < css_urls.length; i++) {\n      var url = css_urls[i];\n      const element = document.createElement(\"link\");\n      element.onload = on_load;\n      element.onerror = on_error;\n      element.rel = \"stylesheet\";\n      element.type = \"text/css\";\n      element.href = url;\n      console.debug(\"Bokeh: injecting link tag for BokehJS stylesheet: \", url);\n      document.body.appendChild(element);\n    }\n\n    const hashes = {\"https://cdn.bokeh.org/bokeh/release/bokeh-2.2.0.min.js\": \"jtq3UzIrk2TfDZfSNGEN0ICKrRWmtzZSQm6i1Xnd3hY3UfU9m98vuEL7JUv7Iway\", \"https://cdn.bokeh.org/bokeh/release/bokeh-widgets-2.2.0.min.js\": \"rRlSZb4FImflqQNhKcvkZq8b+FqcNFxP9CmCO8Vgo9uNXe6wk6yNMlKMrXn+TjeM\", \"https://cdn.bokeh.org/bokeh/release/bokeh-tables-2.2.0.min.js\": \"MJyUmyL5f4wPlABPEp4CF5HzMeAPMvzucE8gEGNH15tAWgHFb2hsPNIEkva89XtP\"};\n\n    for (var i = 0; i < js_urls.length; i++) {\n      var url = js_urls[i];\n      var element = document.createElement('script');\n      element.onload = on_load;\n      element.onerror = on_error;\n      element.async = false;\n      element.src = url;\n      if (url in hashes) {\n        element.crossOrigin = \"anonymous\";\n        element.integrity = \"sha384-\" + hashes[url];\n      }\n      console.debug(\"Bokeh: injecting script tag for BokehJS library: \", url);\n      document.head.appendChild(element);\n    }\n  };\n\n  function inject_raw_css(css) {\n    const element = document.createElement(\"style\");\n    element.appendChild(document.createTextNode(css));\n    document.body.appendChild(element);\n  }\n\n  \n  var js_urls = [\"https://cdn.bokeh.org/bokeh/release/bokeh-2.2.0.min.js\", \"https://cdn.bokeh.org/bokeh/release/bokeh-widgets-2.2.0.min.js\", \"https://cdn.bokeh.org/bokeh/release/bokeh-tables-2.2.0.min.js\"];\n  var css_urls = [];\n  \n\n  var inline_js = [\n    function(Bokeh) {\n      Bokeh.set_log_level(\"info\");\n    },\n    function(Bokeh) {\n    \n    \n    }\n  ];\n\n  function run_inline_js() {\n    \n    if (root.Bokeh !== undefined || force === true) {\n      \n    for (var i = 0; i < inline_js.length; i++) {\n      inline_js[i].call(root, root.Bokeh);\n    }\n    if (force === true) {\n        display_loaded();\n      }} else if (Date.now() < root._bokeh_timeout) {\n      setTimeout(run_inline_js, 100);\n    } else if (!root._bokeh_failed_load) {\n      console.log(\"Bokeh: BokehJS failed to load within specified timeout.\");\n      root._bokeh_failed_load = true;\n    } else if (force !== true) {\n      var cell = $(document.getElementById(\"1001\")).parents('.cell').data().cell;\n      cell.output_area.append_execute_result(NB_LOAD_WARNING)\n    }\n\n  }\n\n  if (root._bokeh_is_loading === 0) {\n    console.debug(\"Bokeh: BokehJS loaded, going straight to plotting\");\n    run_inline_js();\n  } else {\n    load_libs(css_urls, js_urls, function() {\n      console.debug(\"Bokeh: BokehJS plotting callback run at\", now());\n      run_inline_js();\n    });\n  }\n}(window));"
     },
     "metadata": {},
     "output_type": "display_data"
    }
   ],
   "source": [
    "from bokeh.plotting import figure, show, output_notebook\n",
    "import pandas as pd\n",
    "\n",
    "# init bokeh\n",
    "output_notebook()\n",
    "\n",
    "def plot_arima(truth, forecasts, title=\"ARIMA\", xaxis_label='Time',\n",
    "               yaxis_label='Value', c1='#A6CEE3', c2='#B2DF8A', \n",
    "               forecast_start=None, **kwargs):\n",
    "    \n",
    "    # make truth and forecasts into pandas series\n",
    "    n_truth = truth.shape[0]\n",
    "    n_forecasts = forecasts.shape[0]\n",
    "    \n",
    "    # always plot truth the same\n",
    "    truth = pd.Series(truth, index=np.arange(truth.shape[0]))\n",
    "    \n",
    "    # if no defined forecast start, start at the end\n",
    "    if forecast_start is None:\n",
    "        idx = np.arange(n_truth, n_truth + n_forecasts)\n",
    "    else:\n",
    "        idx = np.arange(forecast_start, n_forecasts)\n",
    "    forecasts = pd.Series(forecasts, index=idx)\n",
    "    \n",
    "    # set up the plot\n",
    "    p = figure(title=title, plot_height=400, **kwargs)\n",
    "    p.grid.grid_line_alpha=0.3\n",
    "    p.xaxis.axis_label = xaxis_label\n",
    "    p.yaxis.axis_label = yaxis_label\n",
    "    \n",
    "    # add the lines\n",
    "    p.line(truth.index, truth.values, color=c1, legend='Observed')\n",
    "    p.line(forecasts.index, forecasts.values, color=c2, legend='Forecasted')\n",
    "    \n",
    "    return p"
   ]
  },
  {
   "cell_type": "code",
   "execution_count": 19,
   "metadata": {},
   "outputs": [
    {
     "data": {
      "text/plain": [
       "array([10.70886079, 11.0217457 , 15.65564571, 19.36575734, 22.07158816,\n",
       "       23.92113548, 25.13074025, 25.8992239 , 26.77349463, 26.91306957])"
      ]
     },
     "execution_count": 19,
     "metadata": {},
     "output_type": "execute_result"
    }
   ],
   "source": [
    "in_sample_preds = stepwise_fit.predict_in_sample()\n",
    "in_sample_preds[:10]"
   ]
  },
  {
   "cell_type": "code",
   "execution_count": 20,
   "metadata": {},
   "outputs": [
    {
     "name": "stderr",
     "output_type": "stream",
     "text": [
      "BokehDeprecationWarning: 'legend' keyword is deprecated, use explicit 'legend_label', 'legend_field', or 'legend_group' keywords instead\n",
      "BokehDeprecationWarning: 'legend' keyword is deprecated, use explicit 'legend_label', 'legend_field', or 'legend_group' keywords instead\n"
     ]
    },
    {
     "data": {
      "text/html": [
       "\n",
       "\n",
       "\n",
       "\n",
       "\n",
       "\n",
       "  <div class=\"bk-root\" id=\"18214187-de95-43d5-9b5f-e886c99f3a1d\" data-root-id=\"1002\"></div>\n"
      ]
     },
     "metadata": {},
     "output_type": "display_data"
    },
    {
     "data": {
      "application/javascript": [
       "(function(root) {\n",
       "  function embed_document(root) {\n",
       "    \n",
       "  var docs_json = {\"2f3eb321-ad4e-4245-9b29-0ba7abc8f053\":{\"roots\":{\"references\":[{\"attributes\":{\"below\":[{\"id\":\"1013\"}],\"center\":[{\"id\":\"1016\"},{\"id\":\"1020\"},{\"id\":\"1048\"}],\"left\":[{\"id\":\"1017\"}],\"plot_height\":400,\"renderers\":[{\"id\":\"1038\"},{\"id\":\"1053\"}],\"title\":{\"id\":\"1003\"},\"toolbar\":{\"id\":\"1028\"},\"x_range\":{\"id\":\"1005\"},\"x_scale\":{\"id\":\"1009\"},\"y_range\":{\"id\":\"1007\"},\"y_scale\":{\"id\":\"1011\"}},\"id\":\"1002\",\"subtype\":\"Figure\",\"type\":\"Plot\"},{\"attributes\":{\"data\":{\"x\":[0,1,2,3,4,5,6,7,8,9,10,11,12,13,14,15,16,17,18,19,20,21,22,23,24,25,26,27,28,29,30,31,32,33,34,35,36,37,38,39,40,41,42,43,44,45,46,47,48,49,50,51,52,53,54,55,56,57,58,59,60,61,62,63,64,65,66,67,68,69,70,71,72,73,74,75,76,77,78,79,80,81,82,83,84,85,86,87,88,89,90,91,92,93,94,95,96,97,98,99,100,101,102,103,104,105,106,107,108,109,110,111,112,113,114,115,116,117,118,119,120,121,122,123,124,125,126,127,128,129,130,131,132,133,134,135,136,137,138,139,140,141,142,143,144,145,146,147,148,149,150,151,152,153,154,155,156,157,158,159,160,161,162,163,164,165],\"y\":{\"__ndarray__\":\"hEw0ze9qJUAaSaZAIgsmQN/FhsuwTy9AesD6RaJdM0DpchSaUxI2QHRo14jP6zdAKiphMXghOUCoGZ+JM+Y5QJ4aar4DxjpAluVk7b7pOkBN1zpoBS88QNZFgmr+xDtAqoI1cuKEO0Ck4sxBMY08QM+ROj8kYzxAg5S0/KjkO0BxNg5rGJg7QCAuNEK/aTtAiYkrOsd8PEBs1EyOwCVAQAYNEu9ScT9AmFsRaU63P0C4Wa2ulUtDQExQm5XuCEFAE6COdMI+QUAxb3cydJY/QMuqouOi1D1AivoB94qHP0C605BxlaVCQDr2leKWnUJAJATSNC2cQUDk8cmI3TJBQNom8fxRtkNAUKFUGM/WREChbfiHwfRCQHRxdVexK0VAdDJ1kTpXREAH54vrq6BEQNXu/Q10JElAIaiRUCBdRUD4YmdHGKtDQIa3hWXWcUJALM1uNzwZQkCQrJhALOBCQEh7pcaoIkRAyMA4603pQ0AmHBfOAspCQLh6/5K64kNAuA3LTA8rQ0BGDSbOgYJEQFXuqcDP8ENASrx+Kn8EQkBmg7+jGqFCQBxmu4GRK0VAYuK3gpRaQ0C87AvzCXdBQO5keQHXhEBAcqF6DszuQEBcwd6HXTJAQI0dC6hTJUBAWpdLm9bVP0AKJu4nGCo/QGlnO9sR+D1A7/6nHP6cP0Al4tXFvdE/QPlSeT2dJz9AYly+kK+KP0AKPvs8oWE/QGzHx8TGSD9AuflYMaxvPkBtJoF5P+w9QDfDnJDOMD9AVI41mCctQEAPZ1zwvh5BQEkbTXv+sEFA1OG8JX+kQUDLerIscs9BQNhIJVwMS0NAeu1hRT3PQkBKDqVV7EpEQI+FPaStAURAQMHuWF46REDXQSUIaFJHQOuIzOBWgk9Abotgq+10UEDCNCEZ94xaQFg3/3M1wVlASCGAxQa8VEBS8aVw9PZTQO6bSKUxo1BAN7WGw7EzUEBptvdkxexQQARbRw66oVNAqBtwlSxsUUArp9fDyiRTQGWlVqKU+VRAMwL7dxmIUkCvYjAYpd9WQHtbQetYIldA1iuxS6MbVkB8ktG7flxXQKaT8lwYWFZAnrZSbEH3UkAQ2dj/YRdTQK6o8nc2TFhAAzuUvQ3nXkC9S9bUBPVgQBFoHOcexWFAqg/1Vt3UYEBAX+jAitdhQML7mEaf+2NAZJi7UA5FYkDu2kz9ddVkQBdkT5cCPmJAvC9wA0bSYECSf0xbxoZiQJt9fWVOgWdA2BPsWhrkaECgITdH06pqQCXc/GgfI2xA91vs4wVtaUA7bTW/9xZrQPcXkZYh/GxAetAwlIRPcUDRkSaZ7yByQEjZYNVBznVALLSX90iddUA2vIq0uot3QGG5XdQ2fnhATTVqQQkwe0BqzB26oGh/QFoZgGXFj4FAX89tNIIofUDq7XzdEM1+QHLPj8QDbntA3tqgitPbhEC4hgRQHoiGQL7vU+EPe4lAG4kzKe6+jEDiBi7UCTaRQF/klTV9gZBAATHa15SFkUDZ0KSKlC6WQP85a7NDI5RA1qUGwFWskUBX6KmuBvCSQCese2kmgJJAU1n/UYg0kkBc5Fjai2KXQNbMIs1OJpVA7i7Cg/rwlkAyILFv0WmZQOMQlFi4WJxAEfHqp0PgoUAnkE+K1/ChQOUer9De4aNAUFS0R0a4nkCcEJbJvFWbQBDUEHTRGZlAWuvy3+lSnEDOo4RY+ZeaQNMnxnSyKZpAFNaN/1XMnkByAdWhb5WdQEf3EJiUSZxAX75iqs88m0A=\",\"dtype\":\"float64\",\"order\":\"little\",\"shape\":[166]}},\"selected\":{\"id\":\"1062\"},\"selection_policy\":{\"id\":\"1063\"}},\"id\":\"1050\",\"type\":\"ColumnDataSource\"},{\"attributes\":{},\"id\":\"1062\",\"type\":\"Selection\"},{\"attributes\":{},\"id\":\"1042\",\"type\":\"BasicTickFormatter\"},{\"attributes\":{},\"id\":\"1063\",\"type\":\"UnionRenderers\"},{\"attributes\":{},\"id\":\"1024\",\"type\":\"SaveTool\"},{\"attributes\":{},\"id\":\"1021\",\"type\":\"PanTool\"},{\"attributes\":{\"line_color\":\"#FF0000\",\"x\":{\"field\":\"x\"},\"y\":{\"field\":\"y\"}},\"id\":\"1051\",\"type\":\"Line\"},{\"attributes\":{},\"id\":\"1007\",\"type\":\"DataRange1d\"},{\"attributes\":{\"data_source\":{\"id\":\"1050\"},\"glyph\":{\"id\":\"1051\"},\"hover_glyph\":null,\"muted_glyph\":null,\"nonselection_glyph\":{\"id\":\"1052\"},\"selection_glyph\":null,\"view\":{\"id\":\"1054\"}},\"id\":\"1053\",\"type\":\"GlyphRenderer\"},{\"attributes\":{},\"id\":\"1014\",\"type\":\"BasicTicker\"},{\"attributes\":{\"data_source\":{\"id\":\"1035\"},\"glyph\":{\"id\":\"1036\"},\"hover_glyph\":null,\"muted_glyph\":null,\"nonselection_glyph\":{\"id\":\"1037\"},\"selection_glyph\":null,\"view\":{\"id\":\"1039\"}},\"id\":\"1038\",\"type\":\"GlyphRenderer\"},{\"attributes\":{},\"id\":\"1026\",\"type\":\"HelpTool\"},{\"attributes\":{},\"id\":\"1046\",\"type\":\"UnionRenderers\"},{\"attributes\":{\"active_drag\":\"auto\",\"active_inspect\":\"auto\",\"active_multi\":null,\"active_scroll\":\"auto\",\"active_tap\":\"auto\",\"tools\":[{\"id\":\"1021\"},{\"id\":\"1022\"},{\"id\":\"1023\"},{\"id\":\"1024\"},{\"id\":\"1025\"},{\"id\":\"1026\"}]},\"id\":\"1028\",\"type\":\"Toolbar\"},{\"attributes\":{},\"id\":\"1005\",\"type\":\"DataRange1d\"},{\"attributes\":{\"data\":{\"x\":[0,1,2,3,4,5,6,7,8,9,10,11,12,13,14,15,16,17,18,19,20,21,22,23,24,25,26,27,28,29,30,31,32,33,34,35,36,37,38,39,40,41,42,43,44,45,46,47,48,49,50,51,52,53,54,55,56,57,58,59,60,61,62,63,64,65,66,67,68,69,70,71,72,73,74,75,76,77,78,79,80,81,82,83,84,85,86,87,88,89,90,91,92,93,94,95,96,97,98,99,100,101,102,103,104,105,106,107,108,109,110,111,112,113,114,115,116,117,118,119,120,121,122,123,124,125,126,127,128,129,130,131,132,133,134,135,136,137,138,139,140,141,142,143,144,145,146,147,148,149,150,151,152,153,154,155,156,157,158,159,160,161,162,163,164,165],\"y\":{\"__ndarray__\":\"AAAAAAAA+H8AAAAAAAD4fwAAAAAAAPh/AAAAAAAA+H8AAAAAAAD4fwAAAAAAAPh/AAAAAAAA+H8AAAAAAAD4fwAAAAAAAPh/AAAAAAAA+H8AAAAAAAD4fwAAAAAAAPh/AAAAAAAA+H8AAAAAAAD4fwAAAAAAAPh/AAAAAAAA+H8AAAAAAAD4fwAAAAAAAPh/AAAAAAAA+H8AAAAAAAD4fwAAAAAAAPh/AAAAAAAA+H8AAAAAAAD4fwAAAAAAAPh/AAAAAAAA+H8AAAAAAAD4fwAAAAAAAPh/AAAAAAAA+H8AAAAAAAD4fwAAAAAAAPh/AAAAAAAA+H8AAAAAAAD4fwAAAAAAAPh/AAAAAAAA+H8AAAAAAAD4fwAAAAAAAPh/AAAAAAAA+H8AAAAAAAD4fwAAAAAAAPh/AAAAAAAA+H8AAAAAAAD4fwAAAAAAAPh/AAAAAAAA+H8AAAAAAAD4fwAAAAAAAPh/AAAAAAAA+H8AAAAAAAD4fwAAAAAAAPh/AAAAAAAA+H8AAAAAAAD4fwAAAAAAAPh/AAAAAAAA+H8AAAAAAAD4fwAAAAAAAPh/AAAAAAAA+H8AAAAAAAD4fwAAAAAAAPh/AAAAAAAA+H8AAAAAAAD4fwAAAAAAAPh/AAAAAAAA+H8AAAAAAAD4fwAAAAAAAPh/AAAAAAAA+H8AAAAAAAD4fwAAAAAAAPh/AAAAAAAA+H8AAAAAAAD4fwAAAAAAAPh/AAAAAAAA+H8AAAAAAAD4fwAAAAAAAPh/AAAAAAAA+H8AAAAAAAD4fwAAAAAAAPh/AAAAAAAA+H8AAAAAAAD4fwAAAAAAAPh/AAAAAAAA+H8AAAAAAAD4fwAAAAAAAPh/AAAAAAAA+H8AAAAAAAD4fwAAAAAAAPh/AAAAAAAA+H8AAAAAAAD4fwAAAAAAAPh/AAAAAAAA+H8AAAAAAAD4fwAAAAAAAPh/AAAAAAAA+H8AAAAAAAD4fwAAAAAAAPh/AAAAAAAA+H8AAAAAAAD4fwAAAAAAAPh/AAAAAAAA+H8AAAAAAAD4fwAAAAAAAPh/AAAAAAAA+H8AAAAAAAD4fwAAAAAAAPh/AAAAAAAA+H8AAAAAAAD4fwAAAAAAAPh/AAAAAAAA+H8AAAAAAAD4fwAAAAAAAPh/AAAAAAAA+H8AAAAAAAD4fwAAAAAAAPh/AAAAAAAA+H8AAAAAAAD4fwAAAAAAAPh/AAAAAAAA+H8AAAAAAAD4fwAAAAAAAPh/AAAAAAAA+H8AAAAAAAD4fwAAAAAAAPh/AAAAAAAA+H8AAAAAAAD4fwAAAAAAAPh/AAAAAAAA+H8AAAAAAAD4fwAAAAAAAPh/AAAAAAAA+H8AAAAAAAD4fwAAAAAAAPh/AAAAAAAA+H8AAAAAAAD4fwAAAAAAAPh/AAAAAAAA+H8AAAAAAAD4fwAAAAAAAPh/AAAAAAAA+H8AAAAAAAD4fwAAAAAAAPh/AAAAAAAA+H8AAAAAAAD4fwAAAAAAAPh/AAAAAAAA+H8AAAAAAAD4fwAAAAAAAPh/AAAAAAAA+H8AAAAAAAD4fwAAAAAAAPh/AAAAAAAA+H8AAAAAAAD4fwAAAAAAAPh/AAAAAAAA+H8AAAAAAAD4fwAAAAAAAPh/AAAAAAAA+H8AAAAAAAD4fwAAAAAAAPh/AAAAAAAA+H8AAAAAAAD4fwAAAAAAAPh/AAAAAAAA+H8AAAAAAAD4fwAAAAAAAPh/AAAAAAAA+H8AAAAAAAD4fwAAAAAAAPh/AAAAAAAA+H8=\",\"dtype\":\"float64\",\"order\":\"little\",\"shape\":[166]}},\"selected\":{\"id\":\"1045\"},\"selection_policy\":{\"id\":\"1046\"}},\"id\":\"1035\",\"type\":\"ColumnDataSource\"},{\"attributes\":{\"source\":{\"id\":\"1050\"}},\"id\":\"1054\",\"type\":\"CDSView\"},{\"attributes\":{\"line_alpha\":0.1,\"line_color\":\"#A6CEE3\",\"x\":{\"field\":\"x\"},\"y\":{\"field\":\"y\"}},\"id\":\"1037\",\"type\":\"Line\"},{\"attributes\":{\"line_alpha\":0.1,\"line_color\":\"#FF0000\",\"x\":{\"field\":\"x\"},\"y\":{\"field\":\"y\"}},\"id\":\"1052\",\"type\":\"Line\"},{\"attributes\":{\"source\":{\"id\":\"1035\"}},\"id\":\"1039\",\"type\":\"CDSView\"},{\"attributes\":{\"axis_label\":\"Time\",\"formatter\":{\"id\":\"1042\"},\"ticker\":{\"id\":\"1014\"}},\"id\":\"1013\",\"type\":\"LinearAxis\"},{\"attributes\":{},\"id\":\"1022\",\"type\":\"WheelZoomTool\"},{\"attributes\":{\"bottom_units\":\"screen\",\"fill_alpha\":0.5,\"fill_color\":\"lightgrey\",\"left_units\":\"screen\",\"level\":\"overlay\",\"line_alpha\":1.0,\"line_color\":\"black\",\"line_dash\":[4,4],\"line_width\":2,\"right_units\":\"screen\",\"top_units\":\"screen\"},\"id\":\"1027\",\"type\":\"BoxAnnotation\"},{\"attributes\":{\"axis_label\":\"Value\",\"formatter\":{\"id\":\"1044\"},\"ticker\":{\"id\":\"1018\"}},\"id\":\"1017\",\"type\":\"LinearAxis\"},{\"attributes\":{},\"id\":\"1025\",\"type\":\"ResetTool\"},{\"attributes\":{\"label\":{\"value\":\"Observed\"},\"renderers\":[{\"id\":\"1038\"}]},\"id\":\"1049\",\"type\":\"LegendItem\"},{\"attributes\":{},\"id\":\"1018\",\"type\":\"BasicTicker\"},{\"attributes\":{},\"id\":\"1044\",\"type\":\"BasicTickFormatter\"},{\"attributes\":{\"axis\":{\"id\":\"1013\"},\"grid_line_alpha\":0.3,\"ticker\":null},\"id\":\"1016\",\"type\":\"Grid\"},{\"attributes\":{},\"id\":\"1045\",\"type\":\"Selection\"},{\"attributes\":{\"label\":{\"value\":\"Forecasted\"},\"renderers\":[{\"id\":\"1053\"}]},\"id\":\"1065\",\"type\":\"LegendItem\"},{\"attributes\":{\"line_color\":\"#A6CEE3\",\"x\":{\"field\":\"x\"},\"y\":{\"field\":\"y\"}},\"id\":\"1036\",\"type\":\"Line\"},{\"attributes\":{\"axis\":{\"id\":\"1017\"},\"dimension\":1,\"grid_line_alpha\":0.3,\"ticker\":null},\"id\":\"1020\",\"type\":\"Grid\"},{\"attributes\":{\"overlay\":{\"id\":\"1027\"}},\"id\":\"1023\",\"type\":\"BoxZoomTool\"},{\"attributes\":{\"text\":\"Original Series & In-sample Predictions\"},\"id\":\"1003\",\"type\":\"Title\"},{\"attributes\":{},\"id\":\"1009\",\"type\":\"LinearScale\"},{\"attributes\":{},\"id\":\"1011\",\"type\":\"LinearScale\"},{\"attributes\":{\"items\":[{\"id\":\"1049\"},{\"id\":\"1065\"}]},\"id\":\"1048\",\"type\":\"Legend\"}],\"root_ids\":[\"1002\"]},\"title\":\"Bokeh Application\",\"version\":\"2.2.0\"}};\n",
       "  var render_items = [{\"docid\":\"2f3eb321-ad4e-4245-9b29-0ba7abc8f053\",\"root_ids\":[\"1002\"],\"roots\":{\"1002\":\"18214187-de95-43d5-9b5f-e886c99f3a1d\"}}];\n",
       "  root.Bokeh.embed.embed_items_notebook(docs_json, render_items);\n",
       "\n",
       "  }\n",
       "  if (root.Bokeh !== undefined) {\n",
       "    embed_document(root);\n",
       "  } else {\n",
       "    var attempts = 0;\n",
       "    var timer = setInterval(function(root) {\n",
       "      if (root.Bokeh !== undefined) {\n",
       "        clearInterval(timer);\n",
       "        embed_document(root);\n",
       "      } else {\n",
       "        attempts++;\n",
       "        if (attempts > 100) {\n",
       "          clearInterval(timer);\n",
       "          console.log(\"Bokeh: ERROR: Unable to run BokehJS code because BokehJS library is missing\");\n",
       "        }\n",
       "      }\n",
       "    }, 10, root)\n",
       "  }\n",
       "})(window);"
      ],
      "application/vnd.bokehjs_exec.v0+json": ""
     },
     "metadata": {
      "application/vnd.bokehjs_exec.v0+json": {
       "id": "1002"
      }
     },
     "output_type": "display_data"
    }
   ],
   "source": [
    "show(plot_arima(train_departamento_filter['infectados'], in_sample_preds, \n",
    "                title=\"Original Series & In-sample Predictions\", \n",
    "                c2='#FF0000', forecast_start=0))"
   ]
  },
  {
   "cell_type": "markdown",
   "metadata": {},
   "source": [
    "## Predicciones Futuras"
   ]
  },
  {
   "cell_type": "code",
   "execution_count": 21,
   "metadata": {},
   "outputs": [
    {
     "name": "stderr",
     "output_type": "stream",
     "text": [
      "BokehDeprecationWarning: 'legend' keyword is deprecated, use explicit 'legend_label', 'legend_field', or 'legend_group' keywords instead\n",
      "BokehDeprecationWarning: 'legend' keyword is deprecated, use explicit 'legend_label', 'legend_field', or 'legend_group' keywords instead\n"
     ]
    },
    {
     "data": {
      "text/html": [
       "\n",
       "\n",
       "\n",
       "\n",
       "\n",
       "\n",
       "  <div class=\"bk-root\" id=\"ddaee9aa-b862-4f25-af3a-5c48d485a5bf\" data-root-id=\"1136\"></div>\n"
      ]
     },
     "metadata": {},
     "output_type": "display_data"
    },
    {
     "data": {
      "application/javascript": [
       "(function(root) {\n",
       "  function embed_document(root) {\n",
       "    \n",
       "  var docs_json = {\"654beb7c-f107-4871-9196-731a6274d73d\":{\"roots\":{\"references\":[{\"attributes\":{\"below\":[{\"id\":\"1147\"}],\"center\":[{\"id\":\"1150\"},{\"id\":\"1154\"},{\"id\":\"1182\"}],\"left\":[{\"id\":\"1151\"}],\"plot_height\":400,\"renderers\":[{\"id\":\"1172\"},{\"id\":\"1187\"}],\"title\":{\"id\":\"1137\"},\"toolbar\":{\"id\":\"1162\"},\"x_range\":{\"id\":\"1139\"},\"x_scale\":{\"id\":\"1143\"},\"y_range\":{\"id\":\"1141\"},\"y_scale\":{\"id\":\"1145\"}},\"id\":\"1136\",\"subtype\":\"Figure\",\"type\":\"Plot\"},{\"attributes\":{\"label\":{\"value\":\"Forecasted\"},\"renderers\":[{\"id\":\"1187\"}]},\"id\":\"1199\",\"type\":\"LegendItem\"},{\"attributes\":{\"axis\":{\"id\":\"1147\"},\"grid_line_alpha\":0.3,\"ticker\":null},\"id\":\"1150\",\"type\":\"Grid\"},{\"attributes\":{\"data\":{\"x\":[0,1,2,3,4,5,6,7,8,9,10,11,12,13,14,15,16,17,18,19,20,21,22,23,24,25,26,27,28,29,30,31,32,33,34,35,36,37,38,39,40,41,42,43,44,45,46,47,48,49,50,51,52,53,54,55,56,57,58,59,60,61,62,63,64,65,66,67,68,69,70,71,72,73,74,75,76,77,78,79,80,81,82,83,84,85,86,87,88,89,90,91,92,93,94,95,96,97,98,99,100,101,102,103,104,105,106,107,108,109,110,111,112,113,114,115,116,117,118,119,120,121,122,123,124,125,126,127,128,129,130,131,132,133,134,135,136,137,138,139,140,141,142,143,144,145,146,147,148,149,150,151,152,153,154,155,156,157,158,159,160,161,162,163,164,165],\"y\":{\"__ndarray__\":\"AAAAAAAA+H8AAAAAAAD4fwAAAAAAAPh/AAAAAAAA+H8AAAAAAAD4fwAAAAAAAPh/AAAAAAAA+H8AAAAAAAD4fwAAAAAAAPh/AAAAAAAA+H8AAAAAAAD4fwAAAAAAAPh/AAAAAAAA+H8AAAAAAAD4fwAAAAAAAPh/AAAAAAAA+H8AAAAAAAD4fwAAAAAAAPh/AAAAAAAA+H8AAAAAAAD4fwAAAAAAAPh/AAAAAAAA+H8AAAAAAAD4fwAAAAAAAPh/AAAAAAAA+H8AAAAAAAD4fwAAAAAAAPh/AAAAAAAA+H8AAAAAAAD4fwAAAAAAAPh/AAAAAAAA+H8AAAAAAAD4fwAAAAAAAPh/AAAAAAAA+H8AAAAAAAD4fwAAAAAAAPh/AAAAAAAA+H8AAAAAAAD4fwAAAAAAAPh/AAAAAAAA+H8AAAAAAAD4fwAAAAAAAPh/AAAAAAAA+H8AAAAAAAD4fwAAAAAAAPh/AAAAAAAA+H8AAAAAAAD4fwAAAAAAAPh/AAAAAAAA+H8AAAAAAAD4fwAAAAAAAPh/AAAAAAAA+H8AAAAAAAD4fwAAAAAAAPh/AAAAAAAA+H8AAAAAAAD4fwAAAAAAAPh/AAAAAAAA+H8AAAAAAAD4fwAAAAAAAPh/AAAAAAAA+H8AAAAAAAD4fwAAAAAAAPh/AAAAAAAA+H8AAAAAAAD4fwAAAAAAAPh/AAAAAAAA+H8AAAAAAAD4fwAAAAAAAPh/AAAAAAAA+H8AAAAAAAD4fwAAAAAAAPh/AAAAAAAA+H8AAAAAAAD4fwAAAAAAAPh/AAAAAAAA+H8AAAAAAAD4fwAAAAAAAPh/AAAAAAAA+H8AAAAAAAD4fwAAAAAAAPh/AAAAAAAA+H8AAAAAAAD4fwAAAAAAAPh/AAAAAAAA+H8AAAAAAAD4fwAAAAAAAPh/AAAAAAAA+H8AAAAAAAD4fwAAAAAAAPh/AAAAAAAA+H8AAAAAAAD4fwAAAAAAAPh/AAAAAAAA+H8AAAAAAAD4fwAAAAAAAPh/AAAAAAAA+H8AAAAAAAD4fwAAAAAAAPh/AAAAAAAA+H8AAAAAAAD4fwAAAAAAAPh/AAAAAAAA+H8AAAAAAAD4fwAAAAAAAPh/AAAAAAAA+H8AAAAAAAD4fwAAAAAAAPh/AAAAAAAA+H8AAAAAAAD4fwAAAAAAAPh/AAAAAAAA+H8AAAAAAAD4fwAAAAAAAPh/AAAAAAAA+H8AAAAAAAD4fwAAAAAAAPh/AAAAAAAA+H8AAAAAAAD4fwAAAAAAAPh/AAAAAAAA+H8AAAAAAAD4fwAAAAAAAPh/AAAAAAAA+H8AAAAAAAD4fwAAAAAAAPh/AAAAAAAA+H8AAAAAAAD4fwAAAAAAAPh/AAAAAAAA+H8AAAAAAAD4fwAAAAAAAPh/AAAAAAAA+H8AAAAAAAD4fwAAAAAAAPh/AAAAAAAA+H8AAAAAAAD4fwAAAAAAAPh/AAAAAAAA+H8AAAAAAAD4fwAAAAAAAPh/AAAAAAAA+H8AAAAAAAD4fwAAAAAAAPh/AAAAAAAA+H8AAAAAAAD4fwAAAAAAAPh/AAAAAAAA+H8AAAAAAAD4fwAAAAAAAPh/AAAAAAAA+H8AAAAAAAD4fwAAAAAAAPh/AAAAAAAA+H8AAAAAAAD4fwAAAAAAAPh/AAAAAAAA+H8AAAAAAAD4fwAAAAAAAPh/AAAAAAAA+H8AAAAAAAD4fwAAAAAAAPh/AAAAAAAA+H8AAAAAAAD4fwAAAAAAAPh/AAAAAAAA+H8=\",\"dtype\":\"float64\",\"order\":\"little\",\"shape\":[166]}},\"selected\":{\"id\":\"1179\"},\"selection_policy\":{\"id\":\"1180\"}},\"id\":\"1169\",\"type\":\"ColumnDataSource\"},{\"attributes\":{},\"id\":\"1160\",\"type\":\"HelpTool\"},{\"attributes\":{\"overlay\":{\"id\":\"1161\"}},\"id\":\"1157\",\"type\":\"BoxZoomTool\"},{\"attributes\":{\"axis\":{\"id\":\"1151\"},\"dimension\":1,\"grid_line_alpha\":0.3,\"ticker\":null},\"id\":\"1154\",\"type\":\"Grid\"},{\"attributes\":{\"text\":\"ARIMA\"},\"id\":\"1137\",\"type\":\"Title\"},{\"attributes\":{\"source\":{\"id\":\"1184\"}},\"id\":\"1188\",\"type\":\"CDSView\"},{\"attributes\":{},\"id\":\"1156\",\"type\":\"WheelZoomTool\"},{\"attributes\":{},\"id\":\"1152\",\"type\":\"BasicTicker\"},{\"attributes\":{},\"id\":\"1141\",\"type\":\"DataRange1d\"},{\"attributes\":{\"line_color\":\"#B2DF8A\",\"x\":{\"field\":\"x\"},\"y\":{\"field\":\"y\"}},\"id\":\"1185\",\"type\":\"Line\"},{\"attributes\":{\"label\":{\"value\":\"Observed\"},\"renderers\":[{\"id\":\"1172\"}]},\"id\":\"1183\",\"type\":\"LegendItem\"},{\"attributes\":{},\"id\":\"1158\",\"type\":\"SaveTool\"},{\"attributes\":{\"line_alpha\":0.1,\"line_color\":\"#A6CEE3\",\"x\":{\"field\":\"x\"},\"y\":{\"field\":\"y\"}},\"id\":\"1171\",\"type\":\"Line\"},{\"attributes\":{\"data_source\":{\"id\":\"1184\"},\"glyph\":{\"id\":\"1185\"},\"hover_glyph\":null,\"muted_glyph\":null,\"nonselection_glyph\":{\"id\":\"1186\"},\"selection_glyph\":null,\"view\":{\"id\":\"1188\"}},\"id\":\"1187\",\"type\":\"GlyphRenderer\"},{\"attributes\":{},\"id\":\"1148\",\"type\":\"BasicTicker\"},{\"attributes\":{\"active_drag\":\"auto\",\"active_inspect\":\"auto\",\"active_multi\":null,\"active_scroll\":\"auto\",\"active_tap\":\"auto\",\"tools\":[{\"id\":\"1155\"},{\"id\":\"1156\"},{\"id\":\"1157\"},{\"id\":\"1158\"},{\"id\":\"1159\"},{\"id\":\"1160\"}]},\"id\":\"1162\",\"type\":\"Toolbar\"},{\"attributes\":{\"source\":{\"id\":\"1169\"}},\"id\":\"1173\",\"type\":\"CDSView\"},{\"attributes\":{},\"id\":\"1143\",\"type\":\"LinearScale\"},{\"attributes\":{},\"id\":\"1179\",\"type\":\"Selection\"},{\"attributes\":{\"items\":[{\"id\":\"1183\"},{\"id\":\"1199\"}]},\"id\":\"1182\",\"type\":\"Legend\"},{\"attributes\":{},\"id\":\"1197\",\"type\":\"UnionRenderers\"},{\"attributes\":{\"line_alpha\":0.1,\"line_color\":\"#B2DF8A\",\"x\":{\"field\":\"x\"},\"y\":{\"field\":\"y\"}},\"id\":\"1186\",\"type\":\"Line\"},{\"attributes\":{},\"id\":\"1176\",\"type\":\"BasicTickFormatter\"},{\"attributes\":{},\"id\":\"1180\",\"type\":\"UnionRenderers\"},{\"attributes\":{\"axis_label\":\"Value\",\"formatter\":{\"id\":\"1178\"},\"ticker\":{\"id\":\"1152\"}},\"id\":\"1151\",\"type\":\"LinearAxis\"},{\"attributes\":{\"data\":{\"x\":[166,167,168,169,170,171,172],\"y\":{\"__ndarray__\":\"i07U7uWGm0Akt27Ou7GbQL0fCa6R3JtAVoijjWcHnEDv8D1tPTKcQIhZ2EwTXZxAIcJyLOmHnEA=\",\"dtype\":\"float64\",\"order\":\"little\",\"shape\":[7]}},\"selected\":{\"id\":\"1196\"},\"selection_policy\":{\"id\":\"1197\"}},\"id\":\"1184\",\"type\":\"ColumnDataSource\"},{\"attributes\":{},\"id\":\"1155\",\"type\":\"PanTool\"},{\"attributes\":{\"line_color\":\"#A6CEE3\",\"x\":{\"field\":\"x\"},\"y\":{\"field\":\"y\"}},\"id\":\"1170\",\"type\":\"Line\"},{\"attributes\":{\"axis_label\":\"Time\",\"formatter\":{\"id\":\"1176\"},\"ticker\":{\"id\":\"1148\"}},\"id\":\"1147\",\"type\":\"LinearAxis\"},{\"attributes\":{\"bottom_units\":\"screen\",\"fill_alpha\":0.5,\"fill_color\":\"lightgrey\",\"left_units\":\"screen\",\"level\":\"overlay\",\"line_alpha\":1.0,\"line_color\":\"black\",\"line_dash\":[4,4],\"line_width\":2,\"right_units\":\"screen\",\"top_units\":\"screen\"},\"id\":\"1161\",\"type\":\"BoxAnnotation\"},{\"attributes\":{},\"id\":\"1178\",\"type\":\"BasicTickFormatter\"},{\"attributes\":{},\"id\":\"1196\",\"type\":\"Selection\"},{\"attributes\":{\"data_source\":{\"id\":\"1169\"},\"glyph\":{\"id\":\"1170\"},\"hover_glyph\":null,\"muted_glyph\":null,\"nonselection_glyph\":{\"id\":\"1171\"},\"selection_glyph\":null,\"view\":{\"id\":\"1173\"}},\"id\":\"1172\",\"type\":\"GlyphRenderer\"},{\"attributes\":{},\"id\":\"1139\",\"type\":\"DataRange1d\"},{\"attributes\":{},\"id\":\"1159\",\"type\":\"ResetTool\"},{\"attributes\":{},\"id\":\"1145\",\"type\":\"LinearScale\"}],\"root_ids\":[\"1136\"]},\"title\":\"Bokeh Application\",\"version\":\"2.2.0\"}};\n",
       "  var render_items = [{\"docid\":\"654beb7c-f107-4871-9196-731a6274d73d\",\"root_ids\":[\"1136\"],\"roots\":{\"1136\":\"ddaee9aa-b862-4f25-af3a-5c48d485a5bf\"}}];\n",
       "  root.Bokeh.embed.embed_items_notebook(docs_json, render_items);\n",
       "\n",
       "  }\n",
       "  if (root.Bokeh !== undefined) {\n",
       "    embed_document(root);\n",
       "  } else {\n",
       "    var attempts = 0;\n",
       "    var timer = setInterval(function(root) {\n",
       "      if (root.Bokeh !== undefined) {\n",
       "        clearInterval(timer);\n",
       "        embed_document(root);\n",
       "      } else {\n",
       "        attempts++;\n",
       "        if (attempts > 100) {\n",
       "          clearInterval(timer);\n",
       "          console.log(\"Bokeh: ERROR: Unable to run BokehJS code because BokehJS library is missing\");\n",
       "        }\n",
       "      }\n",
       "    }, 10, root)\n",
       "  }\n",
       "})(window);"
      ],
      "application/vnd.bokehjs_exec.v0+json": ""
     },
     "metadata": {
      "application/vnd.bokehjs_exec.v0+json": {
       "id": "1136"
      }
     },
     "output_type": "display_data"
    }
   ],
   "source": [
    "next_5 = stepwise_fit.predict(n_periods=7)\n",
    "show(plot_arima(train_departamento_filter['infectados'], next_5))"
   ]
  },
  {
   "cell_type": "code",
   "execution_count": 22,
   "metadata": {},
   "outputs": [],
   "source": [
    "## función MAPE\n",
    "\n",
    "def mean_absolute_percentage_error(y_true, y_pred): \n",
    "    y_true, y_pred = np.array(y_true), np.array(y_pred)\n",
    "    return np.mean(np.abs((y_true - y_pred) / ((1/2)*(abs(y_true) + abs(y_pred))))) * 100"
   ]
  },
  {
   "cell_type": "code",
   "execution_count": 23,
   "metadata": {},
   "outputs": [
    {
     "data": {
      "text/plain": [
       "32.84788875249577"
      ]
     },
     "execution_count": 23,
     "metadata": {},
     "output_type": "execute_result"
    }
   ],
   "source": [
    "mean_absolute_percentage_error(test_departamento_filter['infectados'], next_5)"
   ]
  },
  {
   "cell_type": "markdown",
   "metadata": {},
   "source": [
    "## CUNDINAMARCA"
   ]
  },
  {
   "cell_type": "code",
   "execution_count": 24,
   "metadata": {},
   "outputs": [],
   "source": [
    "train_departamento_filter = train_departamento.loc[train_departamento.departamento == 'cundinamarca']\n",
    "test_departamento_filter = test_departamento.loc[test_departamento.departamento == 'cundinamarca']"
   ]
  },
  {
   "cell_type": "code",
   "execution_count": 25,
   "metadata": {},
   "outputs": [
    {
     "data": {
      "image/png": "[encoded data removed]",
      "text/plain": [
       "<Figure size 432x288 with 1 Axes>"
      ]
     },
     "metadata": {
      "needs_background": "light"
     },
     "output_type": "display_data"
    }
   ],
   "source": [
    "import matplotlib.pyplot as plt\n",
    "plt.plot (train_departamento_filter['fecha'], train_departamento_filter['infectados']) \n",
    "plt.title ('Infected time serie - Cundinamarca') \n",
    "#plt.grid(True)\n",
    "plt.ylabel ('number of people infected')\n",
    "plt.show ()"
   ]
  },
  {
   "cell_type": "code",
   "execution_count": 26,
   "metadata": {},
   "outputs": [
    {
     "data": {
      "image/png": "[encoded data removed]",
      "text/plain": [
       "<Figure size 1600x300 with 2 Axes>"
      ]
     },
     "execution_count": 26,
     "metadata": {},
     "output_type": "execute_result"
    },
    {
     "data": {
      "image/png": "[encoded data removed]",
      "text/plain": [
       "<Figure size 1600x300 with 2 Axes>"
      ]
     },
     "metadata": {
      "needs_background": "light"
     },
     "output_type": "display_data"
    }
   ],
   "source": [
    "# Draw Plot\n",
    "fig, axes = plt.subplots(1,2,figsize=(16,3), dpi= 100)\n",
    "plot_acf(train_departamento_filter['infectados'], lags=20, ax=axes[0])\n",
    "plot_pacf(train_departamento_filter['infectados'], lags=20, ax=axes[1])"
   ]
  },
  {
   "cell_type": "code",
   "execution_count": 27,
   "metadata": {},
   "outputs": [
    {
     "data": {
      "image/png": "[encoded data removed]",
      "text/plain": [
       "<Figure size 1000x300 with 8 Axes>"
      ]
     },
     "metadata": {
      "needs_background": "light"
     },
     "output_type": "display_data"
    }
   ],
   "source": [
    "from pandas.plotting import lag_plot\n",
    "plt.rcParams.update({'ytick.left' : False, 'axes.titlepad':10})\n",
    "\n",
    "# Plot\n",
    "fig, axes = plt.subplots(1, 8, figsize=(10,3), sharex=True, sharey=True, dpi=100)\n",
    "for i, ax in enumerate(axes.flatten()[:8]):\n",
    "    lag_plot(train_departamento_filter['infectados'], lag=i+1, ax=ax, c='firebrick')\n",
    "    ax.set_title('Lag ' + str(i+1))\n",
    "\n",
    "fig.suptitle('Lag Plots of Infected', y=1.05)    \n",
    "plt.show()"
   ]
  },
  {
   "cell_type": "code",
   "execution_count": 28,
   "metadata": {},
   "outputs": [
    {
     "name": "stderr",
     "output_type": "stream",
     "text": [
      "/Users/santiagocortes/opt/anaconda3/envs/tf2/lib/python3.7/site-packages/pmdarima/arima/_validation.py:60: UserWarning: m (12) set for non-seasonal fit. Setting to 0\n",
      "  warnings.warn(\"m (%i) set for non-seasonal fit. Setting to 0\" % m)\n"
     ]
    },
    {
     "name": "stdout",
     "output_type": "stream",
     "text": [
      "Performing stepwise search to minimize aic\n",
      " ARIMA(0,1,0)(0,0,0)[0] intercept   : AIC=1867.981, Time=0.01 sec\n",
      " ARIMA(1,1,0)(0,0,0)[0] intercept   : AIC=1852.734, Time=0.03 sec\n",
      " ARIMA(0,1,1)(0,0,0)[0] intercept   : AIC=1836.647, Time=0.04 sec\n",
      " ARIMA(0,1,0)(0,0,0)[0]             : AIC=1866.167, Time=0.01 sec\n",
      " ARIMA(1,1,1)(0,0,0)[0] intercept   : AIC=1826.756, Time=0.06 sec\n",
      " ARIMA(2,1,1)(0,0,0)[0] intercept   : AIC=1828.709, Time=0.15 sec\n",
      " ARIMA(1,1,2)(0,0,0)[0] intercept   : AIC=1828.732, Time=0.13 sec\n",
      " ARIMA(0,1,2)(0,0,0)[0] intercept   : AIC=1828.522, Time=0.07 sec\n",
      " ARIMA(2,1,0)(0,0,0)[0] intercept   : AIC=1850.012, Time=0.05 sec\n",
      " ARIMA(2,1,2)(0,0,0)[0] intercept   : AIC=1822.206, Time=0.20 sec\n",
      " ARIMA(3,1,2)(0,0,0)[0] intercept   : AIC=1818.334, Time=0.24 sec\n",
      " ARIMA(3,1,1)(0,0,0)[0] intercept   : AIC=1826.885, Time=0.17 sec\n",
      " ARIMA(4,1,2)(0,0,0)[0] intercept   : AIC=1819.663, Time=0.28 sec\n",
      " ARIMA(3,1,3)(0,0,0)[0] intercept   : AIC=inf, Time=0.31 sec\n",
      " ARIMA(2,1,3)(0,0,0)[0] intercept   : AIC=1810.695, Time=0.25 sec\n",
      " ARIMA(1,1,3)(0,0,0)[0] intercept   : AIC=1810.173, Time=0.15 sec\n",
      " ARIMA(0,1,3)(0,0,0)[0] intercept   : AIC=1827.339, Time=0.14 sec\n",
      " ARIMA(1,1,4)(0,0,0)[0] intercept   : AIC=1810.986, Time=0.24 sec\n",
      " ARIMA(0,1,4)(0,0,0)[0] intercept   : AIC=1826.029, Time=0.16 sec\n",
      " ARIMA(2,1,4)(0,0,0)[0] intercept   : AIC=inf, Time=0.31 sec\n",
      " ARIMA(1,1,3)(0,0,0)[0]             : AIC=1813.249, Time=0.09 sec\n",
      "\n",
      "Best model:  ARIMA(1,1,3)(0,0,0)[0] intercept\n",
      "Total fit time: 3.088 seconds\n"
     ]
    },
    {
     "data": {
      "text/html": [
       "<table class=\"simpletable\">\n",
       "<caption>SARIMAX Results</caption>\n",
       "<tr>\n",
       "  <th>Dep. Variable:</th>           <td>y</td>        <th>  No. Observations:  </th>    <td>166</td>  \n",
       "</tr>\n",
       "<tr>\n",
       "  <th>Model:</th>           <td>SARIMAX(1, 1, 3)</td> <th>  Log Likelihood     </th> <td>-899.086</td>\n",
       "</tr>\n",
       "<tr>\n",
       "  <th>Date:</th>            <td>Tue, 25 Aug 2020</td> <th>  AIC                </th> <td>1810.173</td>\n",
       "</tr>\n",
       "<tr>\n",
       "  <th>Time:</th>                <td>08:12:10</td>     <th>  BIC                </th> <td>1828.809</td>\n",
       "</tr>\n",
       "<tr>\n",
       "  <th>Sample:</th>                  <td>0</td>        <th>  HQIC               </th> <td>1817.738</td>\n",
       "</tr>\n",
       "<tr>\n",
       "  <th></th>                      <td> - 166</td>      <th>                     </th>     <td> </td>   \n",
       "</tr>\n",
       "<tr>\n",
       "  <th>Covariance Type:</th>        <td>opg</td>       <th>                     </th>     <td> </td>   \n",
       "</tr>\n",
       "</table>\n",
       "<table class=\"simpletable\">\n",
       "<tr>\n",
       "      <td></td>         <th>coef</th>     <th>std err</th>      <th>z</th>      <th>P>|z|</th>  <th>[0.025</th>    <th>0.975]</th>  \n",
       "</tr>\n",
       "<tr>\n",
       "  <th>intercept</th> <td>    4.7545</td> <td>    2.918</td> <td>    1.629</td> <td> 0.103</td> <td>   -0.965</td> <td>   10.474</td>\n",
       "</tr>\n",
       "<tr>\n",
       "  <th>ar.L1</th>     <td>   -0.9090</td> <td>    0.026</td> <td>  -35.215</td> <td> 0.000</td> <td>   -0.960</td> <td>   -0.858</td>\n",
       "</tr>\n",
       "<tr>\n",
       "  <th>ma.L1</th>     <td>    0.5426</td> <td>    0.053</td> <td>   10.148</td> <td> 0.000</td> <td>    0.438</td> <td>    0.647</td>\n",
       "</tr>\n",
       "<tr>\n",
       "  <th>ma.L2</th>     <td>   -0.6345</td> <td>    0.055</td> <td>  -11.601</td> <td> 0.000</td> <td>   -0.742</td> <td>   -0.527</td>\n",
       "</tr>\n",
       "<tr>\n",
       "  <th>ma.L3</th>     <td>   -0.4905</td> <td>    0.051</td> <td>   -9.691</td> <td> 0.000</td> <td>   -0.590</td> <td>   -0.391</td>\n",
       "</tr>\n",
       "<tr>\n",
       "  <th>sigma2</th>    <td> 3138.1478</td> <td>  228.905</td> <td>   13.709</td> <td> 0.000</td> <td> 2689.503</td> <td> 3586.792</td>\n",
       "</tr>\n",
       "</table>\n",
       "<table class=\"simpletable\">\n",
       "<tr>\n",
       "  <th>Ljung-Box (Q):</th>          <td>56.52</td> <th>  Jarque-Bera (JB):  </th> <td>242.26</td>\n",
       "</tr>\n",
       "<tr>\n",
       "  <th>Prob(Q):</th>                <td>0.04</td>  <th>  Prob(JB):          </th>  <td>0.00</td> \n",
       "</tr>\n",
       "<tr>\n",
       "  <th>Heteroskedasticity (H):</th> <td>88.47</td> <th>  Skew:              </th>  <td>1.30</td> \n",
       "</tr>\n",
       "<tr>\n",
       "  <th>Prob(H) (two-sided):</th>    <td>0.00</td>  <th>  Kurtosis:          </th>  <td>8.34</td> \n",
       "</tr>\n",
       "</table><br/><br/>Warnings:<br/>[1] Covariance matrix calculated using the outer product of gradients (complex-step)."
      ],
      "text/plain": [
       "<class 'statsmodels.iolib.summary.Summary'>\n",
       "\"\"\"\n",
       "                               SARIMAX Results                                \n",
       "==============================================================================\n",
       "Dep. Variable:                      y   No. Observations:                  166\n",
       "Model:               SARIMAX(1, 1, 3)   Log Likelihood                -899.086\n",
       "Date:                Tue, 25 Aug 2020   AIC                           1810.173\n",
       "Time:                        08:12:10   BIC                           1828.809\n",
       "Sample:                             0   HQIC                          1817.738\n",
       "                                - 166                                         \n",
       "Covariance Type:                  opg                                         \n",
       "==============================================================================\n",
       "                 coef    std err          z      P>|z|      [0.025      0.975]\n",
       "------------------------------------------------------------------------------\n",
       "intercept      4.7545      2.918      1.629      0.103      -0.965      10.474\n",
       "ar.L1         -0.9090      0.026    -35.215      0.000      -0.960      -0.858\n",
       "ma.L1          0.5426      0.053     10.148      0.000       0.438       0.647\n",
       "ma.L2         -0.6345      0.055    -11.601      0.000      -0.742      -0.527\n",
       "ma.L3         -0.4905      0.051     -9.691      0.000      -0.590      -0.391\n",
       "sigma2      3138.1478    228.905     13.709      0.000    2689.503    3586.792\n",
       "===================================================================================\n",
       "Ljung-Box (Q):                       56.52   Jarque-Bera (JB):               242.26\n",
       "Prob(Q):                              0.04   Prob(JB):                         0.00\n",
       "Heteroskedasticity (H):              88.47   Skew:                             1.30\n",
       "Prob(H) (two-sided):                  0.00   Kurtosis:                         8.34\n",
       "===================================================================================\n",
       "\n",
       "Warnings:\n",
       "[1] Covariance matrix calculated using the outer product of gradients (complex-step).\n",
       "\"\"\""
      ]
     },
     "execution_count": 28,
     "metadata": {},
     "output_type": "execute_result"
    }
   ],
   "source": [
    "stepwise_fit = pm.auto_arima(train_departamento_filter['infectados'], start_p=0, start_q=0, max_p=7, max_q=8, m=12,\n",
    "                             start_P=0, seasonal=False, d=1, D=1, trace=True,\n",
    "                             error_action='ignore',  # don't want to know if an order does not work\n",
    "                             suppress_warnings=True,  # don't want convergence warnings\n",
    "                             stepwise=True)  # set to stepwise\n",
    "\n",
    "stepwise_fit.summary()"
   ]
  },
  {
   "cell_type": "code",
   "execution_count": 29,
   "metadata": {},
   "outputs": [
    {
     "data": {
      "text/plain": [
       "array([2.49050631, 2.49389723, 3.21859965, 3.65932618, 5.05631284,\n",
       "       4.85448627, 6.24635037, 6.13035699, 7.14621097, 7.36776878])"
      ]
     },
     "execution_count": 29,
     "metadata": {},
     "output_type": "execute_result"
    }
   ],
   "source": [
    "in_sample_preds = stepwise_fit.predict_in_sample()\n",
    "in_sample_preds[:10]"
   ]
  },
  {
   "cell_type": "code",
   "execution_count": 30,
   "metadata": {},
   "outputs": [
    {
     "name": "stderr",
     "output_type": "stream",
     "text": [
      "BokehDeprecationWarning: 'legend' keyword is deprecated, use explicit 'legend_label', 'legend_field', or 'legend_group' keywords instead\n",
      "BokehDeprecationWarning: 'legend' keyword is deprecated, use explicit 'legend_label', 'legend_field', or 'legend_group' keywords instead\n"
     ]
    },
    {
     "data": {
      "text/html": [
       "\n",
       "\n",
       "\n",
       "\n",
       "\n",
       "\n",
       "  <div class=\"bk-root\" id=\"0186b323-adce-4625-88f5-c814bcb3a440\" data-root-id=\"1280\"></div>\n"
      ]
     },
     "metadata": {},
     "output_type": "display_data"
    },
    {
     "data": {
      "application/javascript": [
       "(function(root) {\n",
       "  function embed_document(root) {\n",
       "    \n",
       "  var docs_json = {\"866b48d7-7eb9-4de8-b4c0-4a938e373a47\":{\"roots\":{\"references\":[{\"attributes\":{\"below\":[{\"id\":\"1291\"}],\"center\":[{\"id\":\"1294\"},{\"id\":\"1298\"},{\"id\":\"1326\"}],\"left\":[{\"id\":\"1295\"}],\"plot_height\":400,\"renderers\":[{\"id\":\"1316\"},{\"id\":\"1331\"}],\"title\":{\"id\":\"1281\"},\"toolbar\":{\"id\":\"1306\"},\"x_range\":{\"id\":\"1283\"},\"x_scale\":{\"id\":\"1287\"},\"y_range\":{\"id\":\"1285\"},\"y_scale\":{\"id\":\"1289\"}},\"id\":\"1280\",\"subtype\":\"Figure\",\"type\":\"Plot\"},{\"attributes\":{\"line_alpha\":0.1,\"line_color\":\"#FF0000\",\"x\":{\"field\":\"x\"},\"y\":{\"field\":\"y\"}},\"id\":\"1330\",\"type\":\"Line\"},{\"attributes\":{},\"id\":\"1303\",\"type\":\"ResetTool\"},{\"attributes\":{},\"id\":\"1341\",\"type\":\"UnionRenderers\"},{\"attributes\":{},\"id\":\"1340\",\"type\":\"Selection\"},{\"attributes\":{\"data_source\":{\"id\":\"1313\"},\"glyph\":{\"id\":\"1314\"},\"hover_glyph\":null,\"muted_glyph\":null,\"nonselection_glyph\":{\"id\":\"1315\"},\"selection_glyph\":null,\"view\":{\"id\":\"1317\"}},\"id\":\"1316\",\"type\":\"GlyphRenderer\"},{\"attributes\":{\"line_color\":\"#A6CEE3\",\"x\":{\"field\":\"x\"},\"y\":{\"field\":\"y\"}},\"id\":\"1314\",\"type\":\"Line\"},{\"attributes\":{\"data\":{\"x\":[0,1,2,3,4,5,6,7,8,9,10,11,12,13,14,15,16,17,18,19,20,21,22,23,24,25,26,27,28,29,30,31,32,33,34,35,36,37,38,39,40,41,42,43,44,45,46,47,48,49,50,51,52,53,54,55,56,57,58,59,60,61,62,63,64,65,66,67,68,69,70,71,72,73,74,75,76,77,78,79,80,81,82,83,84,85,86,87,88,89,90,91,92,93,94,95,96,97,98,99,100,101,102,103,104,105,106,107,108,109,110,111,112,113,114,115,116,117,118,119,120,121,122,123,124,125,126,127,128,129,130,131,132,133,134,135,136,137,138,139,140,141,142,143,144,145,146,147,148,149,150,151,152,153,154,155,156,157,158,159,160,161,162,163,164,165],\"y\":{\"__ndarray__\":\"nuuYko7sA0DDil9kgPMDQL/C7yyxvwlAXB9/zkxGDUDSIgUTqjkUQDBwBnP+ahNAOGA9RUP8GECTu9dNfIUYQOK64VO4lRxAZ/9XYZh4HUDWZkCoGLUfQMvYtMXMwiBA8ooyhKtGIUCRVc5+eT0iQJFNO79E0SNAS0pLZ+1wJEDyOpGzq+glQJ582eyjUiRAtnx+oU6iJUDpYBTKpj0sQCagObtHJCZA7HTbgxQvJkBnc796wbgtQPwsE1EZ6y1AAv2MdSa+KUDS44yGC98nQKPBcGY14SlAkl40uuxQKkCuVQzkkngnQGA+h6ENiS5AbHSawqBxMUAdVuykdhotQGzA5xtJ1CtANvfG9sf/LEBdvy1FXyExQAQjzoAvNC5AFt/gCGUHLkD06HMqu2cwQAU+RL/xui5ADOmfCCbQMkA4jdocW382QIrdeti2TTlAb3P8ye7gMEBuEKZ3UDUwQJggIKxfozNAHorym46hMUDU98xWTPMvQGpQOKklfjVA/le8XqRjM0CMjPH9VRsuQFPnqSZfFDZAxvSlVk4mMUDEbYaN8Q0yQJCGNn6kYzBAFybhPOVWNEAYZ6LC1mIwQNuiXa4PuzNAw2XH5ge2MEDTKUaQtXIvQPZ8/ZH6RjFAbVhdh8kcMUBeDr1mWjIvQAxY9cUrEi9APVsDtwEsNEDbh4fcHoMuQNj7tRDH+y5A7BnmP5GlL0CKXSpzZe0uQH9x2lUH0zFAVmtBkyigJkCuTq6jUx8zQBV7HZE4byxAHnvy8ePPOUAD0rqoFhgqQCIJu1/tdDFAp1bD9e/OOkDhGST/7WsrQOZCvdebNDhA4UbuK2fmMkDe2e5SIYk1QJQHLwzEHzNAzTlNEjSCMUD7JQUDc101QNJVzEDNxz9ACnS6M9YiQkAB4gBoPRlLQFrMLag7c0dAmw9FPhABRUD0oiF1zChTQKD3OIY2bERA2bH1VouKSUDV1kBoo+NKQMscqMXsVFFA0yYaGPSHT0C4KPwYALJKQHuvDPWJJVFAVd2xMuA7S0AOvOS5bu5LQAf+kk9yak1Atq0x1/OUWkDgc5L+8YBKQK7zKWyeZkpAfhT82r5gWkCCVXmKKexHQKoWz4ZE81ZAFs7jH+8MSEC4Jg5xNPNHQFO3F4ltEVNAvYwVeydWQEA8A/BJGdVVQLDFHrUg9ExA8EIf4TGkTUC6M8VAz2hMQPz9tJ2NZklAn0rv22QCWEDogv3qTRFLQNExc9m9elZAc9Ole2SAWUA+Ctlj1HtKQPaVKi4Rn1lAjbQysd8eT0DkhgezSz9dQOAavbVEqF9A3PtB49pRXUAC2cTbjopYQKYFJHz8UFhAZp9sCPLMWUCORhrDsPJDQHLiCqEYpVxA2U4Cb1uyU0CXNCdtHUZoQD/FdYLnSGtAVOKywhaHVEDXH9GxlgJkQOKdqapkPWJA+bzIyGwuYEBaE1Z28CxpQKjPvzf5Nm5ACqxYujy3ckBwFTHh0PdnQO0ewn2avmxALcgpW93LZ0DDTrdTd2plQJZghPU7L2tA0Dl7cVuDaEDE4vkWaFFvQNujWNIxJWZAf0HJK1LmY0APTm+IvlRtQKR4PLhSymFA4WUZHpP1c0BFf5svxG91QB4HXU29lHFAAGUx6Pp8dUB/UDq9MVl9QASizv0mAWtARdbM7Cp/dECkcIz7bP10QC6/CIMOIHdAsnE8bEI3b0DQyDYr+9t4QAgvkk+fumpAFauDl2Vxc0AwTZE4VA99QObiYeR2439A7VwA3mEPeUA=\",\"dtype\":\"float64\",\"order\":\"little\",\"shape\":[166]}},\"selected\":{\"id\":\"1340\"},\"selection_policy\":{\"id\":\"1341\"}},\"id\":\"1328\",\"type\":\"ColumnDataSource\"},{\"attributes\":{},\"id\":\"1324\",\"type\":\"UnionRenderers\"},{\"attributes\":{\"data_source\":{\"id\":\"1328\"},\"glyph\":{\"id\":\"1329\"},\"hover_glyph\":null,\"muted_glyph\":null,\"nonselection_glyph\":{\"id\":\"1330\"},\"selection_glyph\":null,\"view\":{\"id\":\"1332\"}},\"id\":\"1331\",\"type\":\"GlyphRenderer\"},{\"attributes\":{\"axis\":{\"id\":\"1291\"},\"grid_line_alpha\":0.3,\"ticker\":null},\"id\":\"1294\",\"type\":\"Grid\"},{\"attributes\":{},\"id\":\"1285\",\"type\":\"DataRange1d\"},{\"attributes\":{},\"id\":\"1302\",\"type\":\"SaveTool\"},{\"attributes\":{},\"id\":\"1320\",\"type\":\"BasicTickFormatter\"},{\"attributes\":{\"text\":\"Original Series & In-sample Predictions\"},\"id\":\"1281\",\"type\":\"Title\"},{\"attributes\":{},\"id\":\"1300\",\"type\":\"WheelZoomTool\"},{\"attributes\":{},\"id\":\"1292\",\"type\":\"BasicTicker\"},{\"attributes\":{\"items\":[{\"id\":\"1327\"},{\"id\":\"1343\"}]},\"id\":\"1326\",\"type\":\"Legend\"},{\"attributes\":{\"overlay\":{\"id\":\"1305\"}},\"id\":\"1301\",\"type\":\"BoxZoomTool\"},{\"attributes\":{},\"id\":\"1296\",\"type\":\"BasicTicker\"},{\"attributes\":{},\"id\":\"1289\",\"type\":\"LinearScale\"},{\"attributes\":{},\"id\":\"1299\",\"type\":\"PanTool\"},{\"attributes\":{\"axis\":{\"id\":\"1295\"},\"dimension\":1,\"grid_line_alpha\":0.3,\"ticker\":null},\"id\":\"1298\",\"type\":\"Grid\"},{\"attributes\":{\"bottom_units\":\"screen\",\"fill_alpha\":0.5,\"fill_color\":\"lightgrey\",\"left_units\":\"screen\",\"level\":\"overlay\",\"line_alpha\":1.0,\"line_color\":\"black\",\"line_dash\":[4,4],\"line_width\":2,\"right_units\":\"screen\",\"top_units\":\"screen\"},\"id\":\"1305\",\"type\":\"BoxAnnotation\"},{\"attributes\":{\"source\":{\"id\":\"1328\"}},\"id\":\"1332\",\"type\":\"CDSView\"},{\"attributes\":{\"data\":{\"x\":[0,1,2,3,4,5,6,7,8,9,10,11,12,13,14,15,16,17,18,19,20,21,22,23,24,25,26,27,28,29,30,31,32,33,34,35,36,37,38,39,40,41,42,43,44,45,46,47,48,49,50,51,52,53,54,55,56,57,58,59,60,61,62,63,64,65,66,67,68,69,70,71,72,73,74,75,76,77,78,79,80,81,82,83,84,85,86,87,88,89,90,91,92,93,94,95,96,97,98,99,100,101,102,103,104,105,106,107,108,109,110,111,112,113,114,115,116,117,118,119,120,121,122,123,124,125,126,127,128,129,130,131,132,133,134,135,136,137,138,139,140,141,142,143,144,145,146,147,148,149,150,151,152,153,154,155,156,157,158,159,160,161,162,163,164,165],\"y\":{\"__ndarray__\":\"AAAAAAAA+H8AAAAAAAD4fwAAAAAAAPh/AAAAAAAA+H8AAAAAAAD4fwAAAAAAAPh/AAAAAAAA+H8AAAAAAAD4fwAAAAAAAPh/AAAAAAAA+H8AAAAAAAD4fwAAAAAAAPh/AAAAAAAA+H8AAAAAAAD4fwAAAAAAAPh/AAAAAAAA+H8AAAAAAAD4fwAAAAAAAPh/AAAAAAAA+H8AAAAAAAD4fwAAAAAAAPh/AAAAAAAA+H8AAAAAAAD4fwAAAAAAAPh/AAAAAAAA+H8AAAAAAAD4fwAAAAAAAPh/AAAAAAAA+H8AAAAAAAD4fwAAAAAAAPh/AAAAAAAA+H8AAAAAAAD4fwAAAAAAAPh/AAAAAAAA+H8AAAAAAAD4fwAAAAAAAPh/AAAAAAAA+H8AAAAAAAD4fwAAAAAAAPh/AAAAAAAA+H8AAAAAAAD4fwAAAAAAAPh/AAAAAAAA+H8AAAAAAAD4fwAAAAAAAPh/AAAAAAAA+H8AAAAAAAD4fwAAAAAAAPh/AAAAAAAA+H8AAAAAAAD4fwAAAAAAAPh/AAAAAAAA+H8AAAAAAAD4fwAAAAAAAPh/AAAAAAAA+H8AAAAAAAD4fwAAAAAAAPh/AAAAAAAA+H8AAAAAAAD4fwAAAAAAAPh/AAAAAAAA+H8AAAAAAAD4fwAAAAAAAPh/AAAAAAAA+H8AAAAAAAD4fwAAAAAAAPh/AAAAAAAA+H8AAAAAAAD4fwAAAAAAAPh/AAAAAAAA+H8AAAAAAAD4fwAAAAAAAPh/AAAAAAAA+H8AAAAAAAD4fwAAAAAAAPh/AAAAAAAA+H8AAAAAAAD4fwAAAAAAAPh/AAAAAAAA+H8AAAAAAAD4fwAAAAAAAPh/AAAAAAAA+H8AAAAAAAD4fwAAAAAAAPh/AAAAAAAA+H8AAAAAAAD4fwAAAAAAAPh/AAAAAAAA+H8AAAAAAAD4fwAAAAAAAPh/AAAAAAAA+H8AAAAAAAD4fwAAAAAAAPh/AAAAAAAA+H8AAAAAAAD4fwAAAAAAAPh/AAAAAAAA+H8AAAAAAAD4fwAAAAAAAPh/AAAAAAAA+H8AAAAAAAD4fwAAAAAAAPh/AAAAAAAA+H8AAAAAAAD4fwAAAAAAAPh/AAAAAAAA+H8AAAAAAAD4fwAAAAAAAPh/AAAAAAAA+H8AAAAAAAD4fwAAAAAAAPh/AAAAAAAA+H8AAAAAAAD4fwAAAAAAAPh/AAAAAAAA+H8AAAAAAAD4fwAAAAAAAPh/AAAAAAAA+H8AAAAAAAD4fwAAAAAAAPh/AAAAAAAA+H8AAAAAAAD4fwAAAAAAAPh/AAAAAAAA+H8AAAAAAAD4fwAAAAAAAPh/AAAAAAAA+H8AAAAAAAD4fwAAAAAAAPh/AAAAAAAA+H8AAAAAAAD4fwAAAAAAAPh/AAAAAAAA+H8AAAAAAAD4fwAAAAAAAPh/AAAAAAAA+H8AAAAAAAD4fwAAAAAAAPh/AAAAAAAA+H8AAAAAAAD4fwAAAAAAAPh/AAAAAAAA+H8AAAAAAAD4fwAAAAAAAPh/AAAAAAAA+H8AAAAAAAD4fwAAAAAAAPh/AAAAAAAA+H8AAAAAAAD4fwAAAAAAAPh/AAAAAAAA+H8AAAAAAAD4fwAAAAAAAPh/AAAAAAAA+H8AAAAAAAD4fwAAAAAAAPh/AAAAAAAA+H8AAAAAAAD4fwAAAAAAAPh/AAAAAAAA+H8AAAAAAAD4fwAAAAAAAPh/AAAAAAAA+H8AAAAAAAD4fwAAAAAAAPh/AAAAAAAA+H8=\",\"dtype\":\"float64\",\"order\":\"little\",\"shape\":[166]}},\"selected\":{\"id\":\"1323\"},\"selection_policy\":{\"id\":\"1324\"}},\"id\":\"1313\",\"type\":\"ColumnDataSource\"},{\"attributes\":{\"axis_label\":\"Time\",\"formatter\":{\"id\":\"1320\"},\"ticker\":{\"id\":\"1292\"}},\"id\":\"1291\",\"type\":\"LinearAxis\"},{\"attributes\":{\"line_alpha\":0.1,\"line_color\":\"#A6CEE3\",\"x\":{\"field\":\"x\"},\"y\":{\"field\":\"y\"}},\"id\":\"1315\",\"type\":\"Line\"},{\"attributes\":{\"label\":{\"value\":\"Forecasted\"},\"renderers\":[{\"id\":\"1331\"}]},\"id\":\"1343\",\"type\":\"LegendItem\"},{\"attributes\":{\"active_drag\":\"auto\",\"active_inspect\":\"auto\",\"active_multi\":null,\"active_scroll\":\"auto\",\"active_tap\":\"auto\",\"tools\":[{\"id\":\"1299\"},{\"id\":\"1300\"},{\"id\":\"1301\"},{\"id\":\"1302\"},{\"id\":\"1303\"},{\"id\":\"1304\"}]},\"id\":\"1306\",\"type\":\"Toolbar\"},{\"attributes\":{},\"id\":\"1283\",\"type\":\"DataRange1d\"},{\"attributes\":{\"line_color\":\"#FF0000\",\"x\":{\"field\":\"x\"},\"y\":{\"field\":\"y\"}},\"id\":\"1329\",\"type\":\"Line\"},{\"attributes\":{\"label\":{\"value\":\"Observed\"},\"renderers\":[{\"id\":\"1316\"}]},\"id\":\"1327\",\"type\":\"LegendItem\"},{\"attributes\":{\"source\":{\"id\":\"1313\"}},\"id\":\"1317\",\"type\":\"CDSView\"},{\"attributes\":{},\"id\":\"1322\",\"type\":\"BasicTickFormatter\"},{\"attributes\":{},\"id\":\"1287\",\"type\":\"LinearScale\"},{\"attributes\":{},\"id\":\"1304\",\"type\":\"HelpTool\"},{\"attributes\":{},\"id\":\"1323\",\"type\":\"Selection\"},{\"attributes\":{\"axis_label\":\"Value\",\"formatter\":{\"id\":\"1322\"},\"ticker\":{\"id\":\"1296\"}},\"id\":\"1295\",\"type\":\"LinearAxis\"}],\"root_ids\":[\"1280\"]},\"title\":\"Bokeh Application\",\"version\":\"2.2.0\"}};\n",
       "  var render_items = [{\"docid\":\"866b48d7-7eb9-4de8-b4c0-4a938e373a47\",\"root_ids\":[\"1280\"],\"roots\":{\"1280\":\"0186b323-adce-4625-88f5-c814bcb3a440\"}}];\n",
       "  root.Bokeh.embed.embed_items_notebook(docs_json, render_items);\n",
       "\n",
       "  }\n",
       "  if (root.Bokeh !== undefined) {\n",
       "    embed_document(root);\n",
       "  } else {\n",
       "    var attempts = 0;\n",
       "    var timer = setInterval(function(root) {\n",
       "      if (root.Bokeh !== undefined) {\n",
       "        clearInterval(timer);\n",
       "        embed_document(root);\n",
       "      } else {\n",
       "        attempts++;\n",
       "        if (attempts > 100) {\n",
       "          clearInterval(timer);\n",
       "          console.log(\"Bokeh: ERROR: Unable to run BokehJS code because BokehJS library is missing\");\n",
       "        }\n",
       "      }\n",
       "    }, 10, root)\n",
       "  }\n",
       "})(window);"
      ],
      "application/vnd.bokehjs_exec.v0+json": ""
     },
     "metadata": {
      "application/vnd.bokehjs_exec.v0+json": {
       "id": "1280"
      }
     },
     "output_type": "display_data"
    }
   ],
   "source": [
    "show(plot_arima(train_departamento_filter['infectados'], in_sample_preds, \n",
    "                title=\"Original Series & In-sample Predictions\", \n",
    "                c2='#FF0000', forecast_start=0))"
   ]
  },
  {
   "cell_type": "markdown",
   "metadata": {},
   "source": [
    "## Predicciones Futuras"
   ]
  },
  {
   "cell_type": "code",
   "execution_count": 31,
   "metadata": {},
   "outputs": [
    {
     "name": "stderr",
     "output_type": "stream",
     "text": [
      "BokehDeprecationWarning: 'legend' keyword is deprecated, use explicit 'legend_label', 'legend_field', or 'legend_group' keywords instead\n",
      "BokehDeprecationWarning: 'legend' keyword is deprecated, use explicit 'legend_label', 'legend_field', or 'legend_group' keywords instead\n"
     ]
    },
    {
     "data": {
      "text/html": [
       "\n",
       "\n",
       "\n",
       "\n",
       "\n",
       "\n",
       "  <div class=\"bk-root\" id=\"6bc3d7f7-d528-4a99-bcbc-e4547297fd48\" data-root-id=\"1434\"></div>\n"
      ]
     },
     "metadata": {},
     "output_type": "display_data"
    },
    {
     "data": {
      "application/javascript": [
       "(function(root) {\n",
       "  function embed_document(root) {\n",
       "    \n",
       "  var docs_json = {\"2b564e0d-dde3-4300-b83a-e9d9b20d9ed2\":{\"roots\":{\"references\":[{\"attributes\":{\"below\":[{\"id\":\"1445\"}],\"center\":[{\"id\":\"1448\"},{\"id\":\"1452\"},{\"id\":\"1480\"}],\"left\":[{\"id\":\"1449\"}],\"plot_height\":400,\"renderers\":[{\"id\":\"1470\"},{\"id\":\"1485\"}],\"title\":{\"id\":\"1435\"},\"toolbar\":{\"id\":\"1460\"},\"x_range\":{\"id\":\"1437\"},\"x_scale\":{\"id\":\"1441\"},\"y_range\":{\"id\":\"1439\"},\"y_scale\":{\"id\":\"1443\"}},\"id\":\"1434\",\"subtype\":\"Figure\",\"type\":\"Plot\"},{\"attributes\":{\"axis\":{\"id\":\"1449\"},\"dimension\":1,\"grid_line_alpha\":0.3,\"ticker\":null},\"id\":\"1452\",\"type\":\"Grid\"},{\"attributes\":{\"active_drag\":\"auto\",\"active_inspect\":\"auto\",\"active_multi\":null,\"active_scroll\":\"auto\",\"active_tap\":\"auto\",\"tools\":[{\"id\":\"1453\"},{\"id\":\"1454\"},{\"id\":\"1455\"},{\"id\":\"1456\"},{\"id\":\"1457\"},{\"id\":\"1458\"}]},\"id\":\"1460\",\"type\":\"Toolbar\"},{\"attributes\":{\"text\":\"ARIMA\"},\"id\":\"1435\",\"type\":\"Title\"},{\"attributes\":{\"axis_label\":\"Time\",\"formatter\":{\"id\":\"1474\"},\"ticker\":{\"id\":\"1446\"}},\"id\":\"1445\",\"type\":\"LinearAxis\"},{\"attributes\":{\"overlay\":{\"id\":\"1459\"}},\"id\":\"1455\",\"type\":\"BoxZoomTool\"},{\"attributes\":{\"line_color\":\"#A6CEE3\",\"x\":{\"field\":\"x\"},\"y\":{\"field\":\"y\"}},\"id\":\"1468\",\"type\":\"Line\"},{\"attributes\":{\"axis\":{\"id\":\"1445\"},\"grid_line_alpha\":0.3,\"ticker\":null},\"id\":\"1448\",\"type\":\"Grid\"},{\"attributes\":{\"data\":{\"x\":[0,1,2,3,4,5,6,7,8,9,10,11,12,13,14,15,16,17,18,19,20,21,22,23,24,25,26,27,28,29,30,31,32,33,34,35,36,37,38,39,40,41,42,43,44,45,46,47,48,49,50,51,52,53,54,55,56,57,58,59,60,61,62,63,64,65,66,67,68,69,70,71,72,73,74,75,76,77,78,79,80,81,82,83,84,85,86,87,88,89,90,91,92,93,94,95,96,97,98,99,100,101,102,103,104,105,106,107,108,109,110,111,112,113,114,115,116,117,118,119,120,121,122,123,124,125,126,127,128,129,130,131,132,133,134,135,136,137,138,139,140,141,142,143,144,145,146,147,148,149,150,151,152,153,154,155,156,157,158,159,160,161,162,163,164,165],\"y\":{\"__ndarray__\":\"AAAAAAAA+H8AAAAAAAD4fwAAAAAAAPh/AAAAAAAA+H8AAAAAAAD4fwAAAAAAAPh/AAAAAAAA+H8AAAAAAAD4fwAAAAAAAPh/AAAAAAAA+H8AAAAAAAD4fwAAAAAAAPh/AAAAAAAA+H8AAAAAAAD4fwAAAAAAAPh/AAAAAAAA+H8AAAAAAAD4fwAAAAAAAPh/AAAAAAAA+H8AAAAAAAD4fwAAAAAAAPh/AAAAAAAA+H8AAAAAAAD4fwAAAAAAAPh/AAAAAAAA+H8AAAAAAAD4fwAAAAAAAPh/AAAAAAAA+H8AAAAAAAD4fwAAAAAAAPh/AAAAAAAA+H8AAAAAAAD4fwAAAAAAAPh/AAAAAAAA+H8AAAAAAAD4fwAAAAAAAPh/AAAAAAAA+H8AAAAAAAD4fwAAAAAAAPh/AAAAAAAA+H8AAAAAAAD4fwAAAAAAAPh/AAAAAAAA+H8AAAAAAAD4fwAAAAAAAPh/AAAAAAAA+H8AAAAAAAD4fwAAAAAAAPh/AAAAAAAA+H8AAAAAAAD4fwAAAAAAAPh/AAAAAAAA+H8AAAAAAAD4fwAAAAAAAPh/AAAAAAAA+H8AAAAAAAD4fwAAAAAAAPh/AAAAAAAA+H8AAAAAAAD4fwAAAAAAAPh/AAAAAAAA+H8AAAAAAAD4fwAAAAAAAPh/AAAAAAAA+H8AAAAAAAD4fwAAAAAAAPh/AAAAAAAA+H8AAAAAAAD4fwAAAAAAAPh/AAAAAAAA+H8AAAAAAAD4fwAAAAAAAPh/AAAAAAAA+H8AAAAAAAD4fwAAAAAAAPh/AAAAAAAA+H8AAAAAAAD4fwAAAAAAAPh/AAAAAAAA+H8AAAAAAAD4fwAAAAAAAPh/AAAAAAAA+H8AAAAAAAD4fwAAAAAAAPh/AAAAAAAA+H8AAAAAAAD4fwAAAAAAAPh/AAAAAAAA+H8AAAAAAAD4fwAAAAAAAPh/AAAAAAAA+H8AAAAAAAD4fwAAAAAAAPh/AAAAAAAA+H8AAAAAAAD4fwAAAAAAAPh/AAAAAAAA+H8AAAAAAAD4fwAAAAAAAPh/AAAAAAAA+H8AAAAAAAD4fwAAAAAAAPh/AAAAAAAA+H8AAAAAAAD4fwAAAAAAAPh/AAAAAAAA+H8AAAAAAAD4fwAAAAAAAPh/AAAAAAAA+H8AAAAAAAD4fwAAAAAAAPh/AAAAAAAA+H8AAAAAAAD4fwAAAAAAAPh/AAAAAAAA+H8AAAAAAAD4fwAAAAAAAPh/AAAAAAAA+H8AAAAAAAD4fwAAAAAAAPh/AAAAAAAA+H8AAAAAAAD4fwAAAAAAAPh/AAAAAAAA+H8AAAAAAAD4fwAAAAAAAPh/AAAAAAAA+H8AAAAAAAD4fwAAAAAAAPh/AAAAAAAA+H8AAAAAAAD4fwAAAAAAAPh/AAAAAAAA+H8AAAAAAAD4fwAAAAAAAPh/AAAAAAAA+H8AAAAAAAD4fwAAAAAAAPh/AAAAAAAA+H8AAAAAAAD4fwAAAAAAAPh/AAAAAAAA+H8AAAAAAAD4fwAAAAAAAPh/AAAAAAAA+H8AAAAAAAD4fwAAAAAAAPh/AAAAAAAA+H8AAAAAAAD4fwAAAAAAAPh/AAAAAAAA+H8AAAAAAAD4fwAAAAAAAPh/AAAAAAAA+H8AAAAAAAD4fwAAAAAAAPh/AAAAAAAA+H8AAAAAAAD4fwAAAAAAAPh/AAAAAAAA+H8AAAAAAAD4fwAAAAAAAPh/AAAAAAAA+H8AAAAAAAD4fwAAAAAAAPh/AAAAAAAA+H8=\",\"dtype\":\"float64\",\"order\":\"little\",\"shape\":[166]}},\"selected\":{\"id\":\"1477\"},\"selection_policy\":{\"id\":\"1478\"}},\"id\":\"1467\",\"type\":\"ColumnDataSource\"},{\"attributes\":{\"label\":{\"value\":\"Forecasted\"},\"renderers\":[{\"id\":\"1485\"}]},\"id\":\"1497\",\"type\":\"LegendItem\"},{\"attributes\":{\"line_color\":\"#B2DF8A\",\"x\":{\"field\":\"x\"},\"y\":{\"field\":\"y\"}},\"id\":\"1483\",\"type\":\"Line\"},{\"attributes\":{},\"id\":\"1458\",\"type\":\"HelpTool\"},{\"attributes\":{\"source\":{\"id\":\"1482\"}},\"id\":\"1486\",\"type\":\"CDSView\"},{\"attributes\":{},\"id\":\"1474\",\"type\":\"BasicTickFormatter\"},{\"attributes\":{\"label\":{\"value\":\"Observed\"},\"renderers\":[{\"id\":\"1470\"}]},\"id\":\"1481\",\"type\":\"LegendItem\"},{\"attributes\":{\"axis_label\":\"Value\",\"formatter\":{\"id\":\"1476\"},\"ticker\":{\"id\":\"1450\"}},\"id\":\"1449\",\"type\":\"LinearAxis\"},{\"attributes\":{\"line_alpha\":0.1,\"line_color\":\"#B2DF8A\",\"x\":{\"field\":\"x\"},\"y\":{\"field\":\"y\"}},\"id\":\"1484\",\"type\":\"Line\"},{\"attributes\":{},\"id\":\"1494\",\"type\":\"Selection\"},{\"attributes\":{},\"id\":\"1457\",\"type\":\"ResetTool\"},{\"attributes\":{},\"id\":\"1446\",\"type\":\"BasicTicker\"},{\"attributes\":{},\"id\":\"1441\",\"type\":\"LinearScale\"},{\"attributes\":{\"line_alpha\":0.1,\"line_color\":\"#A6CEE3\",\"x\":{\"field\":\"x\"},\"y\":{\"field\":\"y\"}},\"id\":\"1469\",\"type\":\"Line\"},{\"attributes\":{},\"id\":\"1478\",\"type\":\"UnionRenderers\"},{\"attributes\":{\"items\":[{\"id\":\"1481\"},{\"id\":\"1497\"}]},\"id\":\"1480\",\"type\":\"Legend\"},{\"attributes\":{},\"id\":\"1443\",\"type\":\"LinearScale\"},{\"attributes\":{},\"id\":\"1450\",\"type\":\"BasicTicker\"},{\"attributes\":{},\"id\":\"1477\",\"type\":\"Selection\"},{\"attributes\":{\"data_source\":{\"id\":\"1482\"},\"glyph\":{\"id\":\"1483\"},\"hover_glyph\":null,\"muted_glyph\":null,\"nonselection_glyph\":{\"id\":\"1484\"},\"selection_glyph\":null,\"view\":{\"id\":\"1486\"}},\"id\":\"1485\",\"type\":\"GlyphRenderer\"},{\"attributes\":{},\"id\":\"1437\",\"type\":\"DataRange1d\"},{\"attributes\":{},\"id\":\"1476\",\"type\":\"BasicTickFormatter\"},{\"attributes\":{\"source\":{\"id\":\"1467\"}},\"id\":\"1471\",\"type\":\"CDSView\"},{\"attributes\":{},\"id\":\"1439\",\"type\":\"DataRange1d\"},{\"attributes\":{},\"id\":\"1456\",\"type\":\"SaveTool\"},{\"attributes\":{},\"id\":\"1453\",\"type\":\"PanTool\"},{\"attributes\":{\"data\":{\"x\":[166,167,168,169,170,171,172],\"y\":{\"__ndarray__\":\"FC6KN4GUdkAUSTp5b6p6QG77ELNb3HdAeQAgjzG1ekDQdz3cuGp4QM0fEQ/sy3pAUYmmVTTueEA=\",\"dtype\":\"float64\",\"order\":\"little\",\"shape\":[7]}},\"selected\":{\"id\":\"1494\"},\"selection_policy\":{\"id\":\"1495\"}},\"id\":\"1482\",\"type\":\"ColumnDataSource\"},{\"attributes\":{},\"id\":\"1454\",\"type\":\"WheelZoomTool\"},{\"attributes\":{\"bottom_units\":\"screen\",\"fill_alpha\":0.5,\"fill_color\":\"lightgrey\",\"left_units\":\"screen\",\"level\":\"overlay\",\"line_alpha\":1.0,\"line_color\":\"black\",\"line_dash\":[4,4],\"line_width\":2,\"right_units\":\"screen\",\"top_units\":\"screen\"},\"id\":\"1459\",\"type\":\"BoxAnnotation\"},{\"attributes\":{},\"id\":\"1495\",\"type\":\"UnionRenderers\"},{\"attributes\":{\"data_source\":{\"id\":\"1467\"},\"glyph\":{\"id\":\"1468\"},\"hover_glyph\":null,\"muted_glyph\":null,\"nonselection_glyph\":{\"id\":\"1469\"},\"selection_glyph\":null,\"view\":{\"id\":\"1471\"}},\"id\":\"1470\",\"type\":\"GlyphRenderer\"}],\"root_ids\":[\"1434\"]},\"title\":\"Bokeh Application\",\"version\":\"2.2.0\"}};\n",
       "  var render_items = [{\"docid\":\"2b564e0d-dde3-4300-b83a-e9d9b20d9ed2\",\"root_ids\":[\"1434\"],\"roots\":{\"1434\":\"6bc3d7f7-d528-4a99-bcbc-e4547297fd48\"}}];\n",
       "  root.Bokeh.embed.embed_items_notebook(docs_json, render_items);\n",
       "\n",
       "  }\n",
       "  if (root.Bokeh !== undefined) {\n",
       "    embed_document(root);\n",
       "  } else {\n",
       "    var attempts = 0;\n",
       "    var timer = setInterval(function(root) {\n",
       "      if (root.Bokeh !== undefined) {\n",
       "        clearInterval(timer);\n",
       "        embed_document(root);\n",
       "      } else {\n",
       "        attempts++;\n",
       "        if (attempts > 100) {\n",
       "          clearInterval(timer);\n",
       "          console.log(\"Bokeh: ERROR: Unable to run BokehJS code because BokehJS library is missing\");\n",
       "        }\n",
       "      }\n",
       "    }, 10, root)\n",
       "  }\n",
       "})(window);"
      ],
      "application/vnd.bokehjs_exec.v0+json": ""
     },
     "metadata": {
      "application/vnd.bokehjs_exec.v0+json": {
       "id": "1434"
      }
     },
     "output_type": "display_data"
    }
   ],
   "source": [
    "next_5 = stepwise_fit.predict(n_periods=7)\n",
    "show(plot_arima(train_departamento_filter['infectados'], next_5))"
   ]
  },
  {
   "cell_type": "code",
   "execution_count": 32,
   "metadata": {},
   "outputs": [
    {
     "data": {
      "text/plain": [
       "46.480116082386715"
      ]
     },
     "execution_count": 32,
     "metadata": {},
     "output_type": "execute_result"
    }
   ],
   "source": [
    "mean_absolute_percentage_error(test_departamento_filter['infectados'], next_5)"
   ]
  },
  {
   "cell_type": "markdown",
   "metadata": {},
   "source": [
    "## ATLÁNTICO"
   ]
  },
  {
   "cell_type": "code",
   "execution_count": 33,
   "metadata": {},
   "outputs": [],
   "source": [
    "train_departamento_filter = train_departamento.loc[train_departamento.departamento == 'atlantico']\n",
    "test_departamento_filter = test_departamento.loc[test_departamento.departamento == 'atlantico']"
   ]
  },
  {
   "cell_type": "code",
   "execution_count": 34,
   "metadata": {},
   "outputs": [
    {
     "data": {
      "image/png": "[encoded data removed]",
      "text/plain": [
       "<Figure size 432x288 with 1 Axes>"
      ]
     },
     "metadata": {
      "needs_background": "light"
     },
     "output_type": "display_data"
    }
   ],
   "source": [
    "import matplotlib.pyplot as plt\n",
    "plt.plot (train_departamento_filter['fecha'], train_departamento_filter['infectados']) \n",
    "plt.title ('Infected time serie - Atlántico') \n",
    "#plt.grid(True)\n",
    "plt.ylabel ('number of people infected')\n",
    "plt.show ()"
   ]
  },
  {
   "cell_type": "code",
   "execution_count": 35,
   "metadata": {},
   "outputs": [
    {
     "data": {
      "image/png": "[encoded data removed]",
      "text/plain": [
       "<Figure size 1600x300 with 2 Axes>"
      ]
     },
     "execution_count": 35,
     "metadata": {},
     "output_type": "execute_result"
    },
    {
     "data": {
      "image/png": "[encoded data removed]",
      "text/plain": [
       "<Figure size 1600x300 with 2 Axes>"
      ]
     },
     "metadata": {
      "needs_background": "light"
     },
     "output_type": "display_data"
    }
   ],
   "source": [
    "# Draw Plot\n",
    "fig, axes = plt.subplots(1,2,figsize=(16,3), dpi= 100)\n",
    "plot_acf(train_departamento_filter['infectados'], lags=20, ax=axes[0])\n",
    "plot_pacf(train_departamento_filter['infectados'], lags=20, ax=axes[1])"
   ]
  },
  {
   "cell_type": "code",
   "execution_count": 36,
   "metadata": {},
   "outputs": [
    {
     "data": {
      "image/png": "[encoded data removed]",
      "text/plain": [
       "<Figure size 1000x300 with 8 Axes>"
      ]
     },
     "metadata": {
      "needs_background": "light"
     },
     "output_type": "display_data"
    }
   ],
   "source": [
    "from pandas.plotting import lag_plot\n",
    "plt.rcParams.update({'ytick.left' : False, 'axes.titlepad':10})\n",
    "\n",
    "# Plot\n",
    "fig, axes = plt.subplots(1, 8, figsize=(10,3), sharex=True, sharey=True, dpi=100)\n",
    "for i, ax in enumerate(axes.flatten()[:8]):\n",
    "    lag_plot(train_departamento_filter['infectados'], lag=i+1, ax=ax, c='firebrick')\n",
    "    ax.set_title('Lag ' + str(i+1))\n",
    "\n",
    "fig.suptitle('Lag Plots of Infected', y=1.05)    \n",
    "plt.show()"
   ]
  },
  {
   "cell_type": "code",
   "execution_count": 37,
   "metadata": {},
   "outputs": [
    {
     "name": "stderr",
     "output_type": "stream",
     "text": [
      "/Users/santiagocortes/opt/anaconda3/envs/tf2/lib/python3.7/site-packages/pmdarima/arima/_validation.py:60: UserWarning: m (12) set for non-seasonal fit. Setting to 0\n",
      "  warnings.warn(\"m (%i) set for non-seasonal fit. Setting to 0\" % m)\n"
     ]
    },
    {
     "name": "stdout",
     "output_type": "stream",
     "text": [
      "Performing stepwise search to minimize aic\n",
      " ARIMA(0,1,0)(0,0,0)[0] intercept   : AIC=2298.951, Time=0.01 sec\n",
      " ARIMA(1,1,0)(0,0,0)[0] intercept   : AIC=2280.313, Time=0.04 sec\n",
      " ARIMA(0,1,1)(0,0,0)[0] intercept   : AIC=2274.706, Time=0.06 sec\n",
      " ARIMA(0,1,0)(0,0,0)[0]             : AIC=2296.962, Time=0.01 sec\n",
      " ARIMA(1,1,1)(0,0,0)[0] intercept   : AIC=2268.209, Time=0.10 sec\n",
      " ARIMA(2,1,1)(0,0,0)[0] intercept   : AIC=2268.675, Time=0.16 sec\n",
      " ARIMA(1,1,2)(0,0,0)[0] intercept   : AIC=2269.307, Time=0.16 sec\n",
      " ARIMA(0,1,2)(0,0,0)[0] intercept   : AIC=2272.630, Time=0.10 sec\n",
      " ARIMA(2,1,0)(0,0,0)[0] intercept   : AIC=2281.347, Time=0.02 sec\n",
      " ARIMA(2,1,2)(0,0,0)[0] intercept   : AIC=2266.186, Time=0.23 sec\n",
      " ARIMA(3,1,2)(0,0,0)[0] intercept   : AIC=2270.011, Time=0.27 sec\n",
      " ARIMA(2,1,3)(0,0,0)[0] intercept   : AIC=2269.756, Time=0.29 sec\n",
      " ARIMA(1,1,3)(0,0,0)[0] intercept   : AIC=2267.756, Time=0.19 sec\n",
      " ARIMA(3,1,1)(0,0,0)[0] intercept   : AIC=2268.022, Time=0.22 sec\n",
      " ARIMA(3,1,3)(0,0,0)[0] intercept   : AIC=inf, Time=0.36 sec\n",
      " ARIMA(2,1,2)(0,0,0)[0]             : AIC=2267.524, Time=0.11 sec\n",
      "\n",
      "Best model:  ARIMA(2,1,2)(0,0,0)[0] intercept\n",
      "Total fit time: 2.343 seconds\n"
     ]
    },
    {
     "data": {
      "text/html": [
       "<table class=\"simpletable\">\n",
       "<caption>SARIMAX Results</caption>\n",
       "<tr>\n",
       "  <th>Dep. Variable:</th>           <td>y</td>        <th>  No. Observations:  </th>    <td>166</td>   \n",
       "</tr>\n",
       "<tr>\n",
       "  <th>Model:</th>           <td>SARIMAX(2, 1, 2)</td> <th>  Log Likelihood     </th> <td>-1127.093</td>\n",
       "</tr>\n",
       "<tr>\n",
       "  <th>Date:</th>            <td>Tue, 25 Aug 2020</td> <th>  AIC                </th> <td>2266.186</td> \n",
       "</tr>\n",
       "<tr>\n",
       "  <th>Time:</th>                <td>08:12:16</td>     <th>  BIC                </th> <td>2284.822</td> \n",
       "</tr>\n",
       "<tr>\n",
       "  <th>Sample:</th>                  <td>0</td>        <th>  HQIC               </th> <td>2273.751</td> \n",
       "</tr>\n",
       "<tr>\n",
       "  <th></th>                      <td> - 166</td>      <th>                     </th>     <td> </td>    \n",
       "</tr>\n",
       "<tr>\n",
       "  <th>Covariance Type:</th>        <td>opg</td>       <th>                     </th>     <td> </td>    \n",
       "</tr>\n",
       "</table>\n",
       "<table class=\"simpletable\">\n",
       "<tr>\n",
       "      <td></td>         <th>coef</th>     <th>std err</th>      <th>z</th>      <th>P>|z|</th>  <th>[0.025</th>    <th>0.975]</th>  \n",
       "</tr>\n",
       "<tr>\n",
       "  <th>intercept</th> <td>    3.6138</td> <td>    6.971</td> <td>    0.518</td> <td> 0.604</td> <td>  -10.049</td> <td>   17.277</td>\n",
       "</tr>\n",
       "<tr>\n",
       "  <th>ar.L1</th>     <td>   -0.5406</td> <td>    0.151</td> <td>   -3.570</td> <td> 0.000</td> <td>   -0.837</td> <td>   -0.244</td>\n",
       "</tr>\n",
       "<tr>\n",
       "  <th>ar.L2</th>     <td>    0.4489</td> <td>    0.104</td> <td>    4.312</td> <td> 0.000</td> <td>    0.245</td> <td>    0.653</td>\n",
       "</tr>\n",
       "<tr>\n",
       "  <th>ma.L1</th>     <td>    0.1085</td> <td>    0.133</td> <td>    0.813</td> <td> 0.416</td> <td>   -0.153</td> <td>    0.370</td>\n",
       "</tr>\n",
       "<tr>\n",
       "  <th>ma.L2</th>     <td>   -0.8293</td> <td>    0.075</td> <td>  -11.004</td> <td> 0.000</td> <td>   -0.977</td> <td>   -0.682</td>\n",
       "</tr>\n",
       "<tr>\n",
       "  <th>sigma2</th>    <td> 4.987e+04</td> <td> 2575.138</td> <td>   19.366</td> <td> 0.000</td> <td> 4.48e+04</td> <td> 5.49e+04</td>\n",
       "</tr>\n",
       "</table>\n",
       "<table class=\"simpletable\">\n",
       "<tr>\n",
       "  <th>Ljung-Box (Q):</th>           <td>44.31</td>  <th>  Jarque-Bera (JB):  </th> <td>868.20</td>\n",
       "</tr>\n",
       "<tr>\n",
       "  <th>Prob(Q):</th>                 <td>0.29</td>   <th>  Prob(JB):          </th>  <td>0.00</td> \n",
       "</tr>\n",
       "<tr>\n",
       "  <th>Heteroskedasticity (H):</th> <td>1023.92</td> <th>  Skew:              </th>  <td>1.06</td> \n",
       "</tr>\n",
       "<tr>\n",
       "  <th>Prob(H) (two-sided):</th>     <td>0.00</td>   <th>  Kurtosis:          </th>  <td>14.03</td>\n",
       "</tr>\n",
       "</table><br/><br/>Warnings:<br/>[1] Covariance matrix calculated using the outer product of gradients (complex-step)."
      ],
      "text/plain": [
       "<class 'statsmodels.iolib.summary.Summary'>\n",
       "\"\"\"\n",
       "                               SARIMAX Results                                \n",
       "==============================================================================\n",
       "Dep. Variable:                      y   No. Observations:                  166\n",
       "Model:               SARIMAX(2, 1, 2)   Log Likelihood               -1127.093\n",
       "Date:                Tue, 25 Aug 2020   AIC                           2266.186\n",
       "Time:                        08:12:16   BIC                           2284.822\n",
       "Sample:                             0   HQIC                          2273.751\n",
       "                                - 166                                         \n",
       "Covariance Type:                  opg                                         \n",
       "==============================================================================\n",
       "                 coef    std err          z      P>|z|      [0.025      0.975]\n",
       "------------------------------------------------------------------------------\n",
       "intercept      3.6138      6.971      0.518      0.604     -10.049      17.277\n",
       "ar.L1         -0.5406      0.151     -3.570      0.000      -0.837      -0.244\n",
       "ar.L2          0.4489      0.104      4.312      0.000       0.245       0.653\n",
       "ma.L1          0.1085      0.133      0.813      0.416      -0.153       0.370\n",
       "ma.L2         -0.8293      0.075    -11.004      0.000      -0.977      -0.682\n",
       "sigma2      4.987e+04   2575.138     19.366      0.000    4.48e+04    5.49e+04\n",
       "===================================================================================\n",
       "Ljung-Box (Q):                       44.31   Jarque-Bera (JB):               868.20\n",
       "Prob(Q):                              0.29   Prob(JB):                         0.00\n",
       "Heteroskedasticity (H):            1023.92   Skew:                             1.06\n",
       "Prob(H) (two-sided):                  0.00   Kurtosis:                        14.03\n",
       "===================================================================================\n",
       "\n",
       "Warnings:\n",
       "[1] Covariance matrix calculated using the outer product of gradients (complex-step).\n",
       "\"\"\""
      ]
     },
     "execution_count": 37,
     "metadata": {},
     "output_type": "execute_result"
    }
   ],
   "source": [
    "stepwise_fit = pm.auto_arima(train_departamento_filter['infectados'], start_p=0, start_q=0, max_p=7, max_q=8, m=12,\n",
    "                             start_P=0, seasonal=False, d=1, D=1, trace=True,\n",
    "                             error_action='ignore',  # don't want to know if an order does not work\n",
    "                             suppress_warnings=True,  # don't want convergence warnings\n",
    "                             stepwise=True)  # set to stepwise\n",
    "\n",
    "stepwise_fit.summary()"
   ]
  },
  {
   "cell_type": "code",
   "execution_count": 38,
   "metadata": {},
   "outputs": [
    {
     "data": {
      "text/plain": [
       "array([3.31037928, 3.37623551, 4.42726978, 5.04798846, 6.08974769,\n",
       "       6.55736491, 7.54194815, 7.86641602, 8.7664693 , 8.96398594])"
      ]
     },
     "execution_count": 38,
     "metadata": {},
     "output_type": "execute_result"
    }
   ],
   "source": [
    "in_sample_preds = stepwise_fit.predict_in_sample()\n",
    "in_sample_preds[:10]"
   ]
  },
  {
   "cell_type": "code",
   "execution_count": 39,
   "metadata": {},
   "outputs": [
    {
     "name": "stderr",
     "output_type": "stream",
     "text": [
      "BokehDeprecationWarning: 'legend' keyword is deprecated, use explicit 'legend_label', 'legend_field', or 'legend_group' keywords instead\n",
      "BokehDeprecationWarning: 'legend' keyword is deprecated, use explicit 'legend_label', 'legend_field', or 'legend_group' keywords instead\n"
     ]
    },
    {
     "data": {
      "text/html": [
       "\n",
       "\n",
       "\n",
       "\n",
       "\n",
       "\n",
       "  <div class=\"bk-root\" id=\"9cd0fe58-3da7-4fa4-ac8a-b75e5ecbabdf\" data-root-id=\"1598\"></div>\n"
      ]
     },
     "metadata": {},
     "output_type": "display_data"
    },
    {
     "data": {
      "application/javascript": [
       "(function(root) {\n",
       "  function embed_document(root) {\n",
       "    \n",
       "  var docs_json = {\"7771abb4-4f63-4f20-9c91-a73a2053faf4\":{\"roots\":{\"references\":[{\"attributes\":{\"below\":[{\"id\":\"1609\"}],\"center\":[{\"id\":\"1612\"},{\"id\":\"1616\"},{\"id\":\"1644\"}],\"left\":[{\"id\":\"1613\"}],\"plot_height\":400,\"renderers\":[{\"id\":\"1634\"},{\"id\":\"1649\"}],\"title\":{\"id\":\"1599\"},\"toolbar\":{\"id\":\"1624\"},\"x_range\":{\"id\":\"1601\"},\"x_scale\":{\"id\":\"1605\"},\"y_range\":{\"id\":\"1603\"},\"y_scale\":{\"id\":\"1607\"}},\"id\":\"1598\",\"subtype\":\"Figure\",\"type\":\"Plot\"},{\"attributes\":{\"source\":{\"id\":\"1631\"}},\"id\":\"1635\",\"type\":\"CDSView\"},{\"attributes\":{\"line_alpha\":0.1,\"line_color\":\"#FF0000\",\"x\":{\"field\":\"x\"},\"y\":{\"field\":\"y\"}},\"id\":\"1648\",\"type\":\"Line\"},{\"attributes\":{\"axis_label\":\"Time\",\"formatter\":{\"id\":\"1637\"},\"ticker\":{\"id\":\"1610\"}},\"id\":\"1609\",\"type\":\"LinearAxis\"},{\"attributes\":{},\"id\":\"1610\",\"type\":\"BasicTicker\"},{\"attributes\":{},\"id\":\"1622\",\"type\":\"HelpTool\"},{\"attributes\":{},\"id\":\"1643\",\"type\":\"UnionRenderers\"},{\"attributes\":{\"data\":{\"x\":[0,1,2,3,4,5,6,7,8,9,10,11,12,13,14,15,16,17,18,19,20,21,22,23,24,25,26,27,28,29,30,31,32,33,34,35,36,37,38,39,40,41,42,43,44,45,46,47,48,49,50,51,52,53,54,55,56,57,58,59,60,61,62,63,64,65,66,67,68,69,70,71,72,73,74,75,76,77,78,79,80,81,82,83,84,85,86,87,88,89,90,91,92,93,94,95,96,97,98,99,100,101,102,103,104,105,106,107,108,109,110,111,112,113,114,115,116,117,118,119,120,121,122,123,124,125,126,127,128,129,130,131,132,133,134,135,136,137,138,139,140,141,142,143,144,145,146,147,148,149,150,151,152,153,154,155,156,157,158,159,160,161,162,163,164,165],\"y\":{\"__ndarray__\":\"AAAAAAAA+H8AAAAAAAD4fwAAAAAAAPh/AAAAAAAA+H8AAAAAAAD4fwAAAAAAAPh/AAAAAAAA+H8AAAAAAAD4fwAAAAAAAPh/AAAAAAAA+H8AAAAAAAD4fwAAAAAAAPh/AAAAAAAA+H8AAAAAAAD4fwAAAAAAAPh/AAAAAAAA+H8AAAAAAAD4fwAAAAAAAPh/AAAAAAAA+H8AAAAAAAD4fwAAAAAAAPh/AAAAAAAA+H8AAAAAAAD4fwAAAAAAAPh/AAAAAAAA+H8AAAAAAAD4fwAAAAAAAPh/AAAAAAAA+H8AAAAAAAD4fwAAAAAAAPh/AAAAAAAA+H8AAAAAAAD4fwAAAAAAAPh/AAAAAAAA+H8AAAAAAAD4fwAAAAAAAPh/AAAAAAAA+H8AAAAAAAD4fwAAAAAAAPh/AAAAAAAA+H8AAAAAAAD4fwAAAAAAAPh/AAAAAAAA+H8AAAAAAAD4fwAAAAAAAPh/AAAAAAAA+H8AAAAAAAD4fwAAAAAAAPh/AAAAAAAA+H8AAAAAAAD4fwAAAAAAAPh/AAAAAAAA+H8AAAAAAAD4fwAAAAAAAPh/AAAAAAAA+H8AAAAAAAD4fwAAAAAAAPh/AAAAAAAA+H8AAAAAAAD4fwAAAAAAAPh/AAAAAAAA+H8AAAAAAAD4fwAAAAAAAPh/AAAAAAAA+H8AAAAAAAD4fwAAAAAAAPh/AAAAAAAA+H8AAAAAAAD4fwAAAAAAAPh/AAAAAAAA+H8AAAAAAAD4fwAAAAAAAPh/AAAAAAAA+H8AAAAAAAD4fwAAAAAAAPh/AAAAAAAA+H8AAAAAAAD4fwAAAAAAAPh/AAAAAAAA+H8AAAAAAAD4fwAAAAAAAPh/AAAAAAAA+H8AAAAAAAD4fwAAAAAAAPh/AAAAAAAA+H8AAAAAAAD4fwAAAAAAAPh/AAAAAAAA+H8AAAAAAAD4fwAAAAAAAPh/AAAAAAAA+H8AAAAAAAD4fwAAAAAAAPh/AAAAAAAA+H8AAAAAAAD4fwAAAAAAAPh/AAAAAAAA+H8AAAAAAAD4fwAAAAAAAPh/AAAAAAAA+H8AAAAAAAD4fwAAAAAAAPh/AAAAAAAA+H8AAAAAAAD4fwAAAAAAAPh/AAAAAAAA+H8AAAAAAAD4fwAAAAAAAPh/AAAAAAAA+H8AAAAAAAD4fwAAAAAAAPh/AAAAAAAA+H8AAAAAAAD4fwAAAAAAAPh/AAAAAAAA+H8AAAAAAAD4fwAAAAAAAPh/AAAAAAAA+H8AAAAAAAD4fwAAAAAAAPh/AAAAAAAA+H8AAAAAAAD4fwAAAAAAAPh/AAAAAAAA+H8AAAAAAAD4fwAAAAAAAPh/AAAAAAAA+H8AAAAAAAD4fwAAAAAAAPh/AAAAAAAA+H8AAAAAAAD4fwAAAAAAAPh/AAAAAAAA+H8AAAAAAAD4fwAAAAAAAPh/AAAAAAAA+H8AAAAAAAD4fwAAAAAAAPh/AAAAAAAA+H8AAAAAAAD4fwAAAAAAAPh/AAAAAAAA+H8AAAAAAAD4fwAAAAAAAPh/AAAAAAAA+H8AAAAAAAD4fwAAAAAAAPh/AAAAAAAA+H8AAAAAAAD4fwAAAAAAAPh/AAAAAAAA+H8AAAAAAAD4fwAAAAAAAPh/AAAAAAAA+H8AAAAAAAD4fwAAAAAAAPh/AAAAAAAA+H8AAAAAAAD4fwAAAAAAAPh/AAAAAAAA+H8AAAAAAAD4fwAAAAAAAPh/AAAAAAAA+H8AAAAAAAD4fwAAAAAAAPh/AAAAAAAA+H8=\",\"dtype\":\"float64\",\"order\":\"little\",\"shape\":[166]}},\"selected\":{\"id\":\"1642\"},\"selection_policy\":{\"id\":\"1643\"}},\"id\":\"1631\",\"type\":\"ColumnDataSource\"},{\"attributes\":{},\"id\":\"1639\",\"type\":\"BasicTickFormatter\"},{\"attributes\":{\"label\":{\"value\":\"Forecasted\"},\"renderers\":[{\"id\":\"1649\"}]},\"id\":\"1661\",\"type\":\"LegendItem\"},{\"attributes\":{\"line_color\":\"#A6CEE3\",\"x\":{\"field\":\"x\"},\"y\":{\"field\":\"y\"}},\"id\":\"1632\",\"type\":\"Line\"},{\"attributes\":{},\"id\":\"1614\",\"type\":\"BasicTicker\"},{\"attributes\":{},\"id\":\"1603\",\"type\":\"DataRange1d\"},{\"attributes\":{\"axis\":{\"id\":\"1609\"},\"grid_line_alpha\":0.3,\"ticker\":null},\"id\":\"1612\",\"type\":\"Grid\"},{\"attributes\":{\"data_source\":{\"id\":\"1631\"},\"glyph\":{\"id\":\"1632\"},\"hover_glyph\":null,\"muted_glyph\":null,\"nonselection_glyph\":{\"id\":\"1633\"},\"selection_glyph\":null,\"view\":{\"id\":\"1635\"}},\"id\":\"1634\",\"type\":\"GlyphRenderer\"},{\"attributes\":{\"overlay\":{\"id\":\"1623\"}},\"id\":\"1619\",\"type\":\"BoxZoomTool\"},{\"attributes\":{},\"id\":\"1620\",\"type\":\"SaveTool\"},{\"attributes\":{\"active_drag\":\"auto\",\"active_inspect\":\"auto\",\"active_multi\":null,\"active_scroll\":\"auto\",\"active_tap\":\"auto\",\"tools\":[{\"id\":\"1617\"},{\"id\":\"1618\"},{\"id\":\"1619\"},{\"id\":\"1620\"},{\"id\":\"1621\"},{\"id\":\"1622\"}]},\"id\":\"1624\",\"type\":\"Toolbar\"},{\"attributes\":{},\"id\":\"1618\",\"type\":\"WheelZoomTool\"},{\"attributes\":{\"items\":[{\"id\":\"1645\"},{\"id\":\"1661\"}]},\"id\":\"1644\",\"type\":\"Legend\"},{\"attributes\":{},\"id\":\"1605\",\"type\":\"LinearScale\"},{\"attributes\":{\"source\":{\"id\":\"1646\"}},\"id\":\"1650\",\"type\":\"CDSView\"},{\"attributes\":{\"axis_label\":\"Value\",\"formatter\":{\"id\":\"1639\"},\"ticker\":{\"id\":\"1614\"}},\"id\":\"1613\",\"type\":\"LinearAxis\"},{\"attributes\":{\"label\":{\"value\":\"Observed\"},\"renderers\":[{\"id\":\"1634\"}]},\"id\":\"1645\",\"type\":\"LegendItem\"},{\"attributes\":{\"axis\":{\"id\":\"1613\"},\"dimension\":1,\"grid_line_alpha\":0.3,\"ticker\":null},\"id\":\"1616\",\"type\":\"Grid\"},{\"attributes\":{\"data\":{\"x\":[0,1,2,3,4,5,6,7,8,9,10,11,12,13,14,15,16,17,18,19,20,21,22,23,24,25,26,27,28,29,30,31,32,33,34,35,36,37,38,39,40,41,42,43,44,45,46,47,48,49,50,51,52,53,54,55,56,57,58,59,60,61,62,63,64,65,66,67,68,69,70,71,72,73,74,75,76,77,78,79,80,81,82,83,84,85,86,87,88,89,90,91,92,93,94,95,96,97,98,99,100,101,102,103,104,105,106,107,108,109,110,111,112,113,114,115,116,117,118,119,120,121,122,123,124,125,126,127,128,129,130,131,132,133,134,135,136,137,138,139,140,141,142,143,144,145,146,147,148,149,150,151,152,153,154,155,156,157,158,159,160,161,162,163,164,165],\"y\":{\"__ndarray__\":\"od7pIah7CkCfZsLChwILQB7dbjWGtRFA7SUt4yMxFEBoPHXR5lsYQLJMDt69OhpAZE7IdPQqHkDh6NfCNXcfQAmQ/aluiCFACBq3kI/tIUCx/YBvMYkjQB96kcqstyNAx/LwFushJUDuerQMvCQlQI5UyS3jYCZAeV9swM58KEBjoQVjGs4nQC0NdVaiGSdA6tRFo8vLK0DG/MBtqGgoQNEETs0/JitA3p42HhQ2KUAbN0HftzQpQLnqTp9bpStAckyz6mxQLkB1cdiz32oqQPD6oYeLRi1AMsfAZDJ5L0CyUHTlzT0vQMlahPgKzCxA82BTQZ/iMUAnJObhyD0vQN078Qwj+CpA9Kyza7H6NEA1YHqj7gEtQHAS0iVCTDBAsm6itigyLkCVt4iV32EyQDQq1uG/9TJAGwwlcpq+MUDLdmfWfaMyQJPBi6GUazFAhtLKmtkgMkBUuuaXP1wwQP+JXEnwPjBAI7b5oontLUBhLZKlj7gvQN3waRBYwi9AFk1KDVkIMkDVpJ4AUCsvQDKCfcDhNDBAKnLgHaeiMECOeb0f4z8wQB6aAsEBTjJAqpVOWJL9M0A99uDeR2k7QNU0zk4KETxAhLpnj+47REDKs2IU2H0+QLtpOKjniztAdbWJQC0rSkAqD8YeDWZKQIHRSKf14UpAUgx2uJ5NUUAm68PJfSZKQLuIXK0LOVZAZHBIHoh0TUA7wC0o4oRSQBF8Zb5na1lAXKJSudzYTEAM7CYWaNdSQCgjekGTYVBAjxKyb0RIWEDv5Y3nO29eQHHghcNZY1xA3lE87gQgW0Am73LkI4RWQDCszEz0xmJAFhQkOpvlWkDXp4iVST1ZQI1JwowjamBAh84HHhtQYECAe/RAjStlQNuFlVAy2WdApiTv98jdZUCPmZXhvPxbQEZf0Vr5AGVAzLek4hPJXkCotTwnaFJkQBdmBzSmHGNAC/olScjUbkB3hufVyCtpQBfcsnutH2dAnUrDa94ddUClxmqrNQBsQJj6trYoAX1AcpN1KPbJd0DDfLNDSnVzQEUFq5ILdXZAAkjILAt1cUBn3Yhh9nN1QAuy8tMRynZA1AlZA/54eUCy8FZuenCAQPxEEp0sfH1AynwnwPHAgkA96G/zCueJQKaYGZl//4BAuNHdT5EMhkCFbnN1VaWIQOhI71xxE4ZACDs0Olt1iEDRnupUPLaGQPEyeDwwi4ZA01lLoE+ChUBkLAXqpYKMQIxNyqz1WIZAy+GLJG9Fk0B97UhN/tWOQBG9DIpEbolASvaw/jDrikCH7HnycjaEQCqv4PbpB4xAP/44JCcqi0BL741uqhGIQDNPJlA8cYRAPYvjlL1yi0BSQHqEJYKFQJXlph1LaYpAxTYgcr+piECp3X2w/7mOQDJFF8mUl5BA2ms1t88Gi0DMD9NNPJSNQPp/rkxByY1A5H5sO13MjUCN73OqUUiMQJaTk45n0JZArG1EzE7zn0C+7zxEJVGbQBaQWerWcpBAv4UVkgzOjkC2naemMZ6QQDc4tYOHp4VA/p1lT9YmjECXtWFRlxGDQNEZsXDLc4hAgQACpna4iUBP2M1LqJSIQCl9MjLtfY5AkxfIzvTlh0BWsaCG+pOLQM4dl+RCUIhATQmGiGWThkD6l16rxeiKQF7btcJ/2YJAEV3gO7ZAi0A+RCry3UqAQBypuxLuiYRA0aWWclo5g0Am5DHGd9eIQBVcVDzXLoNA3vIxynLNg0C06iykAEV+QHvHxgTIyX9AOmMArWTgekA=\",\"dtype\":\"float64\",\"order\":\"little\",\"shape\":[166]}},\"selected\":{\"id\":\"1659\"},\"selection_policy\":{\"id\":\"1660\"}},\"id\":\"1646\",\"type\":\"ColumnDataSource\"},{\"attributes\":{\"data_source\":{\"id\":\"1646\"},\"glyph\":{\"id\":\"1647\"},\"hover_glyph\":null,\"muted_glyph\":null,\"nonselection_glyph\":{\"id\":\"1648\"},\"selection_glyph\":null,\"view\":{\"id\":\"1650\"}},\"id\":\"1649\",\"type\":\"GlyphRenderer\"},{\"attributes\":{\"text\":\"Original Series & In-sample Predictions\"},\"id\":\"1599\",\"type\":\"Title\"},{\"attributes\":{},\"id\":\"1621\",\"type\":\"ResetTool\"},{\"attributes\":{\"line_alpha\":0.1,\"line_color\":\"#A6CEE3\",\"x\":{\"field\":\"x\"},\"y\":{\"field\":\"y\"}},\"id\":\"1633\",\"type\":\"Line\"},{\"attributes\":{\"line_color\":\"#FF0000\",\"x\":{\"field\":\"x\"},\"y\":{\"field\":\"y\"}},\"id\":\"1647\",\"type\":\"Line\"},{\"attributes\":{\"bottom_units\":\"screen\",\"fill_alpha\":0.5,\"fill_color\":\"lightgrey\",\"left_units\":\"screen\",\"level\":\"overlay\",\"line_alpha\":1.0,\"line_color\":\"black\",\"line_dash\":[4,4],\"line_width\":2,\"right_units\":\"screen\",\"top_units\":\"screen\"},\"id\":\"1623\",\"type\":\"BoxAnnotation\"},{\"attributes\":{},\"id\":\"1617\",\"type\":\"PanTool\"},{\"attributes\":{},\"id\":\"1660\",\"type\":\"UnionRenderers\"},{\"attributes\":{},\"id\":\"1607\",\"type\":\"LinearScale\"},{\"attributes\":{},\"id\":\"1642\",\"type\":\"Selection\"},{\"attributes\":{},\"id\":\"1659\",\"type\":\"Selection\"},{\"attributes\":{},\"id\":\"1637\",\"type\":\"BasicTickFormatter\"},{\"attributes\":{},\"id\":\"1601\",\"type\":\"DataRange1d\"}],\"root_ids\":[\"1598\"]},\"title\":\"Bokeh Application\",\"version\":\"2.2.0\"}};\n",
       "  var render_items = [{\"docid\":\"7771abb4-4f63-4f20-9c91-a73a2053faf4\",\"root_ids\":[\"1598\"],\"roots\":{\"1598\":\"9cd0fe58-3da7-4fa4-ac8a-b75e5ecbabdf\"}}];\n",
       "  root.Bokeh.embed.embed_items_notebook(docs_json, render_items);\n",
       "\n",
       "  }\n",
       "  if (root.Bokeh !== undefined) {\n",
       "    embed_document(root);\n",
       "  } else {\n",
       "    var attempts = 0;\n",
       "    var timer = setInterval(function(root) {\n",
       "      if (root.Bokeh !== undefined) {\n",
       "        clearInterval(timer);\n",
       "        embed_document(root);\n",
       "      } else {\n",
       "        attempts++;\n",
       "        if (attempts > 100) {\n",
       "          clearInterval(timer);\n",
       "          console.log(\"Bokeh: ERROR: Unable to run BokehJS code because BokehJS library is missing\");\n",
       "        }\n",
       "      }\n",
       "    }, 10, root)\n",
       "  }\n",
       "})(window);"
      ],
      "application/vnd.bokehjs_exec.v0+json": ""
     },
     "metadata": {
      "application/vnd.bokehjs_exec.v0+json": {
       "id": "1598"
      }
     },
     "output_type": "display_data"
    }
   ],
   "source": [
    "show(plot_arima(train_departamento_filter['infectados'], in_sample_preds, \n",
    "                title=\"Original Series & In-sample Predictions\", \n",
    "                c2='#FF0000', forecast_start=0))"
   ]
  },
  {
   "cell_type": "markdown",
   "metadata": {},
   "source": [
    "## Predicciones Futuras"
   ]
  },
  {
   "cell_type": "code",
   "execution_count": 40,
   "metadata": {},
   "outputs": [
    {
     "name": "stderr",
     "output_type": "stream",
     "text": [
      "BokehDeprecationWarning: 'legend' keyword is deprecated, use explicit 'legend_label', 'legend_field', or 'legend_group' keywords instead\n",
      "BokehDeprecationWarning: 'legend' keyword is deprecated, use explicit 'legend_label', 'legend_field', or 'legend_group' keywords instead\n"
     ]
    },
    {
     "data": {
      "text/html": [
       "\n",
       "\n",
       "\n",
       "\n",
       "\n",
       "\n",
       "  <div class=\"bk-root\" id=\"ebfb969b-f050-4df1-b030-104bb78dacc4\" data-root-id=\"1772\"></div>\n"
      ]
     },
     "metadata": {},
     "output_type": "display_data"
    },
    {
     "data": {
      "application/javascript": [
       "(function(root) {\n",
       "  function embed_document(root) {\n",
       "    \n",
       "  var docs_json = {\"504b76d3-7ddf-4169-98e5-f6a46acbaf5f\":{\"roots\":{\"references\":[{\"attributes\":{\"below\":[{\"id\":\"1783\"}],\"center\":[{\"id\":\"1786\"},{\"id\":\"1790\"},{\"id\":\"1818\"}],\"left\":[{\"id\":\"1787\"}],\"plot_height\":400,\"renderers\":[{\"id\":\"1808\"},{\"id\":\"1823\"}],\"title\":{\"id\":\"1773\"},\"toolbar\":{\"id\":\"1798\"},\"x_range\":{\"id\":\"1775\"},\"x_scale\":{\"id\":\"1779\"},\"y_range\":{\"id\":\"1777\"},\"y_scale\":{\"id\":\"1781\"}},\"id\":\"1772\",\"subtype\":\"Figure\",\"type\":\"Plot\"},{\"attributes\":{},\"id\":\"1811\",\"type\":\"BasicTickFormatter\"},{\"attributes\":{\"axis_label\":\"Time\",\"formatter\":{\"id\":\"1811\"},\"ticker\":{\"id\":\"1784\"}},\"id\":\"1783\",\"type\":\"LinearAxis\"},{\"attributes\":{\"line_alpha\":0.1,\"line_color\":\"#B2DF8A\",\"x\":{\"field\":\"x\"},\"y\":{\"field\":\"y\"}},\"id\":\"1822\",\"type\":\"Line\"},{\"attributes\":{},\"id\":\"1781\",\"type\":\"LinearScale\"},{\"attributes\":{\"source\":{\"id\":\"1820\"}},\"id\":\"1824\",\"type\":\"CDSView\"},{\"attributes\":{\"line_color\":\"#B2DF8A\",\"x\":{\"field\":\"x\"},\"y\":{\"field\":\"y\"}},\"id\":\"1821\",\"type\":\"Line\"},{\"attributes\":{},\"id\":\"1784\",\"type\":\"BasicTicker\"},{\"attributes\":{},\"id\":\"1813\",\"type\":\"BasicTickFormatter\"},{\"attributes\":{},\"id\":\"1816\",\"type\":\"Selection\"},{\"attributes\":{\"label\":{\"value\":\"Forecasted\"},\"renderers\":[{\"id\":\"1823\"}]},\"id\":\"1835\",\"type\":\"LegendItem\"},{\"attributes\":{},\"id\":\"1779\",\"type\":\"LinearScale\"},{\"attributes\":{},\"id\":\"1794\",\"type\":\"SaveTool\"},{\"attributes\":{\"overlay\":{\"id\":\"1797\"}},\"id\":\"1793\",\"type\":\"BoxZoomTool\"},{\"attributes\":{\"data\":{\"x\":[0,1,2,3,4,5,6,7,8,9,10,11,12,13,14,15,16,17,18,19,20,21,22,23,24,25,26,27,28,29,30,31,32,33,34,35,36,37,38,39,40,41,42,43,44,45,46,47,48,49,50,51,52,53,54,55,56,57,58,59,60,61,62,63,64,65,66,67,68,69,70,71,72,73,74,75,76,77,78,79,80,81,82,83,84,85,86,87,88,89,90,91,92,93,94,95,96,97,98,99,100,101,102,103,104,105,106,107,108,109,110,111,112,113,114,115,116,117,118,119,120,121,122,123,124,125,126,127,128,129,130,131,132,133,134,135,136,137,138,139,140,141,142,143,144,145,146,147,148,149,150,151,152,153,154,155,156,157,158,159,160,161,162,163,164,165],\"y\":{\"__ndarray__\":\"AAAAAAAA+H8AAAAAAAD4fwAAAAAAAPh/AAAAAAAA+H8AAAAAAAD4fwAAAAAAAPh/AAAAAAAA+H8AAAAAAAD4fwAAAAAAAPh/AAAAAAAA+H8AAAAAAAD4fwAAAAAAAPh/AAAAAAAA+H8AAAAAAAD4fwAAAAAAAPh/AAAAAAAA+H8AAAAAAAD4fwAAAAAAAPh/AAAAAAAA+H8AAAAAAAD4fwAAAAAAAPh/AAAAAAAA+H8AAAAAAAD4fwAAAAAAAPh/AAAAAAAA+H8AAAAAAAD4fwAAAAAAAPh/AAAAAAAA+H8AAAAAAAD4fwAAAAAAAPh/AAAAAAAA+H8AAAAAAAD4fwAAAAAAAPh/AAAAAAAA+H8AAAAAAAD4fwAAAAAAAPh/AAAAAAAA+H8AAAAAAAD4fwAAAAAAAPh/AAAAAAAA+H8AAAAAAAD4fwAAAAAAAPh/AAAAAAAA+H8AAAAAAAD4fwAAAAAAAPh/AAAAAAAA+H8AAAAAAAD4fwAAAAAAAPh/AAAAAAAA+H8AAAAAAAD4fwAAAAAAAPh/AAAAAAAA+H8AAAAAAAD4fwAAAAAAAPh/AAAAAAAA+H8AAAAAAAD4fwAAAAAAAPh/AAAAAAAA+H8AAAAAAAD4fwAAAAAAAPh/AAAAAAAA+H8AAAAAAAD4fwAAAAAAAPh/AAAAAAAA+H8AAAAAAAD4fwAAAAAAAPh/AAAAAAAA+H8AAAAAAAD4fwAAAAAAAPh/AAAAAAAA+H8AAAAAAAD4fwAAAAAAAPh/AAAAAAAA+H8AAAAAAAD4fwAAAAAAAPh/AAAAAAAA+H8AAAAAAAD4fwAAAAAAAPh/AAAAAAAA+H8AAAAAAAD4fwAAAAAAAPh/AAAAAAAA+H8AAAAAAAD4fwAAAAAAAPh/AAAAAAAA+H8AAAAAAAD4fwAAAAAAAPh/AAAAAAAA+H8AAAAAAAD4fwAAAAAAAPh/AAAAAAAA+H8AAAAAAAD4fwAAAAAAAPh/AAAAAAAA+H8AAAAAAAD4fwAAAAAAAPh/AAAAAAAA+H8AAAAAAAD4fwAAAAAAAPh/AAAAAAAA+H8AAAAAAAD4fwAAAAAAAPh/AAAAAAAA+H8AAAAAAAD4fwAAAAAAAPh/AAAAAAAA+H8AAAAAAAD4fwAAAAAAAPh/AAAAAAAA+H8AAAAAAAD4fwAAAAAAAPh/AAAAAAAA+H8AAAAAAAD4fwAAAAAAAPh/AAAAAAAA+H8AAAAAAAD4fwAAAAAAAPh/AAAAAAAA+H8AAAAAAAD4fwAAAAAAAPh/AAAAAAAA+H8AAAAAAAD4fwAAAAAAAPh/AAAAAAAA+H8AAAAAAAD4fwAAAAAAAPh/AAAAAAAA+H8AAAAAAAD4fwAAAAAAAPh/AAAAAAAA+H8AAAAAAAD4fwAAAAAAAPh/AAAAAAAA+H8AAAAAAAD4fwAAAAAAAPh/AAAAAAAA+H8AAAAAAAD4fwAAAAAAAPh/AAAAAAAA+H8AAAAAAAD4fwAAAAAAAPh/AAAAAAAA+H8AAAAAAAD4fwAAAAAAAPh/AAAAAAAA+H8AAAAAAAD4fwAAAAAAAPh/AAAAAAAA+H8AAAAAAAD4fwAAAAAAAPh/AAAAAAAA+H8AAAAAAAD4fwAAAAAAAPh/AAAAAAAA+H8AAAAAAAD4fwAAAAAAAPh/AAAAAAAA+H8AAAAAAAD4fwAAAAAAAPh/AAAAAAAA+H8AAAAAAAD4fwAAAAAAAPh/AAAAAAAA+H8AAAAAAAD4fwAAAAAAAPh/AAAAAAAA+H8=\",\"dtype\":\"float64\",\"order\":\"little\",\"shape\":[166]}},\"selected\":{\"id\":\"1816\"},\"selection_policy\":{\"id\":\"1817\"}},\"id\":\"1805\",\"type\":\"ColumnDataSource\"},{\"attributes\":{},\"id\":\"1833\",\"type\":\"Selection\"},{\"attributes\":{\"active_drag\":\"auto\",\"active_inspect\":\"auto\",\"active_multi\":null,\"active_scroll\":\"auto\",\"active_tap\":\"auto\",\"tools\":[{\"id\":\"1791\"},{\"id\":\"1792\"},{\"id\":\"1793\"},{\"id\":\"1794\"},{\"id\":\"1795\"},{\"id\":\"1796\"}]},\"id\":\"1798\",\"type\":\"Toolbar\"},{\"attributes\":{\"line_color\":\"#A6CEE3\",\"x\":{\"field\":\"x\"},\"y\":{\"field\":\"y\"}},\"id\":\"1806\",\"type\":\"Line\"},{\"attributes\":{\"axis\":{\"id\":\"1787\"},\"dimension\":1,\"grid_line_alpha\":0.3,\"ticker\":null},\"id\":\"1790\",\"type\":\"Grid\"},{\"attributes\":{\"axis\":{\"id\":\"1783\"},\"grid_line_alpha\":0.3,\"ticker\":null},\"id\":\"1786\",\"type\":\"Grid\"},{\"attributes\":{\"items\":[{\"id\":\"1819\"},{\"id\":\"1835\"}]},\"id\":\"1818\",\"type\":\"Legend\"},{\"attributes\":{},\"id\":\"1788\",\"type\":\"BasicTicker\"},{\"attributes\":{},\"id\":\"1795\",\"type\":\"ResetTool\"},{\"attributes\":{\"line_alpha\":0.1,\"line_color\":\"#A6CEE3\",\"x\":{\"field\":\"x\"},\"y\":{\"field\":\"y\"}},\"id\":\"1807\",\"type\":\"Line\"},{\"attributes\":{},\"id\":\"1834\",\"type\":\"UnionRenderers\"},{\"attributes\":{\"label\":{\"value\":\"Observed\"},\"renderers\":[{\"id\":\"1808\"}]},\"id\":\"1819\",\"type\":\"LegendItem\"},{\"attributes\":{},\"id\":\"1817\",\"type\":\"UnionRenderers\"},{\"attributes\":{},\"id\":\"1792\",\"type\":\"WheelZoomTool\"},{\"attributes\":{\"data\":{\"x\":[166,167,168,169,170,171,172],\"y\":{\"__ndarray__\":\"c1OtCFQugEBjHYX4Htl8QOkoyW/84YFAAbOKzKqsfkA41+wiAmGCQCIixyDeaH9AMNAErvuggkA=\",\"dtype\":\"float64\",\"order\":\"little\",\"shape\":[7]}},\"selected\":{\"id\":\"1833\"},\"selection_policy\":{\"id\":\"1834\"}},\"id\":\"1820\",\"type\":\"ColumnDataSource\"},{\"attributes\":{\"source\":{\"id\":\"1805\"}},\"id\":\"1809\",\"type\":\"CDSView\"},{\"attributes\":{\"data_source\":{\"id\":\"1805\"},\"glyph\":{\"id\":\"1806\"},\"hover_glyph\":null,\"muted_glyph\":null,\"nonselection_glyph\":{\"id\":\"1807\"},\"selection_glyph\":null,\"view\":{\"id\":\"1809\"}},\"id\":\"1808\",\"type\":\"GlyphRenderer\"},{\"attributes\":{},\"id\":\"1777\",\"type\":\"DataRange1d\"},{\"attributes\":{},\"id\":\"1791\",\"type\":\"PanTool\"},{\"attributes\":{\"text\":\"ARIMA\"},\"id\":\"1773\",\"type\":\"Title\"},{\"attributes\":{\"data_source\":{\"id\":\"1820\"},\"glyph\":{\"id\":\"1821\"},\"hover_glyph\":null,\"muted_glyph\":null,\"nonselection_glyph\":{\"id\":\"1822\"},\"selection_glyph\":null,\"view\":{\"id\":\"1824\"}},\"id\":\"1823\",\"type\":\"GlyphRenderer\"},{\"attributes\":{},\"id\":\"1796\",\"type\":\"HelpTool\"},{\"attributes\":{\"bottom_units\":\"screen\",\"fill_alpha\":0.5,\"fill_color\":\"lightgrey\",\"left_units\":\"screen\",\"level\":\"overlay\",\"line_alpha\":1.0,\"line_color\":\"black\",\"line_dash\":[4,4],\"line_width\":2,\"right_units\":\"screen\",\"top_units\":\"screen\"},\"id\":\"1797\",\"type\":\"BoxAnnotation\"},{\"attributes\":{\"axis_label\":\"Value\",\"formatter\":{\"id\":\"1813\"},\"ticker\":{\"id\":\"1788\"}},\"id\":\"1787\",\"type\":\"LinearAxis\"},{\"attributes\":{},\"id\":\"1775\",\"type\":\"DataRange1d\"}],\"root_ids\":[\"1772\"]},\"title\":\"Bokeh Application\",\"version\":\"2.2.0\"}};\n",
       "  var render_items = [{\"docid\":\"504b76d3-7ddf-4169-98e5-f6a46acbaf5f\",\"root_ids\":[\"1772\"],\"roots\":{\"1772\":\"ebfb969b-f050-4df1-b030-104bb78dacc4\"}}];\n",
       "  root.Bokeh.embed.embed_items_notebook(docs_json, render_items);\n",
       "\n",
       "  }\n",
       "  if (root.Bokeh !== undefined) {\n",
       "    embed_document(root);\n",
       "  } else {\n",
       "    var attempts = 0;\n",
       "    var timer = setInterval(function(root) {\n",
       "      if (root.Bokeh !== undefined) {\n",
       "        clearInterval(timer);\n",
       "        embed_document(root);\n",
       "      } else {\n",
       "        attempts++;\n",
       "        if (attempts > 100) {\n",
       "          clearInterval(timer);\n",
       "          console.log(\"Bokeh: ERROR: Unable to run BokehJS code because BokehJS library is missing\");\n",
       "        }\n",
       "      }\n",
       "    }, 10, root)\n",
       "  }\n",
       "})(window);"
      ],
      "application/vnd.bokehjs_exec.v0+json": ""
     },
     "metadata": {
      "application/vnd.bokehjs_exec.v0+json": {
       "id": "1772"
      }
     },
     "output_type": "display_data"
    }
   ],
   "source": [
    "next_5 = stepwise_fit.predict(n_periods=7)\n",
    "show(plot_arima(train_departamento_filter['infectados'], next_5))"
   ]
  },
  {
   "cell_type": "code",
   "execution_count": 41,
   "metadata": {},
   "outputs": [
    {
     "data": {
      "text/plain": [
       "24.60622598168985"
      ]
     },
     "execution_count": 41,
     "metadata": {},
     "output_type": "execute_result"
    }
   ],
   "source": [
    "mean_absolute_percentage_error(test_departamento_filter['infectados'], next_5)"
   ]
  },
  {
   "cell_type": "markdown",
   "metadata": {},
   "source": [
    "## VALLE DEL CAUCA"
   ]
  },
  {
   "cell_type": "code",
   "execution_count": 42,
   "metadata": {},
   "outputs": [],
   "source": [
    "train_departamento_filter = train_departamento.loc[train_departamento.departamento == 'valle del cauca']\n",
    "test_departamento_filter = test_departamento.loc[test_departamento.departamento == 'valle del cauca']"
   ]
  },
  {
   "cell_type": "code",
   "execution_count": 43,
   "metadata": {},
   "outputs": [
    {
     "data": {
      "image/png": "[encoded data removed]",
      "text/plain": [
       "<Figure size 432x288 with 1 Axes>"
      ]
     },
     "metadata": {
      "needs_background": "light"
     },
     "output_type": "display_data"
    }
   ],
   "source": [
    "import matplotlib.pyplot as plt\n",
    "plt.plot (train_departamento_filter['fecha'], train_departamento_filter['infectados']) \n",
    "plt.title ('Infected time serie - Atlántico') \n",
    "#plt.grid(True)\n",
    "plt.ylabel ('number of people infected')\n",
    "plt.show ()"
   ]
  },
  {
   "cell_type": "code",
   "execution_count": 44,
   "metadata": {},
   "outputs": [
    {
     "data": {
      "image/png": "[encoded data removed]",
      "text/plain": [
       "<Figure size 1600x300 with 2 Axes>"
      ]
     },
     "execution_count": 44,
     "metadata": {},
     "output_type": "execute_result"
    },
    {
     "data": {
      "image/png": "[encoded data removed]",
      "text/plain": [
       "<Figure size 1600x300 with 2 Axes>"
      ]
     },
     "metadata": {
      "needs_background": "light"
     },
     "output_type": "display_data"
    }
   ],
   "source": [
    "# Draw Plot\n",
    "fig, axes = plt.subplots(1,2,figsize=(16,3), dpi= 100)\n",
    "plot_acf(train_departamento_filter['infectados'], lags=20, ax=axes[0])\n",
    "plot_pacf(train_departamento_filter['infectados'], lags=20, ax=axes[1])"
   ]
  },
  {
   "cell_type": "code",
   "execution_count": 45,
   "metadata": {},
   "outputs": [
    {
     "data": {
      "image/png": "[encoded data removed]",
      "text/plain": [
       "<Figure size 1000x300 with 8 Axes>"
      ]
     },
     "metadata": {
      "needs_background": "light"
     },
     "output_type": "display_data"
    }
   ],
   "source": [
    "from pandas.plotting import lag_plot\n",
    "plt.rcParams.update({'ytick.left' : False, 'axes.titlepad':10})\n",
    "\n",
    "# Plot\n",
    "fig, axes = plt.subplots(1, 8, figsize=(10,3), sharex=True, sharey=True, dpi=100)\n",
    "for i, ax in enumerate(axes.flatten()[:8]):\n",
    "    lag_plot(train_departamento_filter['infectados'], lag=i+1, ax=ax, c='firebrick')\n",
    "    ax.set_title('Lag ' + str(i+1))\n",
    "\n",
    "fig.suptitle('Lag Plots of Infected', y=1.05)    \n",
    "plt.show()"
   ]
  },
  {
   "cell_type": "code",
   "execution_count": 46,
   "metadata": {},
   "outputs": [
    {
     "name": "stderr",
     "output_type": "stream",
     "text": [
      "/Users/santiagocortes/opt/anaconda3/envs/tf2/lib/python3.7/site-packages/pmdarima/arima/_validation.py:60: UserWarning: m (12) set for non-seasonal fit. Setting to 0\n",
      "  warnings.warn(\"m (%i) set for non-seasonal fit. Setting to 0\" % m)\n"
     ]
    },
    {
     "name": "stdout",
     "output_type": "stream",
     "text": [
      "Performing stepwise search to minimize aic\n",
      " ARIMA(0,1,0)(0,0,0)[0] intercept   : AIC=2185.221, Time=0.01 sec\n",
      " ARIMA(1,1,0)(0,0,0)[0] intercept   : AIC=2160.113, Time=0.04 sec\n",
      " ARIMA(0,1,1)(0,0,0)[0] intercept   : AIC=2099.208, Time=0.05 sec\n",
      " ARIMA(0,1,0)(0,0,0)[0]             : AIC=2183.324, Time=0.01 sec\n",
      " ARIMA(1,1,1)(0,0,0)[0] intercept   : AIC=2101.186, Time=0.08 sec\n",
      " ARIMA(0,1,2)(0,0,0)[0] intercept   : AIC=2101.168, Time=0.11 sec\n",
      " ARIMA(1,1,2)(0,0,0)[0] intercept   : AIC=inf, Time=0.14 sec\n",
      " ARIMA(0,1,1)(0,0,0)[0]             : AIC=2105.713, Time=0.03 sec\n",
      "\n",
      "Best model:  ARIMA(0,1,1)(0,0,0)[0] intercept\n",
      "Total fit time: 0.469 seconds\n"
     ]
    },
    {
     "data": {
      "text/html": [
       "<table class=\"simpletable\">\n",
       "<caption>SARIMAX Results</caption>\n",
       "<tr>\n",
       "  <th>Dep. Variable:</th>           <td>y</td>        <th>  No. Observations:  </th>    <td>166</td>   \n",
       "</tr>\n",
       "<tr>\n",
       "  <th>Model:</th>           <td>SARIMAX(0, 1, 1)</td> <th>  Log Likelihood     </th> <td>-1046.604</td>\n",
       "</tr>\n",
       "<tr>\n",
       "  <th>Date:</th>            <td>Mon, 24 Aug 2020</td> <th>  AIC                </th> <td>2099.208</td> \n",
       "</tr>\n",
       "<tr>\n",
       "  <th>Time:</th>                <td>20:29:06</td>     <th>  BIC                </th> <td>2108.526</td> \n",
       "</tr>\n",
       "<tr>\n",
       "  <th>Sample:</th>                  <td>0</td>        <th>  HQIC               </th> <td>2102.990</td> \n",
       "</tr>\n",
       "<tr>\n",
       "  <th></th>                      <td> - 166</td>      <th>                     </th>     <td> </td>    \n",
       "</tr>\n",
       "<tr>\n",
       "  <th>Covariance Type:</th>        <td>opg</td>       <th>                     </th>     <td> </td>    \n",
       "</tr>\n",
       "</table>\n",
       "<table class=\"simpletable\">\n",
       "<tr>\n",
       "      <td></td>         <th>coef</th>     <th>std err</th>      <th>z</th>      <th>P>|z|</th>  <th>[0.025</th>    <th>0.975]</th>  \n",
       "</tr>\n",
       "<tr>\n",
       "  <th>intercept</th> <td>    5.4234</td> <td>    2.780</td> <td>    1.951</td> <td> 0.051</td> <td>   -0.024</td> <td>   10.871</td>\n",
       "</tr>\n",
       "<tr>\n",
       "  <th>ma.L1</th>     <td>   -0.8562</td> <td>    0.051</td> <td>  -16.858</td> <td> 0.000</td> <td>   -0.956</td> <td>   -0.757</td>\n",
       "</tr>\n",
       "<tr>\n",
       "  <th>sigma2</th>    <td> 1.878e+04</td> <td>  920.780</td> <td>   20.392</td> <td> 0.000</td> <td>  1.7e+04</td> <td> 2.06e+04</td>\n",
       "</tr>\n",
       "</table>\n",
       "<table class=\"simpletable\">\n",
       "<tr>\n",
       "  <th>Ljung-Box (Q):</th>          <td>81.58</td> <th>  Jarque-Bera (JB):  </th> <td>4822.05</td>\n",
       "</tr>\n",
       "<tr>\n",
       "  <th>Prob(Q):</th>                <td>0.00</td>  <th>  Prob(JB):          </th>  <td>0.00</td>  \n",
       "</tr>\n",
       "<tr>\n",
       "  <th>Heteroskedasticity (H):</th> <td>47.46</td> <th>  Skew:              </th>  <td>3.43</td>  \n",
       "</tr>\n",
       "<tr>\n",
       "  <th>Prob(H) (two-sided):</th>    <td>0.00</td>  <th>  Kurtosis:          </th>  <td>28.58</td> \n",
       "</tr>\n",
       "</table><br/><br/>Warnings:<br/>[1] Covariance matrix calculated using the outer product of gradients (complex-step)."
      ],
      "text/plain": [
       "<class 'statsmodels.iolib.summary.Summary'>\n",
       "\"\"\"\n",
       "                               SARIMAX Results                                \n",
       "==============================================================================\n",
       "Dep. Variable:                      y   No. Observations:                  166\n",
       "Model:               SARIMAX(0, 1, 1)   Log Likelihood               -1046.604\n",
       "Date:                Mon, 24 Aug 2020   AIC                           2099.208\n",
       "Time:                        20:29:06   BIC                           2108.526\n",
       "Sample:                             0   HQIC                          2102.990\n",
       "                                - 166                                         \n",
       "Covariance Type:                  opg                                         \n",
       "==============================================================================\n",
       "                 coef    std err          z      P>|z|      [0.025      0.975]\n",
       "------------------------------------------------------------------------------\n",
       "intercept      5.4234      2.780      1.951      0.051      -0.024      10.871\n",
       "ma.L1         -0.8562      0.051    -16.858      0.000      -0.956      -0.757\n",
       "sigma2      1.878e+04    920.780     20.392      0.000     1.7e+04    2.06e+04\n",
       "===================================================================================\n",
       "Ljung-Box (Q):                       81.58   Jarque-Bera (JB):              4822.05\n",
       "Prob(Q):                              0.00   Prob(JB):                         0.00\n",
       "Heteroskedasticity (H):              47.46   Skew:                             3.43\n",
       "Prob(H) (two-sided):                  0.00   Kurtosis:                        28.58\n",
       "===================================================================================\n",
       "\n",
       "Warnings:\n",
       "[1] Covariance matrix calculated using the outer product of gradients (complex-step).\n",
       "\"\"\""
      ]
     },
     "execution_count": 46,
     "metadata": {},
     "output_type": "execute_result"
    }
   ],
   "source": [
    "stepwise_fit = pm.auto_arima(train_departamento_filter['infectados'], start_p=0, start_q=0, max_p=7, max_q=8, m=12,\n",
    "                             start_P=0, seasonal=False, d=1, D=1, trace=True,\n",
    "                             error_action='ignore',  # don't want to know if an order does not work\n",
    "                             suppress_warnings=True,  # don't want convergence warnings\n",
    "                             stepwise=True)  # set to stepwise\n",
    "\n",
    "stepwise_fit.summary()"
   ]
  },
  {
   "cell_type": "code",
   "execution_count": 47,
   "metadata": {},
   "outputs": [
    {
     "name": "stderr",
     "output_type": "stream",
     "text": [
      "BokehDeprecationWarning: 'legend' keyword is deprecated, use explicit 'legend_label', 'legend_field', or 'legend_group' keywords instead\n",
      "BokehDeprecationWarning: 'legend' keyword is deprecated, use explicit 'legend_label', 'legend_field', or 'legend_group' keywords instead\n"
     ]
    },
    {
     "data": {
      "text/html": [
       "\n",
       "\n",
       "\n",
       "\n",
       "\n",
       "\n",
       "  <div class=\"bk-root\" id=\"768274cd-85b1-4f37-a522-cd0a56d3b107\" data-root-id=\"1956\"></div>\n"
      ]
     },
     "metadata": {},
     "output_type": "display_data"
    },
    {
     "data": {
      "application/javascript": [
       "(function(root) {\n",
       "  function embed_document(root) {\n",
       "    \n",
       "  var docs_json = {\"7a4fef53-1b5e-4848-90ff-9b329768f50e\":{\"roots\":{\"references\":[{\"attributes\":{\"below\":[{\"id\":\"1967\"}],\"center\":[{\"id\":\"1970\"},{\"id\":\"1974\"},{\"id\":\"2002\"}],\"left\":[{\"id\":\"1971\"}],\"plot_height\":400,\"renderers\":[{\"id\":\"1992\"},{\"id\":\"2007\"}],\"title\":{\"id\":\"1957\"},\"toolbar\":{\"id\":\"1982\"},\"x_range\":{\"id\":\"1959\"},\"x_scale\":{\"id\":\"1963\"},\"y_range\":{\"id\":\"1961\"},\"y_scale\":{\"id\":\"1965\"}},\"id\":\"1956\",\"subtype\":\"Figure\",\"type\":\"Plot\"},{\"attributes\":{},\"id\":\"1959\",\"type\":\"DataRange1d\"},{\"attributes\":{},\"id\":\"1968\",\"type\":\"BasicTicker\"},{\"attributes\":{},\"id\":\"1976\",\"type\":\"WheelZoomTool\"},{\"attributes\":{},\"id\":\"1963\",\"type\":\"LinearScale\"},{\"attributes\":{},\"id\":\"1979\",\"type\":\"ResetTool\"},{\"attributes\":{\"source\":{\"id\":\"1989\"}},\"id\":\"1993\",\"type\":\"CDSView\"},{\"attributes\":{\"text\":\"Original Series & In-sample Predictions\"},\"id\":\"1957\",\"type\":\"Title\"},{\"attributes\":{\"bottom_units\":\"screen\",\"fill_alpha\":0.5,\"fill_color\":\"lightgrey\",\"left_units\":\"screen\",\"level\":\"overlay\",\"line_alpha\":1.0,\"line_color\":\"black\",\"line_dash\":[4,4],\"line_width\":2,\"right_units\":\"screen\",\"top_units\":\"screen\"},\"id\":\"1981\",\"type\":\"BoxAnnotation\"},{\"attributes\":{\"data\":{\"x\":[0,1,2,3,4,5,6,7,8,9,10,11,12,13,14,15,16,17,18,19,20,21,22,23,24,25,26,27,28,29,30,31,32,33,34,35,36,37,38,39,40,41,42,43,44,45,46,47,48,49,50,51,52,53,54,55,56,57,58,59,60,61,62,63,64,65,66,67,68,69,70,71,72,73,74,75,76,77,78,79,80,81,82,83,84,85,86,87,88,89,90,91,92,93,94,95,96,97,98,99,100,101,102,103,104,105,106,107,108,109,110,111,112,113,114,115,116,117,118,119,120,121,122,123,124,125,126,127,128,129,130,131,132,133,134,135,136,137,138,139,140,141,142,143,144,145,146,147,148,149,150,151,152,153,154,155,156,157,158,159,160,161,162,163,164,165],\"y\":{\"__ndarray__\":\"xxVhpZGxFUC6TTgBCggWQA4KlbPFVCBAIreJ2veLJUBCSz4JF5YqQJ186L/cZS9AmmyiDJP4MUBmiq09UBg0QL/TW1bcOzZAJiXXUNYCOEB1a2Zv46E5QMToEqOSGTtAxBhKmNC4PEBdhbRR7No9QJ7Sxzk53T5AOkVKp5EGQEAAaiovZvtAQGCTHv+OOUFA6pu4UB2DQUAwc6OCXcNBQBq6IV2rxkJAnOHl59IjQ0B9I2iWgoZDQG4DTl5mg0VAMg/sMdN8RUCsjvnjKUBFQJTcH4SU50RAZputwHBmRUBOG6Yi5JtFQJbM0mzEJUZAfqyOFAl3RkCEKnr5zixIQC4J2zk7oEdA6ebzTcYESEA8wSUod0hIQKu6DXymuUhACOquMvHQSECsYE7i4+RIQPJ6a2E2f05Abarr8pFET0AWYdU1R0tRQAKrUf/tUVJAmUeVQq1mUUBqjuIWPW9QQJQSHFicAFBA8GmYWP96T0BdyaJQUZtPQCYkDOMkgVBA4S9vfFxQUEDAYgB76l1PQKjPvS+ri1BAyoh3i/6iUEAVsiDR84hQQCsLYtlGvFBAuKksyv2CUEDQgoz/7SNQQOHzraIoHFBAAlBHy07NTkDs/A8ecYdPQPI69xdaXE9A0T+jqWBBUECz24e64rdRQAxUyXetG1JA5Ll4XJvuUECw+oQY7C5RQKhOsDgxb1FA+TejFAjLUUAO+aq3rUdSQILdv8L7cVJAILQrraYyU0Ajhq9aSjBSQICc9sQlOVJAJBEy1ymvUkBLZaAEQJ5TQObklnsz/lRA1kRZYQvXVEC0cXuBZcBVQEMUAFIBrVZAjpX7GoaRVkACdRdA5uBXQHsIBfQMAFlAb2Mokts9WUAad7FzcO9cQE80prEUzF1Aet3MvjnuXkDDQjWR6yxeQLrcIxNE52BAeP6dBGb0YUBS7fjYNZFiQP02hrnWn2JA5tRDBcqsZUAWxIZjzyhlQJhBF5Oe3GRApxQisTPXZECwluLHn6FlQMhfVwh0KGVAQZz6LXGRZkAkGugW2cRmQJvqM45XV2VA2noKPaaIZ0AYb9HnSmFnQCIngnQ3iWdAhFpSq13haUDh9q8jfSlqQAa1Qm8/fmpACiSpTQfnakB+AchizyZsQLoIwwP2kmxADwmrtJQ0bUBBisF6OZduQFOuBizVPG9A88TN7fgNb0AwyNpmrz9wQP0c8TsL925A9Rf6I33Bb0A/lz67bcVxQPJqbHVdrHJALNyc5qCQckCaHXvePUpzQBXDwVoQkHJADHKVAqOrcUCBsiU2rpFyQKAqwyt5CXVAgDyBF+3odUDTfJc7e8R1QOpvFRbMPndAGPwQyeridUAAmumlfz51QHjg5xSxnnVA/I+u7xd7dkBzYe/dS3V4QHIPlZMfUHpA6CdC3KomeUA+aNPS9Mt3QBQjKt0jLXdA/YIPnisceEBi2KaGbTZ6QBgefNBcV3pAmGiAHZr9ekBkr3Pjdjx9QG4kLgp7W3tAtkfpKJ7ee0AiyNAipe18QDQuZATvmn9AwZpvb2cdgUDJGybeCwuBQI5QOoY31IBA5+oHxlaLgUCvHkEsUVOBQFl8l25VPoJA1OjzJL6CgUDYT5l5sRyDQDou6pL5iINAAB1ep8k+hUCr0jvvoj6FQLfKOPPGLYZA65VzJ7RHhUBWwsgbzPaGQMaD4XLY+IhAHYkR6gxViEBKz6+a9jCHQHJeuNeVq4dA0VvmlkHUhUCkvQiOkX2GQAteIRvho4tAc5To7kuli0A=\",\"dtype\":\"float64\",\"order\":\"little\",\"shape\":[166]}},\"selected\":{\"id\":\"2017\"},\"selection_policy\":{\"id\":\"2018\"}},\"id\":\"2004\",\"type\":\"ColumnDataSource\"},{\"attributes\":{\"axis\":{\"id\":\"1971\"},\"dimension\":1,\"grid_line_alpha\":0.3,\"ticker\":null},\"id\":\"1974\",\"type\":\"Grid\"},{\"attributes\":{\"label\":{\"value\":\"Observed\"},\"renderers\":[{\"id\":\"1992\"}]},\"id\":\"2003\",\"type\":\"LegendItem\"},{\"attributes\":{\"line_color\":\"#A6CEE3\",\"x\":{\"field\":\"x\"},\"y\":{\"field\":\"y\"}},\"id\":\"1990\",\"type\":\"Line\"},{\"attributes\":{\"line_alpha\":0.1,\"line_color\":\"#A6CEE3\",\"x\":{\"field\":\"x\"},\"y\":{\"field\":\"y\"}},\"id\":\"1991\",\"type\":\"Line\"},{\"attributes\":{\"axis_label\":\"Time\",\"formatter\":{\"id\":\"1995\"},\"ticker\":{\"id\":\"1968\"}},\"id\":\"1967\",\"type\":\"LinearAxis\"},{\"attributes\":{},\"id\":\"1997\",\"type\":\"BasicTickFormatter\"},{\"attributes\":{\"data_source\":{\"id\":\"1989\"},\"glyph\":{\"id\":\"1990\"},\"hover_glyph\":null,\"muted_glyph\":null,\"nonselection_glyph\":{\"id\":\"1991\"},\"selection_glyph\":null,\"view\":{\"id\":\"1993\"}},\"id\":\"1992\",\"type\":\"GlyphRenderer\"},{\"attributes\":{},\"id\":\"1995\",\"type\":\"BasicTickFormatter\"},{\"attributes\":{},\"id\":\"1972\",\"type\":\"BasicTicker\"},{\"attributes\":{\"axis\":{\"id\":\"1967\"},\"grid_line_alpha\":0.3,\"ticker\":null},\"id\":\"1970\",\"type\":\"Grid\"},{\"attributes\":{\"data_source\":{\"id\":\"2004\"},\"glyph\":{\"id\":\"2005\"},\"hover_glyph\":null,\"muted_glyph\":null,\"nonselection_glyph\":{\"id\":\"2006\"},\"selection_glyph\":null,\"view\":{\"id\":\"2008\"}},\"id\":\"2007\",\"type\":\"GlyphRenderer\"},{\"attributes\":{},\"id\":\"2017\",\"type\":\"Selection\"},{\"attributes\":{},\"id\":\"1961\",\"type\":\"DataRange1d\"},{\"attributes\":{\"data\":{\"x\":[0,1,2,3,4,5,6,7,8,9,10,11,12,13,14,15,16,17,18,19,20,21,22,23,24,25,26,27,28,29,30,31,32,33,34,35,36,37,38,39,40,41,42,43,44,45,46,47,48,49,50,51,52,53,54,55,56,57,58,59,60,61,62,63,64,65,66,67,68,69,70,71,72,73,74,75,76,77,78,79,80,81,82,83,84,85,86,87,88,89,90,91,92,93,94,95,96,97,98,99,100,101,102,103,104,105,106,107,108,109,110,111,112,113,114,115,116,117,118,119,120,121,122,123,124,125,126,127,128,129,130,131,132,133,134,135,136,137,138,139,140,141,142,143,144,145,146,147,148,149,150,151,152,153,154,155,156,157,158,159,160,161,162,163,164,165],\"y\":{\"__ndarray__\":\"AAAAAAAA+H8AAAAAAAD4fwAAAAAAAPh/AAAAAAAA+H8AAAAAAAD4fwAAAAAAAPh/AAAAAAAA+H8AAAAAAAD4fwAAAAAAAPh/AAAAAAAA+H8AAAAAAAD4fwAAAAAAAPh/AAAAAAAA+H8AAAAAAAD4fwAAAAAAAPh/AAAAAAAA+H8AAAAAAAD4fwAAAAAAAPh/AAAAAAAA+H8AAAAAAAD4fwAAAAAAAPh/AAAAAAAA+H8AAAAAAAD4fwAAAAAAAPh/AAAAAAAA+H8AAAAAAAD4fwAAAAAAAPh/AAAAAAAA+H8AAAAAAAD4fwAAAAAAAPh/AAAAAAAA+H8AAAAAAAD4fwAAAAAAAPh/AAAAAAAA+H8AAAAAAAD4fwAAAAAAAPh/AAAAAAAA+H8AAAAAAAD4fwAAAAAAAPh/AAAAAAAA+H8AAAAAAAD4fwAAAAAAAPh/AAAAAAAA+H8AAAAAAAD4fwAAAAAAAPh/AAAAAAAA+H8AAAAAAAD4fwAAAAAAAPh/AAAAAAAA+H8AAAAAAAD4fwAAAAAAAPh/AAAAAAAA+H8AAAAAAAD4fwAAAAAAAPh/AAAAAAAA+H8AAAAAAAD4fwAAAAAAAPh/AAAAAAAA+H8AAAAAAAD4fwAAAAAAAPh/AAAAAAAA+H8AAAAAAAD4fwAAAAAAAPh/AAAAAAAA+H8AAAAAAAD4fwAAAAAAAPh/AAAAAAAA+H8AAAAAAAD4fwAAAAAAAPh/AAAAAAAA+H8AAAAAAAD4fwAAAAAAAPh/AAAAAAAA+H8AAAAAAAD4fwAAAAAAAPh/AAAAAAAA+H8AAAAAAAD4fwAAAAAAAPh/AAAAAAAA+H8AAAAAAAD4fwAAAAAAAPh/AAAAAAAA+H8AAAAAAAD4fwAAAAAAAPh/AAAAAAAA+H8AAAAAAAD4fwAAAAAAAPh/AAAAAAAA+H8AAAAAAAD4fwAAAAAAAPh/AAAAAAAA+H8AAAAAAAD4fwAAAAAAAPh/AAAAAAAA+H8AAAAAAAD4fwAAAAAAAPh/AAAAAAAA+H8AAAAAAAD4fwAAAAAAAPh/AAAAAAAA+H8AAAAAAAD4fwAAAAAAAPh/AAAAAAAA+H8AAAAAAAD4fwAAAAAAAPh/AAAAAAAA+H8AAAAAAAD4fwAAAAAAAPh/AAAAAAAA+H8AAAAAAAD4fwAAAAAAAPh/AAAAAAAA+H8AAAAAAAD4fwAAAAAAAPh/AAAAAAAA+H8AAAAAAAD4fwAAAAAAAPh/AAAAAAAA+H8AAAAAAAD4fwAAAAAAAPh/AAAAAAAA+H8AAAAAAAD4fwAAAAAAAPh/AAAAAAAA+H8AAAAAAAD4fwAAAAAAAPh/AAAAAAAA+H8AAAAAAAD4fwAAAAAAAPh/AAAAAAAA+H8AAAAAAAD4fwAAAAAAAPh/AAAAAAAA+H8AAAAAAAD4fwAAAAAAAPh/AAAAAAAA+H8AAAAAAAD4fwAAAAAAAPh/AAAAAAAA+H8AAAAAAAD4fwAAAAAAAPh/AAAAAAAA+H8AAAAAAAD4fwAAAAAAAPh/AAAAAAAA+H8AAAAAAAD4fwAAAAAAAPh/AAAAAAAA+H8AAAAAAAD4fwAAAAAAAPh/AAAAAAAA+H8AAAAAAAD4fwAAAAAAAPh/AAAAAAAA+H8AAAAAAAD4fwAAAAAAAPh/AAAAAAAA+H8AAAAAAAD4fwAAAAAAAPh/AAAAAAAA+H8AAAAAAAD4fwAAAAAAAPh/AAAAAAAA+H8AAAAAAAD4fwAAAAAAAPh/AAAAAAAA+H8=\",\"dtype\":\"float64\",\"order\":\"little\",\"shape\":[166]}},\"selected\":{\"id\":\"2000\"},\"selection_policy\":{\"id\":\"2001\"}},\"id\":\"1989\",\"type\":\"ColumnDataSource\"},{\"attributes\":{},\"id\":\"2000\",\"type\":\"Selection\"},{\"attributes\":{\"active_drag\":\"auto\",\"active_inspect\":\"auto\",\"active_multi\":null,\"active_scroll\":\"auto\",\"active_tap\":\"auto\",\"tools\":[{\"id\":\"1975\"},{\"id\":\"1976\"},{\"id\":\"1977\"},{\"id\":\"1978\"},{\"id\":\"1979\"},{\"id\":\"1980\"}]},\"id\":\"1982\",\"type\":\"Toolbar\"},{\"attributes\":{\"line_alpha\":0.1,\"line_color\":\"#FF0000\",\"x\":{\"field\":\"x\"},\"y\":{\"field\":\"y\"}},\"id\":\"2006\",\"type\":\"Line\"},{\"attributes\":{\"axis_label\":\"Value\",\"formatter\":{\"id\":\"1997\"},\"ticker\":{\"id\":\"1972\"}},\"id\":\"1971\",\"type\":\"LinearAxis\"},{\"attributes\":{},\"id\":\"1965\",\"type\":\"LinearScale\"},{\"attributes\":{},\"id\":\"1978\",\"type\":\"SaveTool\"},{\"attributes\":{\"source\":{\"id\":\"2004\"}},\"id\":\"2008\",\"type\":\"CDSView\"},{\"attributes\":{\"line_color\":\"#FF0000\",\"x\":{\"field\":\"x\"},\"y\":{\"field\":\"y\"}},\"id\":\"2005\",\"type\":\"Line\"},{\"attributes\":{\"label\":{\"value\":\"Forecasted\"},\"renderers\":[{\"id\":\"2007\"}]},\"id\":\"2019\",\"type\":\"LegendItem\"},{\"attributes\":{},\"id\":\"1975\",\"type\":\"PanTool\"},{\"attributes\":{},\"id\":\"1980\",\"type\":\"HelpTool\"},{\"attributes\":{},\"id\":\"2001\",\"type\":\"UnionRenderers\"},{\"attributes\":{\"items\":[{\"id\":\"2003\"},{\"id\":\"2019\"}]},\"id\":\"2002\",\"type\":\"Legend\"},{\"attributes\":{\"overlay\":{\"id\":\"1981\"}},\"id\":\"1977\",\"type\":\"BoxZoomTool\"},{\"attributes\":{},\"id\":\"2018\",\"type\":\"UnionRenderers\"}],\"root_ids\":[\"1956\"]},\"title\":\"Bokeh Application\",\"version\":\"2.2.0\"}};\n",
       "  var render_items = [{\"docid\":\"7a4fef53-1b5e-4848-90ff-9b329768f50e\",\"root_ids\":[\"1956\"],\"roots\":{\"1956\":\"768274cd-85b1-4f37-a522-cd0a56d3b107\"}}];\n",
       "  root.Bokeh.embed.embed_items_notebook(docs_json, render_items);\n",
       "\n",
       "  }\n",
       "  if (root.Bokeh !== undefined) {\n",
       "    embed_document(root);\n",
       "  } else {\n",
       "    var attempts = 0;\n",
       "    var timer = setInterval(function(root) {\n",
       "      if (root.Bokeh !== undefined) {\n",
       "        clearInterval(timer);\n",
       "        embed_document(root);\n",
       "      } else {\n",
       "        attempts++;\n",
       "        if (attempts > 100) {\n",
       "          clearInterval(timer);\n",
       "          console.log(\"Bokeh: ERROR: Unable to run BokehJS code because BokehJS library is missing\");\n",
       "        }\n",
       "      }\n",
       "    }, 10, root)\n",
       "  }\n",
       "})(window);"
      ],
      "application/vnd.bokehjs_exec.v0+json": ""
     },
     "metadata": {
      "application/vnd.bokehjs_exec.v0+json": {
       "id": "1956"
      }
     },
     "output_type": "display_data"
    }
   ],
   "source": [
    "in_sample_preds = stepwise_fit.predict_in_sample()\n",
    "show(plot_arima(train_departamento_filter['infectados'], in_sample_preds, \n",
    "                title=\"Original Series & In-sample Predictions\", \n",
    "                c2='#FF0000', forecast_start=0))"
   ]
  },
  {
   "cell_type": "markdown",
   "metadata": {},
   "source": [
    "## Predicciones Futuras"
   ]
  },
  {
   "cell_type": "code",
   "execution_count": 48,
   "metadata": {},
   "outputs": [
    {
     "name": "stderr",
     "output_type": "stream",
     "text": [
      "BokehDeprecationWarning: 'legend' keyword is deprecated, use explicit 'legend_label', 'legend_field', or 'legend_group' keywords instead\n",
      "BokehDeprecationWarning: 'legend' keyword is deprecated, use explicit 'legend_label', 'legend_field', or 'legend_group' keywords instead\n"
     ]
    },
    {
     "data": {
      "text/html": [
       "\n",
       "\n",
       "\n",
       "\n",
       "\n",
       "\n",
       "  <div class=\"bk-root\" id=\"31e4eefa-f8d5-4468-a7b7-ec55a4dccfd8\" data-root-id=\"2150\"></div>\n"
      ]
     },
     "metadata": {},
     "output_type": "display_data"
    },
    {
     "data": {
      "application/javascript": [
       "(function(root) {\n",
       "  function embed_document(root) {\n",
       "    \n",
       "  var docs_json = {\"2dcfcc40-a75d-4b43-81f5-791cc87a93c2\":{\"roots\":{\"references\":[{\"attributes\":{\"below\":[{\"id\":\"2161\"}],\"center\":[{\"id\":\"2164\"},{\"id\":\"2168\"},{\"id\":\"2196\"}],\"left\":[{\"id\":\"2165\"}],\"plot_height\":400,\"renderers\":[{\"id\":\"2186\"},{\"id\":\"2201\"}],\"title\":{\"id\":\"2151\"},\"toolbar\":{\"id\":\"2176\"},\"x_range\":{\"id\":\"2153\"},\"x_scale\":{\"id\":\"2157\"},\"y_range\":{\"id\":\"2155\"},\"y_scale\":{\"id\":\"2159\"}},\"id\":\"2150\",\"subtype\":\"Figure\",\"type\":\"Plot\"},{\"attributes\":{\"axis_label\":\"Value\",\"formatter\":{\"id\":\"2191\"},\"ticker\":{\"id\":\"2166\"}},\"id\":\"2165\",\"type\":\"LinearAxis\"},{\"attributes\":{},\"id\":\"2170\",\"type\":\"WheelZoomTool\"},{\"attributes\":{},\"id\":\"2174\",\"type\":\"HelpTool\"},{\"attributes\":{\"bottom_units\":\"screen\",\"fill_alpha\":0.5,\"fill_color\":\"lightgrey\",\"left_units\":\"screen\",\"level\":\"overlay\",\"line_alpha\":1.0,\"line_color\":\"black\",\"line_dash\":[4,4],\"line_width\":2,\"right_units\":\"screen\",\"top_units\":\"screen\"},\"id\":\"2175\",\"type\":\"BoxAnnotation\"},{\"attributes\":{},\"id\":\"2169\",\"type\":\"PanTool\"},{\"attributes\":{\"label\":{\"value\":\"Observed\"},\"renderers\":[{\"id\":\"2186\"}]},\"id\":\"2197\",\"type\":\"LegendItem\"},{\"attributes\":{},\"id\":\"2159\",\"type\":\"LinearScale\"},{\"attributes\":{},\"id\":\"2153\",\"type\":\"DataRange1d\"},{\"attributes\":{\"data\":{\"x\":[166,167,168,169,170,171,172],\"y\":{\"__ndarray__\":\"3Ao6Fvkni0AIzYQ5XFOLQDSPz1y/fotAYFEagCKqi0CME2WjhdWLQLjVr8boAIxA5Jf66UssjEA=\",\"dtype\":\"float64\",\"order\":\"little\",\"shape\":[7]}},\"selected\":{\"id\":\"2211\"},\"selection_policy\":{\"id\":\"2212\"}},\"id\":\"2198\",\"type\":\"ColumnDataSource\"},{\"attributes\":{},\"id\":\"2155\",\"type\":\"DataRange1d\"},{\"attributes\":{\"source\":{\"id\":\"2198\"}},\"id\":\"2202\",\"type\":\"CDSView\"},{\"attributes\":{\"text\":\"ARIMA\"},\"id\":\"2151\",\"type\":\"Title\"},{\"attributes\":{},\"id\":\"2166\",\"type\":\"BasicTicker\"},{\"attributes\":{\"axis\":{\"id\":\"2165\"},\"dimension\":1,\"grid_line_alpha\":0.3,\"ticker\":null},\"id\":\"2168\",\"type\":\"Grid\"},{\"attributes\":{\"overlay\":{\"id\":\"2175\"}},\"id\":\"2171\",\"type\":\"BoxZoomTool\"},{\"attributes\":{\"data_source\":{\"id\":\"2183\"},\"glyph\":{\"id\":\"2184\"},\"hover_glyph\":null,\"muted_glyph\":null,\"nonselection_glyph\":{\"id\":\"2185\"},\"selection_glyph\":null,\"view\":{\"id\":\"2187\"}},\"id\":\"2186\",\"type\":\"GlyphRenderer\"},{\"attributes\":{\"line_alpha\":0.1,\"line_color\":\"#B2DF8A\",\"x\":{\"field\":\"x\"},\"y\":{\"field\":\"y\"}},\"id\":\"2200\",\"type\":\"Line\"},{\"attributes\":{},\"id\":\"2211\",\"type\":\"Selection\"},{\"attributes\":{\"axis\":{\"id\":\"2161\"},\"grid_line_alpha\":0.3,\"ticker\":null},\"id\":\"2164\",\"type\":\"Grid\"},{\"attributes\":{},\"id\":\"2195\",\"type\":\"UnionRenderers\"},{\"attributes\":{\"items\":[{\"id\":\"2197\"},{\"id\":\"2213\"}]},\"id\":\"2196\",\"type\":\"Legend\"},{\"attributes\":{},\"id\":\"2172\",\"type\":\"SaveTool\"},{\"attributes\":{\"axis_label\":\"Time\",\"formatter\":{\"id\":\"2189\"},\"ticker\":{\"id\":\"2162\"}},\"id\":\"2161\",\"type\":\"LinearAxis\"},{\"attributes\":{\"line_color\":\"#B2DF8A\",\"x\":{\"field\":\"x\"},\"y\":{\"field\":\"y\"}},\"id\":\"2199\",\"type\":\"Line\"},{\"attributes\":{},\"id\":\"2189\",\"type\":\"BasicTickFormatter\"},{\"attributes\":{},\"id\":\"2191\",\"type\":\"BasicTickFormatter\"},{\"attributes\":{},\"id\":\"2212\",\"type\":\"UnionRenderers\"},{\"attributes\":{\"label\":{\"value\":\"Forecasted\"},\"renderers\":[{\"id\":\"2201\"}]},\"id\":\"2213\",\"type\":\"LegendItem\"},{\"attributes\":{\"line_color\":\"#A6CEE3\",\"x\":{\"field\":\"x\"},\"y\":{\"field\":\"y\"}},\"id\":\"2184\",\"type\":\"Line\"},{\"attributes\":{},\"id\":\"2162\",\"type\":\"BasicTicker\"},{\"attributes\":{\"line_alpha\":0.1,\"line_color\":\"#A6CEE3\",\"x\":{\"field\":\"x\"},\"y\":{\"field\":\"y\"}},\"id\":\"2185\",\"type\":\"Line\"},{\"attributes\":{\"source\":{\"id\":\"2183\"}},\"id\":\"2187\",\"type\":\"CDSView\"},{\"attributes\":{\"active_drag\":\"auto\",\"active_inspect\":\"auto\",\"active_multi\":null,\"active_scroll\":\"auto\",\"active_tap\":\"auto\",\"tools\":[{\"id\":\"2169\"},{\"id\":\"2170\"},{\"id\":\"2171\"},{\"id\":\"2172\"},{\"id\":\"2173\"},{\"id\":\"2174\"}]},\"id\":\"2176\",\"type\":\"Toolbar\"},{\"attributes\":{},\"id\":\"2194\",\"type\":\"Selection\"},{\"attributes\":{\"data_source\":{\"id\":\"2198\"},\"glyph\":{\"id\":\"2199\"},\"hover_glyph\":null,\"muted_glyph\":null,\"nonselection_glyph\":{\"id\":\"2200\"},\"selection_glyph\":null,\"view\":{\"id\":\"2202\"}},\"id\":\"2201\",\"type\":\"GlyphRenderer\"},{\"attributes\":{},\"id\":\"2173\",\"type\":\"ResetTool\"},{\"attributes\":{},\"id\":\"2157\",\"type\":\"LinearScale\"},{\"attributes\":{\"data\":{\"x\":[0,1,2,3,4,5,6,7,8,9,10,11,12,13,14,15,16,17,18,19,20,21,22,23,24,25,26,27,28,29,30,31,32,33,34,35,36,37,38,39,40,41,42,43,44,45,46,47,48,49,50,51,52,53,54,55,56,57,58,59,60,61,62,63,64,65,66,67,68,69,70,71,72,73,74,75,76,77,78,79,80,81,82,83,84,85,86,87,88,89,90,91,92,93,94,95,96,97,98,99,100,101,102,103,104,105,106,107,108,109,110,111,112,113,114,115,116,117,118,119,120,121,122,123,124,125,126,127,128,129,130,131,132,133,134,135,136,137,138,139,140,141,142,143,144,145,146,147,148,149,150,151,152,153,154,155,156,157,158,159,160,161,162,163,164,165],\"y\":{\"__ndarray__\":\"AAAAAAAA+H8AAAAAAAD4fwAAAAAAAPh/AAAAAAAA+H8AAAAAAAD4fwAAAAAAAPh/AAAAAAAA+H8AAAAAAAD4fwAAAAAAAPh/AAAAAAAA+H8AAAAAAAD4fwAAAAAAAPh/AAAAAAAA+H8AAAAAAAD4fwAAAAAAAPh/AAAAAAAA+H8AAAAAAAD4fwAAAAAAAPh/AAAAAAAA+H8AAAAAAAD4fwAAAAAAAPh/AAAAAAAA+H8AAAAAAAD4fwAAAAAAAPh/AAAAAAAA+H8AAAAAAAD4fwAAAAAAAPh/AAAAAAAA+H8AAAAAAAD4fwAAAAAAAPh/AAAAAAAA+H8AAAAAAAD4fwAAAAAAAPh/AAAAAAAA+H8AAAAAAAD4fwAAAAAAAPh/AAAAAAAA+H8AAAAAAAD4fwAAAAAAAPh/AAAAAAAA+H8AAAAAAAD4fwAAAAAAAPh/AAAAAAAA+H8AAAAAAAD4fwAAAAAAAPh/AAAAAAAA+H8AAAAAAAD4fwAAAAAAAPh/AAAAAAAA+H8AAAAAAAD4fwAAAAAAAPh/AAAAAAAA+H8AAAAAAAD4fwAAAAAAAPh/AAAAAAAA+H8AAAAAAAD4fwAAAAAAAPh/AAAAAAAA+H8AAAAAAAD4fwAAAAAAAPh/AAAAAAAA+H8AAAAAAAD4fwAAAAAAAPh/AAAAAAAA+H8AAAAAAAD4fwAAAAAAAPh/AAAAAAAA+H8AAAAAAAD4fwAAAAAAAPh/AAAAAAAA+H8AAAAAAAD4fwAAAAAAAPh/AAAAAAAA+H8AAAAAAAD4fwAAAAAAAPh/AAAAAAAA+H8AAAAAAAD4fwAAAAAAAPh/AAAAAAAA+H8AAAAAAAD4fwAAAAAAAPh/AAAAAAAA+H8AAAAAAAD4fwAAAAAAAPh/AAAAAAAA+H8AAAAAAAD4fwAAAAAAAPh/AAAAAAAA+H8AAAAAAAD4fwAAAAAAAPh/AAAAAAAA+H8AAAAAAAD4fwAAAAAAAPh/AAAAAAAA+H8AAAAAAAD4fwAAAAAAAPh/AAAAAAAA+H8AAAAAAAD4fwAAAAAAAPh/AAAAAAAA+H8AAAAAAAD4fwAAAAAAAPh/AAAAAAAA+H8AAAAAAAD4fwAAAAAAAPh/AAAAAAAA+H8AAAAAAAD4fwAAAAAAAPh/AAAAAAAA+H8AAAAAAAD4fwAAAAAAAPh/AAAAAAAA+H8AAAAAAAD4fwAAAAAAAPh/AAAAAAAA+H8AAAAAAAD4fwAAAAAAAPh/AAAAAAAA+H8AAAAAAAD4fwAAAAAAAPh/AAAAAAAA+H8AAAAAAAD4fwAAAAAAAPh/AAAAAAAA+H8AAAAAAAD4fwAAAAAAAPh/AAAAAAAA+H8AAAAAAAD4fwAAAAAAAPh/AAAAAAAA+H8AAAAAAAD4fwAAAAAAAPh/AAAAAAAA+H8AAAAAAAD4fwAAAAAAAPh/AAAAAAAA+H8AAAAAAAD4fwAAAAAAAPh/AAAAAAAA+H8AAAAAAAD4fwAAAAAAAPh/AAAAAAAA+H8AAAAAAAD4fwAAAAAAAPh/AAAAAAAA+H8AAAAAAAD4fwAAAAAAAPh/AAAAAAAA+H8AAAAAAAD4fwAAAAAAAPh/AAAAAAAA+H8AAAAAAAD4fwAAAAAAAPh/AAAAAAAA+H8AAAAAAAD4fwAAAAAAAPh/AAAAAAAA+H8AAAAAAAD4fwAAAAAAAPh/AAAAAAAA+H8AAAAAAAD4fwAAAAAAAPh/AAAAAAAA+H8AAAAAAAD4fwAAAAAAAPh/AAAAAAAA+H8=\",\"dtype\":\"float64\",\"order\":\"little\",\"shape\":[166]}},\"selected\":{\"id\":\"2194\"},\"selection_policy\":{\"id\":\"2195\"}},\"id\":\"2183\",\"type\":\"ColumnDataSource\"}],\"root_ids\":[\"2150\"]},\"title\":\"Bokeh Application\",\"version\":\"2.2.0\"}};\n",
       "  var render_items = [{\"docid\":\"2dcfcc40-a75d-4b43-81f5-791cc87a93c2\",\"root_ids\":[\"2150\"],\"roots\":{\"2150\":\"31e4eefa-f8d5-4468-a7b7-ec55a4dccfd8\"}}];\n",
       "  root.Bokeh.embed.embed_items_notebook(docs_json, render_items);\n",
       "\n",
       "  }\n",
       "  if (root.Bokeh !== undefined) {\n",
       "    embed_document(root);\n",
       "  } else {\n",
       "    var attempts = 0;\n",
       "    var timer = setInterval(function(root) {\n",
       "      if (root.Bokeh !== undefined) {\n",
       "        clearInterval(timer);\n",
       "        embed_document(root);\n",
       "      } else {\n",
       "        attempts++;\n",
       "        if (attempts > 100) {\n",
       "          clearInterval(timer);\n",
       "          console.log(\"Bokeh: ERROR: Unable to run BokehJS code because BokehJS library is missing\");\n",
       "        }\n",
       "      }\n",
       "    }, 10, root)\n",
       "  }\n",
       "})(window);"
      ],
      "application/vnd.bokehjs_exec.v0+json": ""
     },
     "metadata": {
      "application/vnd.bokehjs_exec.v0+json": {
       "id": "2150"
      }
     },
     "output_type": "display_data"
    }
   ],
   "source": [
    "next_5 = stepwise_fit.predict(n_periods=7)\n",
    "show(plot_arima(train_departamento_filter['infectados'], next_5))"
   ]
  },
  {
   "cell_type": "code",
   "execution_count": 49,
   "metadata": {},
   "outputs": [
    {
     "data": {
      "text/plain": [
       "15.916292225577571"
      ]
     },
     "execution_count": 49,
     "metadata": {},
     "output_type": "execute_result"
    }
   ],
   "source": [
    "mean_absolute_percentage_error(test_departamento_filter['infectados'], next_5)"
   ]
  },
  {
   "cell_type": "markdown",
   "metadata": {},
   "source": [
    "## TODOS LOS DEPARTAMENTOS"
   ]
  },
  {
   "cell_type": "code",
   "execution_count": 50,
   "metadata": {},
   "outputs": [
    {
     "data": {
      "text/plain": [
       "0      amazonas\n",
       "1      amazonas\n",
       "2      amazonas\n",
       "3      amazonas\n",
       "4      amazonas\n",
       "         ...   \n",
       "226     vichada\n",
       "227     vichada\n",
       "228     vichada\n",
       "229     vichada\n",
       "230     vichada\n",
       "Name: departamento, Length: 231, dtype: object"
      ]
     },
     "execution_count": 50,
     "metadata": {},
     "output_type": "execute_result"
    }
   ],
   "source": [
    "test_departamento['departamento']"
   ]
  },
  {
   "cell_type": "code",
   "execution_count": 51,
   "metadata": {},
   "outputs": [],
   "source": [
    "real = test_departamento[test_departamento['departamento'] == 'antioquia' ] ['infectados']"
   ]
  },
  {
   "cell_type": "code",
   "execution_count": 52,
   "metadata": {},
   "outputs": [
    {
     "data": {
      "text/plain": [
       "7     1687.0\n",
       "8     1423.0\n",
       "9     1034.0\n",
       "10    1415.0\n",
       "11    1525.0\n",
       "12     826.0\n",
       "13    1279.0\n",
       "Name: infectados, dtype: float64"
      ]
     },
     "execution_count": 52,
     "metadata": {},
     "output_type": "execute_result"
    }
   ],
   "source": [
    "real"
   ]
  },
  {
   "cell_type": "code",
   "execution_count": 56,
   "metadata": {
    "scrolled": true
   },
   "outputs": [
    {
     "name": "stderr",
     "output_type": "stream",
     "text": [
      "/Users/santiagocortes/opt/anaconda3/envs/tf2/lib/python3.7/site-packages/pmdarima/arima/_validation.py:60: UserWarning: m (12) set for non-seasonal fit. Setting to 0\n",
      "  warnings.warn(\"m (%i) set for non-seasonal fit. Setting to 0\" % m)\n"
     ]
    },
    {
     "name": "stdout",
     "output_type": "stream",
     "text": [
      " ARIMA(0,1,0)(0,0,0)[0] intercept   : AIC=1691.771, Time=0.04 sec\n",
      " ARIMA(0,1,1)(0,0,0)[0] intercept   : AIC=1588.324, Time=0.04 sec\n",
      " ARIMA(0,1,2)(0,0,0)[0] intercept   : AIC=1585.999, Time=0.05 sec\n",
      " ARIMA(0,1,3)(0,0,0)[0] intercept   : AIC=1585.711, Time=0.07 sec\n",
      " ARIMA(0,1,4)(0,0,0)[0] intercept   : AIC=1587.683, Time=0.11 sec\n",
      " ARIMA(0,1,5)(0,0,0)[0] intercept   : AIC=1588.005, Time=0.15 sec\n",
      " ARIMA(1,1,0)(0,0,0)[0] intercept   : AIC=1643.208, Time=0.03 sec\n",
      " ARIMA(1,1,1)(0,0,0)[0] intercept   : AIC=1587.261, Time=0.05 sec\n",
      " ARIMA(1,1,2)(0,0,0)[0] intercept   : AIC=1584.821, Time=0.08 sec\n",
      " ARIMA(1,1,3)(0,0,0)[0] intercept   : AIC=1587.423, Time=0.16 sec\n",
      " ARIMA(1,1,4)(0,0,0)[0] intercept   : AIC=1589.099, Time=0.22 sec\n",
      " ARIMA(2,1,0)(0,0,0)[0] intercept   : AIC=1606.204, Time=0.04 sec\n",
      " ARIMA(2,1,1)(0,0,0)[0] intercept   : AIC=1585.153, Time=0.07 sec\n",
      " ARIMA(2,1,2)(0,0,0)[0] intercept   : AIC=1587.054, Time=0.13 sec\n",
      " ARIMA(2,1,3)(0,0,0)[0] intercept   : AIC=1577.970, Time=0.30 sec\n",
      " ARIMA(3,1,0)(0,0,0)[0] intercept   : AIC=1593.873, Time=0.06 sec\n",
      " ARIMA(3,1,1)(0,0,0)[0] intercept   : AIC=1586.953, Time=0.11 sec\n",
      " ARIMA(3,1,2)(0,0,0)[0] intercept   : AIC=1588.906, Time=0.24 sec\n",
      " ARIMA(4,1,0)(0,0,0)[0] intercept   : AIC=1595.537, Time=0.07 sec\n",
      " ARIMA(4,1,1)(0,0,0)[0] intercept   : AIC=1588.470, Time=0.13 sec\n",
      " ARIMA(5,1,0)(0,0,0)[0] intercept   : AIC=1595.816, Time=0.10 sec\n",
      "Total fit time: 2.279 seconds\n",
      " ARIMA(0,1,0)(0,0,0)[0] intercept   : AIC=2313.630, Time=0.01 sec\n",
      " ARIMA(0,1,1)(0,0,0)[0] intercept   : AIC=2265.378, Time=0.06 sec\n"
     ]
    },
    {
     "name": "stderr",
     "output_type": "stream",
     "text": [
      "/Users/santiagocortes/opt/anaconda3/envs/tf2/lib/python3.7/site-packages/pmdarima/arima/_validation.py:60: UserWarning: m (12) set for non-seasonal fit. Setting to 0\n",
      "  warnings.warn(\"m (%i) set for non-seasonal fit. Setting to 0\" % m)\n"
     ]
    },
    {
     "name": "stdout",
     "output_type": "stream",
     "text": [
      " ARIMA(0,1,2)(0,0,0)[0] intercept   : AIC=2267.345, Time=0.09 sec\n",
      " ARIMA(0,1,3)(0,0,0)[0] intercept   : AIC=2264.919, Time=0.15 sec\n",
      " ARIMA(0,1,4)(0,0,0)[0] intercept   : AIC=2266.431, Time=0.18 sec\n",
      " ARIMA(0,1,5)(0,0,0)[0] intercept   : AIC=2268.327, Time=0.26 sec\n",
      " ARIMA(1,1,0)(0,0,0)[0] intercept   : AIC=2271.868, Time=0.02 sec\n",
      " ARIMA(1,1,1)(0,0,0)[0] intercept   : AIC=2267.310, Time=0.11 sec\n",
      " ARIMA(1,1,2)(0,0,0)[0] intercept   : AIC=2269.026, Time=0.13 sec\n",
      " ARIMA(1,1,3)(0,0,0)[0] intercept   : AIC=2266.581, Time=0.14 sec\n",
      " ARIMA(1,1,4)(0,0,0)[0] intercept   : AIC=2267.190, Time=0.19 sec\n",
      " ARIMA(2,1,0)(0,0,0)[0] intercept   : AIC=2271.358, Time=0.02 sec\n",
      " ARIMA(2,1,1)(0,0,0)[0] intercept   : AIC=2265.431, Time=0.13 sec\n",
      " ARIMA(2,1,2)(0,0,0)[0] intercept   : AIC=2267.104, Time=0.20 sec\n",
      " ARIMA(2,1,3)(0,0,0)[0] intercept   : AIC=2265.352, Time=0.31 sec\n",
      " ARIMA(3,1,0)(0,0,0)[0] intercept   : AIC=2271.470, Time=0.03 sec\n",
      " ARIMA(3,1,1)(0,0,0)[0] intercept   : AIC=2266.864, Time=0.22 sec\n",
      " ARIMA(3,1,2)(0,0,0)[0] intercept   : AIC=2267.708, Time=0.32 sec\n",
      " ARIMA(4,1,0)(0,0,0)[0] intercept   : AIC=2271.546, Time=0.11 sec\n",
      " ARIMA(4,1,1)(0,0,0)[0] intercept   : AIC=2267.983, Time=0.24 sec\n",
      " ARIMA(5,1,0)(0,0,0)[0] intercept   : AIC=2271.032, Time=0.11 sec\n",
      "Total fit time: 3.035 seconds\n",
      " ARIMA(0,1,0)(0,0,0)[0] intercept   : AIC=1443.495, Time=0.01 sec\n",
      " ARIMA(0,1,1)(0,0,0)[0] intercept   : AIC=1324.861, Time=0.05 sec\n"
     ]
    },
    {
     "name": "stderr",
     "output_type": "stream",
     "text": [
      "/Users/santiagocortes/opt/anaconda3/envs/tf2/lib/python3.7/site-packages/pmdarima/arima/_validation.py:60: UserWarning: m (12) set for non-seasonal fit. Setting to 0\n",
      "  warnings.warn(\"m (%i) set for non-seasonal fit. Setting to 0\" % m)\n"
     ]
    },
    {
     "name": "stdout",
     "output_type": "stream",
     "text": [
      " ARIMA(0,1,2)(0,0,0)[0] intercept   : AIC=1321.571, Time=0.04 sec\n",
      " ARIMA(0,1,3)(0,0,0)[0] intercept   : AIC=1323.366, Time=0.07 sec\n",
      " ARIMA(0,1,4)(0,0,0)[0] intercept   : AIC=1320.328, Time=0.14 sec\n",
      " ARIMA(0,1,5)(0,0,0)[0] intercept   : AIC=1322.056, Time=0.17 sec\n",
      " ARIMA(1,1,0)(0,0,0)[0] intercept   : AIC=1379.374, Time=0.02 sec\n",
      " ARIMA(1,1,1)(0,0,0)[0] intercept   : AIC=1321.738, Time=0.05 sec\n",
      " ARIMA(1,1,2)(0,0,0)[0] intercept   : AIC=1323.493, Time=0.07 sec\n",
      " ARIMA(1,1,3)(0,0,0)[0] intercept   : AIC=1325.564, Time=0.08 sec\n",
      " ARIMA(1,1,4)(0,0,0)[0] intercept   : AIC=1322.260, Time=0.14 sec\n",
      " ARIMA(2,1,0)(0,0,0)[0] intercept   : AIC=1344.206, Time=0.04 sec\n",
      " ARIMA(2,1,1)(0,0,0)[0] intercept   : AIC=1323.135, Time=0.07 sec\n",
      " ARIMA(2,1,2)(0,0,0)[0] intercept   : AIC=1324.890, Time=0.10 sec\n",
      " ARIMA(2,1,3)(0,0,0)[0] intercept   : AIC=1311.048, Time=0.24 sec\n",
      " ARIMA(3,1,0)(0,0,0)[0] intercept   : AIC=1330.615, Time=0.05 sec\n",
      " ARIMA(3,1,1)(0,0,0)[0] intercept   : AIC=1323.453, Time=0.09 sec\n",
      " ARIMA(3,1,2)(0,0,0)[0] intercept   : AIC=1323.717, Time=0.25 sec\n",
      " ARIMA(4,1,0)(0,0,0)[0] intercept   : AIC=1332.460, Time=0.06 sec\n",
      " ARIMA(4,1,1)(0,0,0)[0] intercept   : AIC=1321.351, Time=0.27 sec\n",
      " ARIMA(5,1,0)(0,0,0)[0] intercept   : AIC=1332.652, Time=0.12 sec\n",
      "Total fit time: 2.138 seconds\n",
      " ARIMA(0,1,0)(0,0,0)[0] intercept   : AIC=2298.951, Time=0.01 sec\n",
      " ARIMA(0,1,1)(0,0,0)[0] intercept   : AIC=2274.706, Time=0.06 sec\n"
     ]
    },
    {
     "name": "stderr",
     "output_type": "stream",
     "text": [
      "/Users/santiagocortes/opt/anaconda3/envs/tf2/lib/python3.7/site-packages/pmdarima/arima/_validation.py:60: UserWarning: m (12) set for non-seasonal fit. Setting to 0\n",
      "  warnings.warn(\"m (%i) set for non-seasonal fit. Setting to 0\" % m)\n"
     ]
    },
    {
     "name": "stdout",
     "output_type": "stream",
     "text": [
      " ARIMA(0,1,2)(0,0,0)[0] intercept   : AIC=2272.630, Time=0.10 sec\n",
      " ARIMA(0,1,3)(0,0,0)[0] intercept   : AIC=2265.789, Time=0.12 sec\n",
      " ARIMA(0,1,4)(0,0,0)[0] intercept   : AIC=2267.757, Time=0.18 sec\n",
      " ARIMA(0,1,5)(0,0,0)[0] intercept   : AIC=2269.749, Time=0.23 sec\n",
      " ARIMA(1,1,0)(0,0,0)[0] intercept   : AIC=2280.313, Time=0.04 sec\n",
      " ARIMA(1,1,1)(0,0,0)[0] intercept   : AIC=2268.209, Time=0.10 sec\n",
      " ARIMA(1,1,2)(0,0,0)[0] intercept   : AIC=2269.307, Time=0.16 sec\n",
      " ARIMA(1,1,3)(0,0,0)[0] intercept   : AIC=2267.756, Time=0.18 sec\n",
      " ARIMA(1,1,4)(0,0,0)[0] intercept   : AIC=2266.951, Time=0.28 sec\n",
      " ARIMA(2,1,0)(0,0,0)[0] intercept   : AIC=2281.347, Time=0.02 sec\n",
      " ARIMA(2,1,1)(0,0,0)[0] intercept   : AIC=2268.675, Time=0.14 sec\n",
      " ARIMA(2,1,2)(0,0,0)[0] intercept   : AIC=2266.186, Time=0.22 sec\n",
      " ARIMA(2,1,3)(0,0,0)[0] intercept   : AIC=2269.756, Time=0.28 sec\n",
      " ARIMA(3,1,0)(0,0,0)[0] intercept   : AIC=2276.556, Time=0.03 sec\n",
      " ARIMA(3,1,1)(0,0,0)[0] intercept   : AIC=2268.022, Time=0.17 sec\n",
      " ARIMA(3,1,2)(0,0,0)[0] intercept   : AIC=2270.011, Time=0.29 sec\n",
      " ARIMA(4,1,0)(0,0,0)[0] intercept   : AIC=2275.496, Time=0.04 sec\n",
      " ARIMA(4,1,1)(0,0,0)[0] intercept   : AIC=2270.010, Time=0.27 sec\n",
      " ARIMA(5,1,0)(0,0,0)[0] intercept   : AIC=2276.643, Time=0.11 sec\n",
      "Total fit time: 3.034 seconds\n",
      " ARIMA(0,1,0)(0,0,0)[0] intercept   : AIC=2550.054, Time=0.01 sec\n",
      " ARIMA(0,1,1)(0,0,0)[0] intercept   : AIC=2471.620, Time=0.05 sec\n"
     ]
    },
    {
     "name": "stderr",
     "output_type": "stream",
     "text": [
      "/Users/santiagocortes/opt/anaconda3/envs/tf2/lib/python3.7/site-packages/pmdarima/arima/_validation.py:60: UserWarning: m (12) set for non-seasonal fit. Setting to 0\n",
      "  warnings.warn(\"m (%i) set for non-seasonal fit. Setting to 0\" % m)\n"
     ]
    },
    {
     "name": "stdout",
     "output_type": "stream",
     "text": [
      " ARIMA(0,1,2)(0,0,0)[0] intercept   : AIC=2596.230, Time=0.10 sec\n",
      " ARIMA(0,1,3)(0,0,0)[0] intercept   : AIC=2466.816, Time=0.19 sec\n",
      " ARIMA(0,1,4)(0,0,0)[0] intercept   : AIC=2468.220, Time=0.21 sec\n",
      " ARIMA(0,1,5)(0,0,0)[0] intercept   : AIC=2469.862, Time=0.28 sec\n",
      " ARIMA(1,1,0)(0,0,0)[0] intercept   : AIC=2519.012, Time=0.02 sec\n",
      " ARIMA(1,1,1)(0,0,0)[0] intercept   : AIC=2473.395, Time=0.11 sec\n",
      " ARIMA(1,1,2)(0,0,0)[0] intercept   : AIC=2474.840, Time=0.20 sec\n",
      " ARIMA(1,1,3)(0,0,0)[0] intercept   : AIC=2477.193, Time=0.21 sec\n",
      " ARIMA(1,1,4)(0,0,0)[0] intercept   : AIC=2469.366, Time=0.28 sec\n",
      " ARIMA(2,1,0)(0,0,0)[0] intercept   : AIC=2492.925, Time=0.02 sec\n",
      " ARIMA(2,1,1)(0,0,0)[0] intercept   : AIC=2468.829, Time=0.13 sec\n",
      " ARIMA(2,1,2)(0,0,0)[0] intercept   : AIC=2476.442, Time=0.22 sec\n",
      " ARIMA(2,1,3)(0,0,0)[0] intercept   : AIC=2464.705, Time=0.30 sec\n",
      " ARIMA(3,1,0)(0,0,0)[0] intercept   : AIC=2477.864, Time=0.03 sec\n",
      " ARIMA(3,1,1)(0,0,0)[0] intercept   : AIC=2468.655, Time=0.16 sec\n",
      " ARIMA(3,1,2)(0,0,0)[0] intercept   : AIC=2470.161, Time=0.26 sec\n",
      " ARIMA(4,1,0)(0,0,0)[0] intercept   : AIC=2468.906, Time=0.04 sec\n",
      " ARIMA(4,1,1)(0,0,0)[0] intercept   : AIC=2468.871, Time=0.15 sec\n",
      " ARIMA(5,1,0)(0,0,0)[0] intercept   : AIC=2467.204, Time=0.05 sec\n",
      "Total fit time: 2.999 seconds\n",
      " ARIMA(0,1,0)(0,0,0)[0] intercept   : AIC=1965.030, Time=0.01 sec\n",
      " ARIMA(0,1,1)(0,0,0)[0] intercept   : AIC=1909.972, Time=0.03 sec\n",
      " ARIMA(0,1,2)(0,0,0)[0] intercept   : AIC=1909.508, Time=0.07 sec\n"
     ]
    },
    {
     "name": "stderr",
     "output_type": "stream",
     "text": [
      "/Users/santiagocortes/opt/anaconda3/envs/tf2/lib/python3.7/site-packages/pmdarima/arima/_validation.py:60: UserWarning: m (12) set for non-seasonal fit. Setting to 0\n",
      "  warnings.warn(\"m (%i) set for non-seasonal fit. Setting to 0\" % m)\n"
     ]
    },
    {
     "name": "stdout",
     "output_type": "stream",
     "text": [
      " ARIMA(0,1,3)(0,0,0)[0] intercept   : AIC=1894.559, Time=0.12 sec\n",
      " ARIMA(0,1,4)(0,0,0)[0] intercept   : AIC=1896.026, Time=0.16 sec\n",
      " ARIMA(0,1,5)(0,0,0)[0] intercept   : AIC=1897.920, Time=0.21 sec\n",
      " ARIMA(1,1,0)(0,0,0)[0] intercept   : AIC=1918.113, Time=0.03 sec\n",
      " ARIMA(1,1,1)(0,0,0)[0] intercept   : AIC=1907.479, Time=0.09 sec\n",
      " ARIMA(1,1,2)(0,0,0)[0] intercept   : AIC=1909.126, Time=0.15 sec\n",
      " ARIMA(1,1,3)(0,0,0)[0] intercept   : AIC=1896.115, Time=0.13 sec\n",
      " ARIMA(1,1,4)(0,0,0)[0] intercept   : AIC=1895.958, Time=0.24 sec\n",
      " ARIMA(2,1,0)(0,0,0)[0] intercept   : AIC=1919.981, Time=0.04 sec\n",
      " ARIMA(2,1,1)(0,0,0)[0] intercept   : AIC=1901.271, Time=0.14 sec\n",
      " ARIMA(2,1,2)(0,0,0)[0] intercept   : AIC=1899.008, Time=0.13 sec\n",
      " ARIMA(2,1,3)(0,0,0)[0] intercept   : AIC=1897.938, Time=0.18 sec\n",
      " ARIMA(3,1,0)(0,0,0)[0] intercept   : AIC=1915.375, Time=0.06 sec\n",
      " ARIMA(3,1,1)(0,0,0)[0] intercept   : AIC=1897.216, Time=0.16 sec\n",
      " ARIMA(3,1,2)(0,0,0)[0] intercept   : AIC=1899.946, Time=0.23 sec\n",
      " ARIMA(4,1,0)(0,0,0)[0] intercept   : AIC=1909.064, Time=0.09 sec\n",
      " ARIMA(4,1,1)(0,0,0)[0] intercept   : AIC=1898.956, Time=0.25 sec\n",
      " ARIMA(5,1,0)(0,0,0)[0] intercept   : AIC=1907.037, Time=0.10 sec\n",
      "Total fit time: 2.630 seconds\n",
      " ARIMA(0,1,0)(0,0,0)[0] intercept   : AIC=1291.182, Time=0.01 sec\n",
      " ARIMA(0,1,1)(0,0,0)[0] intercept   : AIC=1221.206, Time=0.03 sec\n",
      " ARIMA(0,1,2)(0,0,0)[0] intercept   : AIC=1222.126, Time=0.05 sec\n"
     ]
    },
    {
     "name": "stderr",
     "output_type": "stream",
     "text": [
      "/Users/santiagocortes/opt/anaconda3/envs/tf2/lib/python3.7/site-packages/pmdarima/arima/_validation.py:60: UserWarning: m (12) set for non-seasonal fit. Setting to 0\n",
      "  warnings.warn(\"m (%i) set for non-seasonal fit. Setting to 0\" % m)\n"
     ]
    },
    {
     "name": "stdout",
     "output_type": "stream",
     "text": [
      " ARIMA(0,1,3)(0,0,0)[0] intercept   : AIC=1217.347, Time=0.06 sec\n",
      " ARIMA(0,1,4)(0,0,0)[0] intercept   : AIC=1217.366, Time=0.08 sec\n",
      " ARIMA(0,1,5)(0,0,0)[0] intercept   : AIC=1216.765, Time=0.11 sec\n",
      " ARIMA(1,1,0)(0,0,0)[0] intercept   : AIC=1254.788, Time=0.03 sec\n",
      " ARIMA(1,1,1)(0,0,0)[0] intercept   : AIC=1222.592, Time=0.05 sec\n",
      " ARIMA(1,1,2)(0,0,0)[0] intercept   : AIC=1220.294, Time=0.07 sec\n",
      " ARIMA(1,1,3)(0,0,0)[0] intercept   : AIC=1214.857, Time=0.16 sec\n",
      " ARIMA(1,1,4)(0,0,0)[0] intercept   : AIC=1216.844, Time=0.26 sec\n",
      " ARIMA(2,1,0)(0,0,0)[0] intercept   : AIC=1222.459, Time=0.03 sec\n",
      " ARIMA(2,1,1)(0,0,0)[0] intercept   : AIC=1218.536, Time=0.06 sec\n",
      " ARIMA(2,1,2)(0,0,0)[0] intercept   : AIC=1215.384, Time=0.11 sec\n",
      " ARIMA(2,1,3)(0,0,0)[0] intercept   : AIC=1207.435, Time=0.28 sec\n",
      " ARIMA(3,1,0)(0,0,0)[0] intercept   : AIC=1221.525, Time=0.06 sec\n",
      " ARIMA(3,1,1)(0,0,0)[0] intercept   : AIC=1220.362, Time=0.09 sec\n",
      " ARIMA(3,1,2)(0,0,0)[0] intercept   : AIC=1217.327, Time=0.16 sec\n",
      " ARIMA(4,1,0)(0,0,0)[0] intercept   : AIC=1217.492, Time=0.08 sec\n",
      " ARIMA(4,1,1)(0,0,0)[0] intercept   : AIC=1212.827, Time=0.16 sec\n",
      " ARIMA(5,1,0)(0,0,0)[0] intercept   : AIC=1217.545, Time=0.10 sec\n",
      "Total fit time: 2.048 seconds\n",
      " ARIMA(0,1,0)(0,0,0)[0] intercept   : AIC=1355.351, Time=0.01 sec\n",
      " ARIMA(0,1,1)(0,0,0)[0] intercept   : AIC=1301.211, Time=0.03 sec\n"
     ]
    },
    {
     "name": "stderr",
     "output_type": "stream",
     "text": [
      "/Users/santiagocortes/opt/anaconda3/envs/tf2/lib/python3.7/site-packages/pmdarima/arima/_validation.py:60: UserWarning: m (12) set for non-seasonal fit. Setting to 0\n",
      "  warnings.warn(\"m (%i) set for non-seasonal fit. Setting to 0\" % m)\n"
     ]
    },
    {
     "name": "stdout",
     "output_type": "stream",
     "text": [
      " ARIMA(0,1,2)(0,0,0)[0] intercept   : AIC=1296.335, Time=0.11 sec\n",
      " ARIMA(0,1,3)(0,0,0)[0] intercept   : AIC=1293.673, Time=0.07 sec\n",
      " ARIMA(0,1,4)(0,0,0)[0] intercept   : AIC=1292.103, Time=0.10 sec\n",
      " ARIMA(0,1,5)(0,0,0)[0] intercept   : AIC=1292.646, Time=0.15 sec\n",
      " ARIMA(1,1,0)(0,0,0)[0] intercept   : AIC=1343.490, Time=0.03 sec\n",
      " ARIMA(1,1,1)(0,0,0)[0] intercept   : AIC=1299.050, Time=0.04 sec\n",
      " ARIMA(1,1,2)(0,0,0)[0] intercept   : AIC=1292.010, Time=0.13 sec\n",
      " ARIMA(1,1,3)(0,0,0)[0] intercept   : AIC=1292.448, Time=0.16 sec\n",
      " ARIMA(1,1,4)(0,0,0)[0] intercept   : AIC=1292.028, Time=0.25 sec\n",
      " ARIMA(2,1,0)(0,0,0)[0] intercept   : AIC=1320.842, Time=0.04 sec\n",
      " ARIMA(2,1,1)(0,0,0)[0] intercept   : AIC=1292.795, Time=0.05 sec\n",
      " ARIMA(2,1,2)(0,0,0)[0] intercept   : AIC=1284.756, Time=0.15 sec\n",
      " ARIMA(2,1,3)(0,0,0)[0] intercept   : AIC=1293.916, Time=0.26 sec\n",
      " ARIMA(3,1,0)(0,0,0)[0] intercept   : AIC=1309.642, Time=0.05 sec\n",
      " ARIMA(3,1,1)(0,0,0)[0] intercept   : AIC=1293.950, Time=0.08 sec\n",
      " ARIMA(3,1,2)(0,0,0)[0] intercept   : AIC=1290.598, Time=0.22 sec\n",
      " ARIMA(4,1,0)(0,0,0)[0] intercept   : AIC=1301.843, Time=0.07 sec\n",
      " ARIMA(4,1,1)(0,0,0)[0] intercept   : AIC=1294.904, Time=0.12 sec\n",
      " ARIMA(5,1,0)(0,0,0)[0] intercept   : AIC=1299.038, Time=0.11 sec\n",
      "Total fit time: 2.209 seconds\n",
      " ARIMA(0,1,0)(0,0,0)[0] intercept   : AIC=1678.675, Time=0.01 sec\n",
      " ARIMA(0,1,1)(0,0,0)[0] intercept   : AIC=1590.237, Time=0.03 sec\n",
      " ARIMA(0,1,2)(0,0,0)[0] intercept   : AIC=1588.416, Time=0.07 sec\n"
     ]
    },
    {
     "name": "stderr",
     "output_type": "stream",
     "text": [
      "/Users/santiagocortes/opt/anaconda3/envs/tf2/lib/python3.7/site-packages/pmdarima/arima/_validation.py:60: UserWarning: m (12) set for non-seasonal fit. Setting to 0\n",
      "  warnings.warn(\"m (%i) set for non-seasonal fit. Setting to 0\" % m)\n"
     ]
    },
    {
     "name": "stdout",
     "output_type": "stream",
     "text": [
      " ARIMA(0,1,3)(0,0,0)[0] intercept   : AIC=1555.770, Time=0.10 sec\n",
      " ARIMA(0,1,4)(0,0,0)[0] intercept   : AIC=1532.596, Time=0.20 sec\n",
      " ARIMA(0,1,5)(0,0,0)[0] intercept   : AIC=1533.945, Time=0.30 sec\n",
      " ARIMA(1,1,0)(0,0,0)[0] intercept   : AIC=1576.763, Time=0.03 sec\n",
      " ARIMA(1,1,1)(0,0,0)[0] intercept   : AIC=1576.937, Time=0.05 sec\n",
      " ARIMA(1,1,2)(0,0,0)[0] intercept   : AIC=1573.417, Time=0.09 sec\n",
      " ARIMA(1,1,3)(0,0,0)[0] intercept   : AIC=1540.508, Time=0.14 sec\n",
      " ARIMA(1,1,4)(0,0,0)[0] intercept   : AIC=1533.694, Time=0.26 sec\n",
      " ARIMA(2,1,0)(0,0,0)[0] intercept   : AIC=1577.507, Time=0.04 sec\n",
      " ARIMA(2,1,1)(0,0,0)[0] intercept   : AIC=1571.629, Time=0.09 sec\n",
      " ARIMA(2,1,2)(0,0,0)[0] intercept   : AIC=1566.089, Time=0.13 sec\n",
      " ARIMA(2,1,3)(0,0,0)[0] intercept   : AIC=1538.928, Time=0.24 sec\n",
      " ARIMA(3,1,0)(0,0,0)[0] intercept   : AIC=1572.729, Time=0.06 sec\n",
      " ARIMA(3,1,1)(0,0,0)[0] intercept   : AIC=1549.947, Time=0.11 sec\n",
      " ARIMA(3,1,2)(0,0,0)[0] intercept   : AIC=1515.276, Time=0.26 sec\n",
      " ARIMA(4,1,0)(0,0,0)[0] intercept   : AIC=1522.195, Time=0.08 sec\n",
      " ARIMA(4,1,1)(0,0,0)[0] intercept   : AIC=1522.414, Time=0.17 sec\n",
      " ARIMA(5,1,0)(0,0,0)[0] intercept   : AIC=1522.577, Time=0.15 sec\n",
      "Total fit time: 2.605 seconds\n",
      " ARIMA(0,1,0)(0,0,0)[0] intercept   : AIC=1056.075, Time=0.01 sec\n",
      " ARIMA(0,1,1)(0,0,0)[0] intercept   : AIC=959.956, Time=0.03 sec\n"
     ]
    },
    {
     "name": "stderr",
     "output_type": "stream",
     "text": [
      "/Users/santiagocortes/opt/anaconda3/envs/tf2/lib/python3.7/site-packages/pmdarima/arima/_validation.py:60: UserWarning: m (12) set for non-seasonal fit. Setting to 0\n",
      "  warnings.warn(\"m (%i) set for non-seasonal fit. Setting to 0\" % m)\n"
     ]
    },
    {
     "name": "stdout",
     "output_type": "stream",
     "text": [
      " ARIMA(0,1,2)(0,0,0)[0] intercept   : AIC=959.596, Time=0.05 sec\n",
      " ARIMA(0,1,3)(0,0,0)[0] intercept   : AIC=960.983, Time=0.07 sec\n",
      " ARIMA(0,1,4)(0,0,0)[0] intercept   : AIC=957.253, Time=0.09 sec\n",
      " ARIMA(0,1,5)(0,0,0)[0] intercept   : AIC=943.633, Time=0.14 sec\n",
      " ARIMA(1,1,0)(0,0,0)[0] intercept   : AIC=1000.771, Time=0.02 sec\n",
      " ARIMA(1,1,1)(0,0,0)[0] intercept   : AIC=959.785, Time=0.03 sec\n",
      " ARIMA(1,1,2)(0,0,0)[0] intercept   : AIC=938.837, Time=0.22 sec\n",
      " ARIMA(1,1,3)(0,0,0)[0] intercept   : AIC=960.380, Time=0.10 sec\n",
      " ARIMA(1,1,4)(0,0,0)[0] intercept   : AIC=962.014, Time=0.10 sec\n",
      " ARIMA(2,1,0)(0,0,0)[0] intercept   : AIC=978.326, Time=0.03 sec\n",
      " ARIMA(2,1,1)(0,0,0)[0] intercept   : AIC=961.537, Time=0.06 sec\n",
      " ARIMA(2,1,2)(0,0,0)[0] intercept   : AIC=959.717, Time=0.12 sec\n",
      " ARIMA(2,1,3)(0,0,0)[0] intercept   : AIC=955.618, Time=0.20 sec\n",
      " ARIMA(3,1,0)(0,0,0)[0] intercept   : AIC=977.837, Time=0.05 sec\n",
      " ARIMA(3,1,1)(0,0,0)[0] intercept   : AIC=963.536, Time=0.06 sec\n",
      " ARIMA(3,1,2)(0,0,0)[0] intercept   : AIC=960.873, Time=0.14 sec\n",
      " ARIMA(4,1,0)(0,0,0)[0] intercept   : AIC=975.028, Time=0.06 sec\n",
      " ARIMA(4,1,1)(0,0,0)[0] intercept   : AIC=960.524, Time=0.08 sec\n",
      " ARIMA(5,1,0)(0,0,0)[0] intercept   : AIC=970.264, Time=0.08 sec\n",
      "Total fit time: 1.730 seconds\n",
      " ARIMA(0,1,0)(0,0,0)[0] intercept   : AIC=1532.250, Time=0.01 sec\n",
      " ARIMA(0,1,1)(0,0,0)[0] intercept   : AIC=1439.194, Time=0.03 sec\n",
      " ARIMA(0,1,2)(0,0,0)[0] intercept   : AIC=1440.429, Time=0.05 sec\n",
      " ARIMA(0,1,3)(0,0,0)[0] intercept   : AIC=1440.230, Time=0.09 sec\n"
     ]
    },
    {
     "name": "stderr",
     "output_type": "stream",
     "text": [
      "/Users/santiagocortes/opt/anaconda3/envs/tf2/lib/python3.7/site-packages/pmdarima/arima/_validation.py:60: UserWarning: m (12) set for non-seasonal fit. Setting to 0\n",
      "  warnings.warn(\"m (%i) set for non-seasonal fit. Setting to 0\" % m)\n"
     ]
    },
    {
     "name": "stdout",
     "output_type": "stream",
     "text": [
      " ARIMA(0,1,4)(0,0,0)[0] intercept   : AIC=1432.394, Time=0.14 sec\n",
      " ARIMA(0,1,5)(0,0,0)[0] intercept   : AIC=1422.903, Time=0.19 sec\n",
      " ARIMA(1,1,0)(0,0,0)[0] intercept   : AIC=1458.342, Time=0.03 sec\n",
      " ARIMA(1,1,1)(0,0,0)[0] intercept   : AIC=1440.326, Time=0.07 sec\n",
      " ARIMA(1,1,2)(0,0,0)[0] intercept   : AIC=1434.448, Time=0.09 sec\n",
      " ARIMA(1,1,3)(0,0,0)[0] intercept   : AIC=1434.388, Time=0.15 sec\n",
      " ARIMA(1,1,4)(0,0,0)[0] intercept   : AIC=1429.095, Time=0.22 sec\n",
      " ARIMA(2,1,0)(0,0,0)[0] intercept   : AIC=1458.595, Time=0.04 sec\n",
      " ARIMA(2,1,1)(0,0,0)[0] intercept   : AIC=1441.155, Time=0.09 sec\n",
      " ARIMA(2,1,2)(0,0,0)[0] intercept   : AIC=1434.657, Time=0.13 sec\n",
      " ARIMA(2,1,3)(0,0,0)[0] intercept   : AIC=1424.569, Time=0.25 sec\n",
      " ARIMA(3,1,0)(0,0,0)[0] intercept   : AIC=1455.669, Time=0.06 sec\n",
      " ARIMA(3,1,1)(0,0,0)[0] intercept   : AIC=1436.185, Time=0.10 sec\n",
      " ARIMA(3,1,2)(0,0,0)[0] intercept   : AIC=1435.999, Time=0.17 sec\n",
      " ARIMA(4,1,0)(0,0,0)[0] intercept   : AIC=1451.726, Time=0.07 sec\n",
      " ARIMA(4,1,1)(0,0,0)[0] intercept   : AIC=1432.346, Time=0.11 sec\n",
      " ARIMA(5,1,0)(0,0,0)[0] intercept   : AIC=1426.644, Time=0.11 sec\n",
      "Total fit time: 2.191 seconds\n",
      " ARIMA(0,1,0)(0,0,0)[0] intercept   : AIC=1712.976, Time=0.01 sec\n",
      " ARIMA(0,1,1)(0,0,0)[0] intercept   : AIC=1601.101, Time=0.04 sec\n",
      " ARIMA(0,1,2)(0,0,0)[0] intercept   : AIC=1593.110, Time=0.06 sec\n"
     ]
    },
    {
     "name": "stderr",
     "output_type": "stream",
     "text": [
      "/Users/santiagocortes/opt/anaconda3/envs/tf2/lib/python3.7/site-packages/pmdarima/arima/_validation.py:60: UserWarning: m (12) set for non-seasonal fit. Setting to 0\n",
      "  warnings.warn(\"m (%i) set for non-seasonal fit. Setting to 0\" % m)\n"
     ]
    },
    {
     "name": "stdout",
     "output_type": "stream",
     "text": [
      " ARIMA(0,1,3)(0,0,0)[0] intercept   : AIC=1593.827, Time=0.11 sec\n",
      " ARIMA(0,1,4)(0,0,0)[0] intercept   : AIC=1595.821, Time=0.16 sec\n",
      " ARIMA(0,1,5)(0,0,0)[0] intercept   : AIC=1596.288, Time=0.23 sec\n",
      " ARIMA(1,1,0)(0,0,0)[0] intercept   : AIC=1645.727, Time=0.02 sec\n",
      " ARIMA(1,1,1)(0,0,0)[0] intercept   : AIC=1595.380, Time=0.06 sec\n",
      " ARIMA(1,1,2)(0,0,0)[0] intercept   : AIC=1603.088, Time=0.11 sec\n",
      " ARIMA(1,1,3)(0,0,0)[0] intercept   : AIC=1596.665, Time=0.20 sec\n",
      " ARIMA(1,1,4)(0,0,0)[0] intercept   : AIC=1596.938, Time=0.25 sec\n",
      " ARIMA(2,1,0)(0,0,0)[0] intercept   : AIC=1618.537, Time=0.04 sec\n",
      " ARIMA(2,1,1)(0,0,0)[0] intercept   : AIC=1594.980, Time=0.10 sec\n",
      " ARIMA(2,1,2)(0,0,0)[0] intercept   : AIC=1597.433, Time=0.18 sec\n",
      " ARIMA(2,1,3)(0,0,0)[0] intercept   : AIC=1592.385, Time=0.32 sec\n",
      " ARIMA(3,1,0)(0,0,0)[0] intercept   : AIC=1606.081, Time=0.06 sec\n",
      " ARIMA(3,1,1)(0,0,0)[0] intercept   : AIC=1596.610, Time=0.11 sec\n",
      " ARIMA(3,1,2)(0,0,0)[0] intercept   : AIC=1597.907, Time=0.23 sec\n",
      " ARIMA(4,1,0)(0,0,0)[0] intercept   : AIC=1603.971, Time=0.07 sec\n",
      " ARIMA(4,1,1)(0,0,0)[0] intercept   : AIC=1598.124, Time=0.15 sec\n",
      " ARIMA(5,1,0)(0,0,0)[0] intercept   : AIC=1598.825, Time=0.08 sec\n",
      "Total fit time: 2.576 seconds\n",
      " ARIMA(0,1,0)(0,0,0)[0] intercept   : AIC=1610.002, Time=0.01 sec\n",
      " ARIMA(0,1,1)(0,0,0)[0] intercept   : AIC=1514.971, Time=0.03 sec\n",
      " ARIMA(0,1,2)(0,0,0)[0] intercept   : AIC=1516.738, Time=0.04 sec\n"
     ]
    },
    {
     "name": "stderr",
     "output_type": "stream",
     "text": [
      "/Users/santiagocortes/opt/anaconda3/envs/tf2/lib/python3.7/site-packages/pmdarima/arima/_validation.py:60: UserWarning: m (12) set for non-seasonal fit. Setting to 0\n",
      "  warnings.warn(\"m (%i) set for non-seasonal fit. Setting to 0\" % m)\n"
     ]
    },
    {
     "name": "stdout",
     "output_type": "stream",
     "text": [
      " ARIMA(0,1,3)(0,0,0)[0] intercept   : AIC=1517.160, Time=0.07 sec\n",
      " ARIMA(0,1,4)(0,0,0)[0] intercept   : AIC=1518.720, Time=0.12 sec\n",
      " ARIMA(0,1,5)(0,0,0)[0] intercept   : AIC=1510.795, Time=0.19 sec\n",
      " ARIMA(1,1,0)(0,0,0)[0] intercept   : AIC=1567.225, Time=0.03 sec\n",
      " ARIMA(1,1,1)(0,0,0)[0] intercept   : AIC=1516.770, Time=0.05 sec\n",
      " ARIMA(1,1,2)(0,0,0)[0] intercept   : AIC=1514.314, Time=0.44 sec\n",
      " ARIMA(1,1,3)(0,0,0)[0] intercept   : AIC=1517.748, Time=0.17 sec\n",
      " ARIMA(1,1,4)(0,0,0)[0] intercept   : AIC=1516.113, Time=0.17 sec\n",
      " ARIMA(2,1,0)(0,0,0)[0] intercept   : AIC=1549.780, Time=0.04 sec\n",
      " ARIMA(2,1,1)(0,0,0)[0] intercept   : AIC=1518.174, Time=0.07 sec\n",
      " ARIMA(2,1,2)(0,0,0)[0] intercept   : AIC=1517.544, Time=0.13 sec\n",
      " ARIMA(2,1,3)(0,0,0)[0] intercept   : AIC=1501.305, Time=0.27 sec\n",
      " ARIMA(3,1,0)(0,0,0)[0] intercept   : AIC=1549.888, Time=0.05 sec\n",
      " ARIMA(3,1,1)(0,0,0)[0] intercept   : AIC=1519.794, Time=0.10 sec\n",
      " ARIMA(3,1,2)(0,0,0)[0] intercept   : AIC=1521.580, Time=0.17 sec\n",
      " ARIMA(4,1,0)(0,0,0)[0] intercept   : AIC=1522.250, Time=0.07 sec\n",
      " ARIMA(4,1,1)(0,0,0)[0] intercept   : AIC=1504.413, Time=0.13 sec\n",
      " ARIMA(5,1,0)(0,0,0)[0] intercept   : AIC=1501.234, Time=0.10 sec\n",
      "Total fit time: 2.444 seconds\n",
      " ARIMA(0,1,0)(0,0,0)[0] intercept   : AIC=1929.930, Time=0.01 sec\n",
      " ARIMA(0,1,1)(0,0,0)[0] intercept   : AIC=1927.512, Time=0.03 sec\n",
      " ARIMA(0,1,2)(0,0,0)[0] intercept   : AIC=1899.915, Time=0.07 sec\n"
     ]
    },
    {
     "name": "stderr",
     "output_type": "stream",
     "text": [
      "/Users/santiagocortes/opt/anaconda3/envs/tf2/lib/python3.7/site-packages/pmdarima/arima/_validation.py:60: UserWarning: m (12) set for non-seasonal fit. Setting to 0\n",
      "  warnings.warn(\"m (%i) set for non-seasonal fit. Setting to 0\" % m)\n"
     ]
    },
    {
     "name": "stdout",
     "output_type": "stream",
     "text": [
      " ARIMA(0,1,3)(0,0,0)[0] intercept   : AIC=1900.185, Time=0.16 sec\n",
      " ARIMA(0,1,4)(0,0,0)[0] intercept   : AIC=1888.194, Time=0.26 sec\n",
      " ARIMA(0,1,5)(0,0,0)[0] intercept   : AIC=1887.102, Time=0.29 sec\n",
      " ARIMA(1,1,0)(0,0,0)[0] intercept   : AIC=1930.150, Time=0.02 sec\n",
      " ARIMA(1,1,1)(0,0,0)[0] intercept   : AIC=1905.237, Time=0.06 sec\n",
      " ARIMA(1,1,2)(0,0,0)[0] intercept   : AIC=1900.760, Time=0.14 sec\n",
      " ARIMA(1,1,3)(0,0,0)[0] intercept   : AIC=1878.881, Time=0.22 sec\n",
      " ARIMA(1,1,4)(0,0,0)[0] intercept   : AIC=1876.098, Time=0.28 sec\n",
      " ARIMA(2,1,0)(0,0,0)[0] intercept   : AIC=1919.730, Time=0.05 sec\n",
      " ARIMA(2,1,1)(0,0,0)[0] intercept   : AIC=1898.196, Time=0.09 sec\n",
      " ARIMA(2,1,2)(0,0,0)[0] intercept   : AIC=1872.413, Time=0.22 sec\n",
      " ARIMA(2,1,3)(0,0,0)[0] intercept   : AIC=1880.326, Time=0.27 sec\n",
      " ARIMA(3,1,0)(0,0,0)[0] intercept   : AIC=1918.356, Time=0.06 sec\n",
      " ARIMA(3,1,1)(0,0,0)[0] intercept   : AIC=1898.760, Time=0.12 sec\n",
      " ARIMA(3,1,2)(0,0,0)[0] intercept   : AIC=1890.650, Time=0.24 sec\n",
      " ARIMA(4,1,0)(0,0,0)[0] intercept   : AIC=1913.729, Time=0.08 sec\n",
      " ARIMA(4,1,1)(0,0,0)[0] intercept   : AIC=1892.186, Time=0.22 sec\n",
      " ARIMA(5,1,0)(0,0,0)[0] intercept   : AIC=1868.349, Time=0.11 sec\n",
      "Total fit time: 3.009 seconds\n",
      " ARIMA(0,1,0)(0,0,0)[0] intercept   : AIC=1867.981, Time=0.01 sec\n",
      " ARIMA(0,1,1)(0,0,0)[0] intercept   : AIC=1836.647, Time=0.04 sec\n"
     ]
    },
    {
     "name": "stderr",
     "output_type": "stream",
     "text": [
      "/Users/santiagocortes/opt/anaconda3/envs/tf2/lib/python3.7/site-packages/pmdarima/arima/_validation.py:60: UserWarning: m (12) set for non-seasonal fit. Setting to 0\n",
      "  warnings.warn(\"m (%i) set for non-seasonal fit. Setting to 0\" % m)\n"
     ]
    },
    {
     "name": "stdout",
     "output_type": "stream",
     "text": [
      " ARIMA(0,1,2)(0,0,0)[0] intercept   : AIC=1828.522, Time=0.07 sec\n",
      " ARIMA(0,1,3)(0,0,0)[0] intercept   : AIC=1827.339, Time=0.13 sec\n",
      " ARIMA(0,1,4)(0,0,0)[0] intercept   : AIC=1826.029, Time=0.17 sec\n",
      " ARIMA(0,1,5)(0,0,0)[0] intercept   : AIC=1821.140, Time=0.22 sec\n",
      " ARIMA(1,1,0)(0,0,0)[0] intercept   : AIC=1852.734, Time=0.03 sec\n",
      " ARIMA(1,1,1)(0,0,0)[0] intercept   : AIC=1826.756, Time=0.06 sec\n",
      " ARIMA(1,1,2)(0,0,0)[0] intercept   : AIC=1828.732, Time=0.12 sec\n",
      " ARIMA(1,1,3)(0,0,0)[0] intercept   : AIC=1810.173, Time=0.15 sec\n",
      " ARIMA(1,1,4)(0,0,0)[0] intercept   : AIC=1810.986, Time=0.22 sec\n",
      " ARIMA(2,1,0)(0,0,0)[0] intercept   : AIC=1850.012, Time=0.04 sec\n",
      " ARIMA(2,1,1)(0,0,0)[0] intercept   : AIC=1828.709, Time=0.14 sec\n",
      " ARIMA(2,1,2)(0,0,0)[0] intercept   : AIC=1822.206, Time=0.20 sec\n",
      " ARIMA(2,1,3)(0,0,0)[0] intercept   : AIC=1810.695, Time=0.22 sec\n",
      " ARIMA(3,1,0)(0,0,0)[0] intercept   : AIC=1838.132, Time=0.06 sec\n",
      " ARIMA(3,1,1)(0,0,0)[0] intercept   : AIC=1826.885, Time=0.17 sec\n",
      " ARIMA(3,1,2)(0,0,0)[0] intercept   : AIC=1818.334, Time=0.23 sec\n",
      " ARIMA(4,1,0)(0,0,0)[0] intercept   : AIC=1840.124, Time=0.08 sec\n",
      " ARIMA(4,1,1)(0,0,0)[0] intercept   : AIC=1828.850, Time=0.15 sec\n",
      " ARIMA(5,1,0)(0,0,0)[0] intercept   : AIC=1800.197, Time=0.11 sec\n",
      "Total fit time: 2.633 seconds\n",
      " ARIMA(0,1,0)(0,0,0)[0] intercept   : AIC=479.105, Time=0.01 sec\n"
     ]
    },
    {
     "name": "stderr",
     "output_type": "stream",
     "text": [
      "/Users/santiagocortes/opt/anaconda3/envs/tf2/lib/python3.7/site-packages/pmdarima/arima/_validation.py:60: UserWarning: m (12) set for non-seasonal fit. Setting to 0\n",
      "  warnings.warn(\"m (%i) set for non-seasonal fit. Setting to 0\" % m)\n"
     ]
    },
    {
     "name": "stdout",
     "output_type": "stream",
     "text": [
      " ARIMA(0,1,1)(0,0,0)[0] intercept   : AIC=369.263, Time=0.09 sec\n",
      " ARIMA(0,1,2)(0,0,0)[0] intercept   : AIC=371.246, Time=0.15 sec\n",
      " ARIMA(0,1,3)(0,0,0)[0] intercept   : AIC=373.229, Time=0.20 sec\n",
      " ARIMA(0,1,4)(0,0,0)[0] intercept   : AIC=375.263, Time=0.14 sec\n",
      " ARIMA(0,1,5)(0,0,0)[0] intercept   : AIC=377.186, Time=0.34 sec\n",
      " ARIMA(1,1,0)(0,0,0)[0] intercept   : AIC=433.923, Time=0.02 sec\n",
      " ARIMA(1,1,1)(0,0,0)[0] intercept   : AIC=371.247, Time=0.11 sec\n",
      " ARIMA(1,1,2)(0,0,0)[0] intercept   : AIC=373.090, Time=0.18 sec\n",
      " ARIMA(1,1,3)(0,0,0)[0] intercept   : AIC=375.086, Time=0.20 sec\n",
      " ARIMA(1,1,4)(0,0,0)[0] intercept   : AIC=377.057, Time=0.30 sec\n",
      " ARIMA(2,1,0)(0,0,0)[0] intercept   : AIC=416.723, Time=0.02 sec\n",
      " ARIMA(2,1,1)(0,0,0)[0] intercept   : AIC=373.230, Time=0.15 sec\n",
      " ARIMA(2,1,2)(0,0,0)[0] intercept   : AIC=375.087, Time=0.23 sec\n",
      " ARIMA(2,1,3)(0,0,0)[0] intercept   : AIC=372.703, Time=0.31 sec\n",
      " ARIMA(3,1,0)(0,0,0)[0] intercept   : AIC=408.266, Time=0.03 sec\n",
      " ARIMA(3,1,1)(0,0,0)[0] intercept   : AIC=375.211, Time=0.26 sec\n",
      " ARIMA(3,1,2)(0,0,0)[0] intercept   : AIC=377.044, Time=0.25 sec\n",
      " ARIMA(4,1,0)(0,0,0)[0] intercept   : AIC=403.691, Time=0.04 sec\n",
      " ARIMA(4,1,1)(0,0,0)[0] intercept   : AIC=377.199, Time=0.29 sec\n",
      " ARIMA(5,1,0)(0,0,0)[0] intercept   : AIC=401.182, Time=0.05 sec\n",
      "Total fit time: 3.389 seconds\n",
      " ARIMA(0,1,0)(0,0,0)[0] intercept   : AIC=954.246, Time=0.01 sec\n",
      " ARIMA(0,1,1)(0,0,0)[0] intercept   : AIC=863.178, Time=0.03 sec\n",
      " ARIMA(0,1,2)(0,0,0)[0] intercept   : AIC=865.015, Time=0.05 sec\n"
     ]
    },
    {
     "name": "stderr",
     "output_type": "stream",
     "text": [
      "/Users/santiagocortes/opt/anaconda3/envs/tf2/lib/python3.7/site-packages/pmdarima/arima/_validation.py:60: UserWarning: m (12) set for non-seasonal fit. Setting to 0\n",
      "  warnings.warn(\"m (%i) set for non-seasonal fit. Setting to 0\" % m)\n"
     ]
    },
    {
     "name": "stdout",
     "output_type": "stream",
     "text": [
      " ARIMA(0,1,3)(0,0,0)[0] intercept   : AIC=866.660, Time=0.11 sec\n",
      " ARIMA(0,1,4)(0,0,0)[0] intercept   : AIC=868.576, Time=0.09 sec\n",
      " ARIMA(0,1,5)(0,0,0)[0] intercept   : AIC=870.007, Time=0.09 sec\n",
      " ARIMA(1,1,0)(0,0,0)[0] intercept   : AIC=916.046, Time=0.02 sec\n",
      " ARIMA(1,1,1)(0,0,0)[0] intercept   : AIC=865.030, Time=0.04 sec\n",
      " ARIMA(1,1,2)(0,0,0)[0] intercept   : AIC=864.862, Time=0.09 sec\n",
      " ARIMA(1,1,3)(0,0,0)[0] intercept   : AIC=866.766, Time=0.13 sec\n",
      " ARIMA(1,1,4)(0,0,0)[0] intercept   : AIC=868.735, Time=0.13 sec\n",
      " ARIMA(2,1,0)(0,0,0)[0] intercept   : AIC=895.037, Time=0.03 sec\n",
      " ARIMA(2,1,1)(0,0,0)[0] intercept   : AIC=866.715, Time=0.06 sec\n",
      " ARIMA(2,1,2)(0,0,0)[0] intercept   : AIC=866.762, Time=0.12 sec\n",
      " ARIMA(2,1,3)(0,0,0)[0] intercept   : AIC=868.615, Time=0.25 sec\n",
      " ARIMA(3,1,0)(0,0,0)[0] intercept   : AIC=890.037, Time=0.03 sec\n",
      " ARIMA(3,1,1)(0,0,0)[0] intercept   : AIC=868.571, Time=0.10 sec\n",
      " ARIMA(3,1,2)(0,0,0)[0] intercept   : AIC=868.727, Time=0.16 sec\n",
      " ARIMA(4,1,0)(0,0,0)[0] intercept   : AIC=889.147, Time=0.04 sec\n",
      " ARIMA(4,1,1)(0,0,0)[0] intercept   : AIC=870.276, Time=0.10 sec\n",
      " ARIMA(5,1,0)(0,0,0)[0] intercept   : AIC=885.442, Time=0.07 sec\n",
      "Total fit time: 1.760 seconds\n",
      " ARIMA(0,1,0)(0,0,0)[0] intercept   : AIC=1438.873, Time=0.01 sec\n",
      " ARIMA(0,1,1)(0,0,0)[0] intercept   : AIC=1377.976, Time=0.03 sec\n",
      " ARIMA(0,1,2)(0,0,0)[0] intercept   : AIC=1379.232, Time=0.05 sec\n",
      " ARIMA(0,1,3)(0,0,0)[0] intercept   : AIC=1378.977, Time=0.09 sec\n"
     ]
    },
    {
     "name": "stderr",
     "output_type": "stream",
     "text": [
      "/Users/santiagocortes/opt/anaconda3/envs/tf2/lib/python3.7/site-packages/pmdarima/arima/_validation.py:60: UserWarning: m (12) set for non-seasonal fit. Setting to 0\n",
      "  warnings.warn(\"m (%i) set for non-seasonal fit. Setting to 0\" % m)\n"
     ]
    },
    {
     "name": "stdout",
     "output_type": "stream",
     "text": [
      " ARIMA(0,1,4)(0,0,0)[0] intercept   : AIC=1369.811, Time=0.13 sec\n",
      " ARIMA(0,1,5)(0,0,0)[0] intercept   : AIC=1361.204, Time=0.18 sec\n",
      " ARIMA(1,1,0)(0,0,0)[0] intercept   : AIC=1404.245, Time=0.03 sec\n",
      " ARIMA(1,1,1)(0,0,0)[0] intercept   : AIC=1379.478, Time=0.06 sec\n",
      " ARIMA(1,1,2)(0,0,0)[0] intercept   : AIC=1377.597, Time=0.10 sec\n",
      " ARIMA(1,1,3)(0,0,0)[0] intercept   : AIC=1379.597, Time=0.14 sec\n",
      " ARIMA(1,1,4)(0,0,0)[0] intercept   : AIC=1369.135, Time=0.14 sec\n",
      " ARIMA(2,1,0)(0,0,0)[0] intercept   : AIC=1392.885, Time=0.04 sec\n",
      " ARIMA(2,1,1)(0,0,0)[0] intercept   : AIC=1379.773, Time=0.09 sec\n",
      " ARIMA(2,1,2)(0,0,0)[0] intercept   : AIC=1379.597, Time=0.16 sec\n",
      " ARIMA(2,1,3)(0,0,0)[0] intercept   : AIC=1372.272, Time=0.14 sec\n",
      " ARIMA(3,1,0)(0,0,0)[0] intercept   : AIC=1367.003, Time=0.05 sec\n",
      " ARIMA(3,1,1)(0,0,0)[0] intercept   : AIC=1368.378, Time=0.10 sec\n",
      " ARIMA(3,1,2)(0,0,0)[0] intercept   : AIC=1370.376, Time=0.13 sec\n",
      " ARIMA(4,1,0)(0,0,0)[0] intercept   : AIC=1368.441, Time=0.09 sec\n",
      " ARIMA(4,1,1)(0,0,0)[0] intercept   : AIC=1370.377, Time=0.15 sec\n",
      " ARIMA(5,1,0)(0,0,0)[0] intercept   : AIC=1370.260, Time=0.10 sec\n",
      "Total fit time: 2.035 seconds\n",
      " ARIMA(0,1,0)(0,0,0)[0] intercept   : AIC=1456.661, Time=0.01 sec\n",
      " ARIMA(0,1,1)(0,0,0)[0] intercept   : AIC=1421.403, Time=0.03 sec\n",
      " ARIMA(0,1,2)(0,0,0)[0] intercept   : AIC=1414.709, Time=0.05 sec\n"
     ]
    },
    {
     "name": "stderr",
     "output_type": "stream",
     "text": [
      "/Users/santiagocortes/opt/anaconda3/envs/tf2/lib/python3.7/site-packages/pmdarima/arima/_validation.py:60: UserWarning: m (12) set for non-seasonal fit. Setting to 0\n",
      "  warnings.warn(\"m (%i) set for non-seasonal fit. Setting to 0\" % m)\n"
     ]
    },
    {
     "name": "stdout",
     "output_type": "stream",
     "text": [
      " ARIMA(0,1,3)(0,0,0)[0] intercept   : AIC=1415.317, Time=0.07 sec\n",
      " ARIMA(0,1,4)(0,0,0)[0] intercept   : AIC=1414.504, Time=0.11 sec\n",
      " ARIMA(0,1,5)(0,0,0)[0] intercept   : AIC=1410.330, Time=0.16 sec\n",
      " ARIMA(1,1,0)(0,0,0)[0] intercept   : AIC=1436.029, Time=0.03 sec\n",
      " ARIMA(1,1,1)(0,0,0)[0] intercept   : AIC=1412.540, Time=0.05 sec\n",
      " ARIMA(1,1,2)(0,0,0)[0] intercept   : AIC=1414.032, Time=0.10 sec\n",
      " ARIMA(1,1,3)(0,0,0)[0] intercept   : AIC=1415.989, Time=0.16 sec\n",
      " ARIMA(1,1,4)(0,0,0)[0] intercept   : AIC=1415.399, Time=0.17 sec\n",
      " ARIMA(2,1,0)(0,0,0)[0] intercept   : AIC=1428.481, Time=0.04 sec\n",
      " ARIMA(2,1,1)(0,0,0)[0] intercept   : AIC=1414.046, Time=0.09 sec\n",
      " ARIMA(2,1,2)(0,0,0)[0] intercept   : AIC=1415.404, Time=0.21 sec\n",
      " ARIMA(2,1,3)(0,0,0)[0] intercept   : AIC=1418.032, Time=0.16 sec\n",
      " ARIMA(3,1,0)(0,0,0)[0] intercept   : AIC=1429.204, Time=0.06 sec\n",
      " ARIMA(3,1,1)(0,0,0)[0] intercept   : AIC=1415.882, Time=0.11 sec\n",
      " ARIMA(3,1,2)(0,0,0)[0] intercept   : AIC=1417.485, Time=0.16 sec\n",
      " ARIMA(4,1,0)(0,0,0)[0] intercept   : AIC=1430.274, Time=0.07 sec\n",
      " ARIMA(4,1,1)(0,0,0)[0] intercept   : AIC=1415.269, Time=0.12 sec\n",
      " ARIMA(5,1,0)(0,0,0)[0] intercept   : AIC=1430.662, Time=0.08 sec\n",
      "Total fit time: 2.021 seconds\n",
      " ARIMA(0,1,0)(0,0,0)[0] intercept   : AIC=1833.334, Time=0.01 sec\n",
      " ARIMA(0,1,1)(0,0,0)[0] intercept   : AIC=1747.667, Time=0.04 sec\n",
      " ARIMA(0,1,2)(0,0,0)[0] intercept   : AIC=1749.620, Time=0.07 sec\n"
     ]
    },
    {
     "name": "stderr",
     "output_type": "stream",
     "text": [
      "/Users/santiagocortes/opt/anaconda3/envs/tf2/lib/python3.7/site-packages/pmdarima/arima/_validation.py:60: UserWarning: m (12) set for non-seasonal fit. Setting to 0\n",
      "  warnings.warn(\"m (%i) set for non-seasonal fit. Setting to 0\" % m)\n"
     ]
    },
    {
     "name": "stdout",
     "output_type": "stream",
     "text": [
      " ARIMA(0,1,3)(0,0,0)[0] intercept   : AIC=1734.835, Time=0.14 sec\n",
      " ARIMA(0,1,4)(0,0,0)[0] intercept   : AIC=1736.557, Time=0.17 sec\n",
      " ARIMA(0,1,5)(0,0,0)[0] intercept   : AIC=1734.975, Time=0.31 sec\n",
      " ARIMA(1,1,0)(0,0,0)[0] intercept   : AIC=1748.143, Time=0.02 sec\n",
      " ARIMA(1,1,1)(0,0,0)[0] intercept   : AIC=1749.973, Time=0.05 sec\n",
      " ARIMA(1,1,2)(0,0,0)[0] intercept   : AIC=1741.437, Time=0.08 sec\n",
      " ARIMA(1,1,3)(0,0,0)[0] intercept   : AIC=1731.578, Time=0.14 sec\n",
      " ARIMA(1,1,4)(0,0,0)[0] intercept   : AIC=1733.477, Time=0.28 sec\n",
      " ARIMA(2,1,0)(0,0,0)[0] intercept   : AIC=1750.076, Time=0.04 sec\n",
      " ARIMA(2,1,1)(0,0,0)[0] intercept   : AIC=1735.103, Time=0.12 sec\n",
      " ARIMA(2,1,2)(0,0,0)[0] intercept   : AIC=1731.471, Time=0.14 sec\n",
      " ARIMA(2,1,3)(0,0,0)[0] intercept   : AIC=1733.062, Time=0.28 sec\n",
      " ARIMA(3,1,0)(0,0,0)[0] intercept   : AIC=1746.034, Time=0.06 sec\n",
      " ARIMA(3,1,1)(0,0,0)[0] intercept   : AIC=1730.091, Time=0.16 sec\n",
      " ARIMA(3,1,2)(0,0,0)[0] intercept   : AIC=1724.623, Time=0.30 sec\n",
      " ARIMA(4,1,0)(0,0,0)[0] intercept   : AIC=1747.406, Time=0.07 sec\n",
      " ARIMA(4,1,1)(0,0,0)[0] intercept   : AIC=1731.560, Time=0.17 sec\n",
      " ARIMA(5,1,0)(0,0,0)[0] intercept   : AIC=1743.907, Time=0.10 sec\n",
      "Total fit time: 2.765 seconds\n",
      " ARIMA(0,1,0)(0,0,0)[0] intercept   : AIC=1641.043, Time=0.01 sec\n",
      " ARIMA(0,1,1)(0,0,0)[0] intercept   : AIC=1572.188, Time=0.03 sec\n"
     ]
    },
    {
     "name": "stderr",
     "output_type": "stream",
     "text": [
      "/Users/santiagocortes/opt/anaconda3/envs/tf2/lib/python3.7/site-packages/pmdarima/arima/_validation.py:60: UserWarning: m (12) set for non-seasonal fit. Setting to 0\n",
      "  warnings.warn(\"m (%i) set for non-seasonal fit. Setting to 0\" % m)\n"
     ]
    },
    {
     "name": "stdout",
     "output_type": "stream",
     "text": [
      " ARIMA(0,1,2)(0,0,0)[0] intercept   : AIC=1573.902, Time=0.07 sec\n",
      " ARIMA(0,1,3)(0,0,0)[0] intercept   : AIC=1575.732, Time=0.10 sec\n",
      " ARIMA(0,1,4)(0,0,0)[0] intercept   : AIC=1576.706, Time=0.12 sec\n",
      " ARIMA(0,1,5)(0,0,0)[0] intercept   : AIC=1578.517, Time=0.15 sec\n",
      " ARIMA(1,1,0)(0,0,0)[0] intercept   : AIC=1596.073, Time=0.03 sec\n",
      " ARIMA(1,1,1)(0,0,0)[0] intercept   : AIC=1573.920, Time=0.06 sec\n",
      " ARIMA(1,1,2)(0,0,0)[0] intercept   : AIC=1575.059, Time=0.08 sec\n",
      " ARIMA(1,1,3)(0,0,0)[0] intercept   : AIC=1576.322, Time=0.29 sec\n",
      " ARIMA(1,1,4)(0,0,0)[0] intercept   : AIC=1579.262, Time=0.30 sec\n",
      " ARIMA(2,1,0)(0,0,0)[0] intercept   : AIC=1586.254, Time=0.04 sec\n",
      " ARIMA(2,1,1)(0,0,0)[0] intercept   : AIC=1575.838, Time=0.08 sec\n",
      " ARIMA(2,1,2)(0,0,0)[0] intercept   : AIC=1576.318, Time=0.11 sec\n",
      " ARIMA(2,1,3)(0,0,0)[0] intercept   : AIC=1576.304, Time=0.33 sec\n",
      " ARIMA(3,1,0)(0,0,0)[0] intercept   : AIC=1580.243, Time=0.07 sec\n",
      " ARIMA(3,1,1)(0,0,0)[0] intercept   : AIC=1577.064, Time=0.12 sec\n",
      " ARIMA(3,1,2)(0,0,0)[0] intercept   : AIC=1578.305, Time=0.18 sec\n",
      " ARIMA(4,1,0)(0,0,0)[0] intercept   : AIC=1577.395, Time=0.09 sec\n",
      " ARIMA(4,1,1)(0,0,0)[0] intercept   : AIC=1578.756, Time=0.18 sec\n",
      " ARIMA(5,1,0)(0,0,0)[0] intercept   : AIC=1579.229, Time=0.12 sec\n",
      "Total fit time: 2.564 seconds\n",
      " ARIMA(0,1,0)(0,0,0)[0] intercept   : AIC=1791.606, Time=0.01 sec\n",
      " ARIMA(0,1,1)(0,0,0)[0] intercept   : AIC=1707.799, Time=0.04 sec\n"
     ]
    },
    {
     "name": "stderr",
     "output_type": "stream",
     "text": [
      "/Users/santiagocortes/opt/anaconda3/envs/tf2/lib/python3.7/site-packages/pmdarima/arima/_validation.py:60: UserWarning: m (12) set for non-seasonal fit. Setting to 0\n",
      "  warnings.warn(\"m (%i) set for non-seasonal fit. Setting to 0\" % m)\n"
     ]
    },
    {
     "name": "stdout",
     "output_type": "stream",
     "text": [
      " ARIMA(0,1,2)(0,0,0)[0] intercept   : AIC=1709.777, Time=0.07 sec\n",
      " ARIMA(0,1,3)(0,0,0)[0] intercept   : AIC=1708.783, Time=0.13 sec\n",
      " ARIMA(0,1,4)(0,0,0)[0] intercept   : AIC=1709.764, Time=0.14 sec\n",
      " ARIMA(0,1,5)(0,0,0)[0] intercept   : AIC=1703.592, Time=0.23 sec\n",
      " ARIMA(1,1,0)(0,0,0)[0] intercept   : AIC=1759.571, Time=0.02 sec\n",
      " ARIMA(1,1,1)(0,0,0)[0] intercept   : AIC=1709.785, Time=0.08 sec\n",
      " ARIMA(1,1,2)(0,0,0)[0] intercept   : AIC=1708.126, Time=0.09 sec\n",
      " ARIMA(1,1,3)(0,0,0)[0] intercept   : AIC=1708.845, Time=0.16 sec\n",
      " ARIMA(1,1,4)(0,0,0)[0] intercept   : AIC=1710.071, Time=0.22 sec\n",
      " ARIMA(2,1,0)(0,0,0)[0] intercept   : AIC=1725.664, Time=0.05 sec\n",
      " ARIMA(2,1,1)(0,0,0)[0] intercept   : AIC=1706.555, Time=0.11 sec\n",
      " ARIMA(2,1,2)(0,0,0)[0] intercept   : AIC=1708.525, Time=0.13 sec\n",
      " ARIMA(2,1,3)(0,0,0)[0] intercept   : AIC=1693.680, Time=0.28 sec\n",
      " ARIMA(3,1,0)(0,0,0)[0] intercept   : AIC=1705.236, Time=0.07 sec\n",
      " ARIMA(3,1,1)(0,0,0)[0] intercept   : AIC=1707.228, Time=0.12 sec\n",
      " ARIMA(3,1,2)(0,0,0)[0] intercept   : AIC=1708.746, Time=0.17 sec\n",
      " ARIMA(4,1,0)(0,0,0)[0] intercept   : AIC=1707.230, Time=0.10 sec\n",
      " ARIMA(4,1,1)(0,0,0)[0] intercept   : AIC=1704.536, Time=0.26 sec\n",
      " ARIMA(5,1,0)(0,0,0)[0] intercept   : AIC=1709.014, Time=0.10 sec\n",
      "Total fit time: 2.562 seconds\n",
      " ARIMA(0,1,0)(0,0,0)[0] intercept   : AIC=1747.460, Time=0.01 sec\n",
      " ARIMA(0,1,1)(0,0,0)[0] intercept   : AIC=1692.229, Time=0.04 sec\n"
     ]
    },
    {
     "name": "stderr",
     "output_type": "stream",
     "text": [
      "/Users/santiagocortes/opt/anaconda3/envs/tf2/lib/python3.7/site-packages/pmdarima/arima/_validation.py:60: UserWarning: m (12) set for non-seasonal fit. Setting to 0\n",
      "  warnings.warn(\"m (%i) set for non-seasonal fit. Setting to 0\" % m)\n"
     ]
    },
    {
     "name": "stdout",
     "output_type": "stream",
     "text": [
      " ARIMA(0,1,2)(0,0,0)[0] intercept   : AIC=1693.711, Time=0.08 sec\n",
      " ARIMA(0,1,3)(0,0,0)[0] intercept   : AIC=1690.451, Time=0.13 sec\n",
      " ARIMA(0,1,4)(0,0,0)[0] intercept   : AIC=1680.644, Time=0.16 sec\n",
      " ARIMA(0,1,5)(0,0,0)[0] intercept   : AIC=1682.542, Time=0.18 sec\n",
      " ARIMA(1,1,0)(0,0,0)[0] intercept   : AIC=1725.632, Time=0.03 sec\n",
      " ARIMA(1,1,1)(0,0,0)[0] intercept   : AIC=1693.900, Time=0.06 sec\n",
      " ARIMA(1,1,2)(0,0,0)[0] intercept   : AIC=1687.914, Time=0.18 sec\n",
      " ARIMA(1,1,3)(0,0,0)[0] intercept   : AIC=1697.568, Time=0.18 sec\n",
      " ARIMA(1,1,4)(0,0,0)[0] intercept   : AIC=1682.610, Time=0.18 sec\n",
      " ARIMA(2,1,0)(0,0,0)[0] intercept   : AIC=1714.135, Time=0.04 sec\n",
      " ARIMA(2,1,1)(0,0,0)[0] intercept   : AIC=1691.145, Time=0.10 sec\n",
      " ARIMA(2,1,2)(0,0,0)[0] intercept   : AIC=1683.663, Time=0.19 sec\n",
      " ARIMA(2,1,3)(0,0,0)[0] intercept   : AIC=1671.810, Time=0.26 sec\n",
      " ARIMA(3,1,0)(0,0,0)[0] intercept   : AIC=1677.662, Time=0.06 sec\n",
      " ARIMA(3,1,1)(0,0,0)[0] intercept   : AIC=1675.492, Time=0.12 sec\n",
      " ARIMA(3,1,2)(0,0,0)[0] intercept   : AIC=1674.286, Time=0.25 sec\n",
      " ARIMA(4,1,0)(0,0,0)[0] intercept   : AIC=1672.807, Time=0.08 sec\n",
      " ARIMA(4,1,1)(0,0,0)[0] intercept   : AIC=1657.115, Time=0.29 sec\n",
      " ARIMA(5,1,0)(0,0,0)[0] intercept   : AIC=1671.723, Time=0.10 sec\n",
      "Total fit time: 2.725 seconds\n",
      " ARIMA(0,1,0)(0,0,0)[0] intercept   : AIC=1477.662, Time=0.01 sec\n",
      " ARIMA(0,1,1)(0,0,0)[0] intercept   : AIC=1408.204, Time=0.03 sec\n"
     ]
    },
    {
     "name": "stderr",
     "output_type": "stream",
     "text": [
      "/Users/santiagocortes/opt/anaconda3/envs/tf2/lib/python3.7/site-packages/pmdarima/arima/_validation.py:60: UserWarning: m (12) set for non-seasonal fit. Setting to 0\n",
      "  warnings.warn(\"m (%i) set for non-seasonal fit. Setting to 0\" % m)\n"
     ]
    },
    {
     "name": "stdout",
     "output_type": "stream",
     "text": [
      " ARIMA(0,1,2)(0,0,0)[0] intercept   : AIC=1409.756, Time=0.06 sec\n",
      " ARIMA(0,1,3)(0,0,0)[0] intercept   : AIC=1389.623, Time=0.08 sec\n",
      " ARIMA(0,1,4)(0,0,0)[0] intercept   : AIC=1382.842, Time=0.11 sec\n",
      " ARIMA(0,1,5)(0,0,0)[0] intercept   : AIC=1384.599, Time=0.15 sec\n",
      " ARIMA(1,1,0)(0,0,0)[0] intercept   : AIC=1464.850, Time=0.03 sec\n",
      " ARIMA(1,1,1)(0,0,0)[0] intercept   : AIC=1410.115, Time=0.05 sec\n",
      " ARIMA(1,1,2)(0,0,0)[0] intercept   : AIC=1397.804, Time=0.10 sec\n",
      " ARIMA(1,1,3)(0,0,0)[0] intercept   : AIC=1384.478, Time=0.14 sec\n",
      " ARIMA(1,1,4)(0,0,0)[0] intercept   : AIC=1384.496, Time=0.18 sec\n",
      " ARIMA(2,1,0)(0,0,0)[0] intercept   : AIC=1419.125, Time=0.04 sec\n",
      " ARIMA(2,1,1)(0,0,0)[0] intercept   : AIC=1388.085, Time=0.06 sec\n",
      " ARIMA(2,1,2)(0,0,0)[0] intercept   : AIC=1389.404, Time=0.10 sec\n",
      " ARIMA(2,1,3)(0,0,0)[0] intercept   : AIC=1373.278, Time=0.27 sec\n",
      " ARIMA(3,1,0)(0,0,0)[0] intercept   : AIC=1391.673, Time=0.06 sec\n",
      " ARIMA(3,1,1)(0,0,0)[0] intercept   : AIC=1388.985, Time=0.11 sec\n",
      " ARIMA(3,1,2)(0,0,0)[0] intercept   : AIC=1388.104, Time=0.19 sec\n",
      " ARIMA(4,1,0)(0,0,0)[0] intercept   : AIC=1393.406, Time=0.07 sec\n",
      " ARIMA(4,1,1)(0,0,0)[0] intercept   : AIC=1388.992, Time=0.14 sec\n",
      " ARIMA(5,1,0)(0,0,0)[0] intercept   : AIC=1392.035, Time=0.09 sec\n",
      "Total fit time: 2.062 seconds\n",
      " ARIMA(0,1,0)(0,0,0)[0] intercept   : AIC=1117.920, Time=0.01 sec\n",
      " ARIMA(0,1,1)(0,0,0)[0] intercept   : AIC=1044.288, Time=0.03 sec\n",
      " ARIMA(0,1,2)(0,0,0)[0] intercept   : AIC=1043.357, Time=0.05 sec\n"
     ]
    },
    {
     "name": "stderr",
     "output_type": "stream",
     "text": [
      "/Users/santiagocortes/opt/anaconda3/envs/tf2/lib/python3.7/site-packages/pmdarima/arima/_validation.py:60: UserWarning: m (12) set for non-seasonal fit. Setting to 0\n",
      "  warnings.warn(\"m (%i) set for non-seasonal fit. Setting to 0\" % m)\n"
     ]
    },
    {
     "name": "stdout",
     "output_type": "stream",
     "text": [
      " ARIMA(0,1,3)(0,0,0)[0] intercept   : AIC=1044.826, Time=0.06 sec\n",
      " ARIMA(0,1,4)(0,0,0)[0] intercept   : AIC=1046.802, Time=0.09 sec\n",
      " ARIMA(0,1,5)(0,0,0)[0] intercept   : AIC=1047.608, Time=0.14 sec\n",
      " ARIMA(1,1,0)(0,0,0)[0] intercept   : AIC=1074.191, Time=0.02 sec\n",
      " ARIMA(1,1,1)(0,0,0)[0] intercept   : AIC=1043.839, Time=0.04 sec\n",
      " ARIMA(1,1,2)(0,0,0)[0] intercept   : AIC=1044.850, Time=0.09 sec\n",
      " ARIMA(1,1,3)(0,0,0)[0] intercept   : AIC=1044.705, Time=0.09 sec\n",
      " ARIMA(1,1,4)(0,0,0)[0] intercept   : AIC=1046.684, Time=0.11 sec\n",
      " ARIMA(2,1,0)(0,0,0)[0] intercept   : AIC=1056.498, Time=0.03 sec\n",
      " ARIMA(2,1,1)(0,0,0)[0] intercept   : AIC=1045.020, Time=0.05 sec\n",
      " ARIMA(2,1,2)(0,0,0)[0] intercept   : AIC=1044.394, Time=0.07 sec\n",
      " ARIMA(2,1,3)(0,0,0)[0] intercept   : AIC=1044.544, Time=0.17 sec\n",
      " ARIMA(3,1,0)(0,0,0)[0] intercept   : AIC=1055.495, Time=0.03 sec\n",
      " ARIMA(3,1,1)(0,0,0)[0] intercept   : AIC=1046.986, Time=0.08 sec\n",
      " ARIMA(3,1,2)(0,0,0)[0] intercept   : AIC=1046.302, Time=0.08 sec\n",
      " ARIMA(4,1,0)(0,0,0)[0] intercept   : AIC=1043.284, Time=0.06 sec\n",
      " ARIMA(4,1,1)(0,0,0)[0] intercept   : AIC=1044.758, Time=0.09 sec\n",
      " ARIMA(5,1,0)(0,0,0)[0] intercept   : AIC=1044.968, Time=0.08 sec\n",
      "Total fit time: 1.489 seconds\n",
      " ARIMA(0,1,0)(0,0,0)[0] intercept   : AIC=1447.651, Time=0.01 sec\n",
      " ARIMA(0,1,1)(0,0,0)[0] intercept   : AIC=1416.149, Time=0.03 sec\n",
      " ARIMA(0,1,2)(0,0,0)[0] intercept   : AIC=1409.058, Time=0.05 sec\n"
     ]
    },
    {
     "name": "stderr",
     "output_type": "stream",
     "text": [
      "/Users/santiagocortes/opt/anaconda3/envs/tf2/lib/python3.7/site-packages/pmdarima/arima/_validation.py:60: UserWarning: m (12) set for non-seasonal fit. Setting to 0\n",
      "  warnings.warn(\"m (%i) set for non-seasonal fit. Setting to 0\" % m)\n"
     ]
    },
    {
     "name": "stdout",
     "output_type": "stream",
     "text": [
      " ARIMA(0,1,3)(0,0,0)[0] intercept   : AIC=1411.057, Time=0.08 sec\n",
      " ARIMA(0,1,4)(0,0,0)[0] intercept   : AIC=1409.638, Time=0.12 sec\n",
      " ARIMA(0,1,5)(0,0,0)[0] intercept   : AIC=1402.151, Time=0.15 sec\n",
      " ARIMA(1,1,0)(0,0,0)[0] intercept   : AIC=1435.946, Time=0.03 sec\n",
      " ARIMA(1,1,1)(0,0,0)[0] intercept   : AIC=1410.547, Time=0.06 sec\n",
      " ARIMA(1,1,2)(0,0,0)[0] intercept   : AIC=1410.335, Time=0.08 sec\n",
      " ARIMA(1,1,3)(0,0,0)[0] intercept   : AIC=1410.053, Time=0.13 sec\n",
      " ARIMA(1,1,4)(0,0,0)[0] intercept   : AIC=1411.748, Time=0.12 sec\n",
      " ARIMA(2,1,0)(0,0,0)[0] intercept   : AIC=1426.060, Time=0.04 sec\n",
      " ARIMA(2,1,1)(0,0,0)[0] intercept   : AIC=1409.849, Time=0.08 sec\n",
      " ARIMA(2,1,2)(0,0,0)[0] intercept   : AIC=1410.146, Time=0.10 sec\n",
      " ARIMA(2,1,3)(0,0,0)[0] intercept   : AIC=1411.978, Time=0.16 sec\n",
      " ARIMA(3,1,0)(0,0,0)[0] intercept   : AIC=1416.961, Time=0.06 sec\n",
      " ARIMA(3,1,1)(0,0,0)[0] intercept   : AIC=1410.140, Time=0.11 sec\n",
      " ARIMA(3,1,2)(0,0,0)[0] intercept   : AIC=1394.150, Time=0.26 sec\n",
      " ARIMA(4,1,0)(0,0,0)[0] intercept   : AIC=1413.572, Time=0.10 sec\n",
      " ARIMA(4,1,1)(0,0,0)[0] intercept   : AIC=1412.081, Time=0.10 sec\n",
      " ARIMA(5,1,0)(0,0,0)[0] intercept   : AIC=1415.548, Time=0.12 sec\n",
      "Total fit time: 1.992 seconds\n",
      " ARIMA(0,1,0)(0,0,0)[0] intercept   : AIC=584.595, Time=0.01 sec\n",
      " ARIMA(0,1,1)(0,0,0)[0] intercept   : AIC=497.025, Time=0.04 sec\n",
      " ARIMA(0,1,2)(0,0,0)[0] intercept   : AIC=498.402, Time=0.08 sec\n"
     ]
    },
    {
     "name": "stderr",
     "output_type": "stream",
     "text": [
      "/Users/santiagocortes/opt/anaconda3/envs/tf2/lib/python3.7/site-packages/pmdarima/arima/_validation.py:60: UserWarning: m (12) set for non-seasonal fit. Setting to 0\n",
      "  warnings.warn(\"m (%i) set for non-seasonal fit. Setting to 0\" % m)\n"
     ]
    },
    {
     "name": "stdout",
     "output_type": "stream",
     "text": [
      " ARIMA(0,1,3)(0,0,0)[0] intercept   : AIC=500.243, Time=0.18 sec\n",
      " ARIMA(0,1,4)(0,0,0)[0] intercept   : AIC=501.098, Time=0.16 sec\n",
      " ARIMA(0,1,5)(0,0,0)[0] intercept   : AIC=503.087, Time=0.23 sec\n",
      " ARIMA(1,1,0)(0,0,0)[0] intercept   : AIC=549.898, Time=0.02 sec\n",
      " ARIMA(1,1,1)(0,0,0)[0] intercept   : AIC=498.455, Time=0.10 sec\n",
      " ARIMA(1,1,2)(0,0,0)[0] intercept   : AIC=500.361, Time=0.13 sec\n",
      " ARIMA(1,1,3)(0,0,0)[0] intercept   : AIC=502.401, Time=0.14 sec\n",
      " ARIMA(1,1,4)(0,0,0)[0] intercept   : AIC=503.091, Time=0.22 sec\n",
      " ARIMA(2,1,0)(0,0,0)[0] intercept   : AIC=536.164, Time=0.02 sec\n",
      " ARIMA(2,1,1)(0,0,0)[0] intercept   : AIC=500.110, Time=0.08 sec\n",
      " ARIMA(2,1,2)(0,0,0)[0] intercept   : AIC=501.374, Time=0.22 sec\n",
      " ARIMA(2,1,3)(0,0,0)[0] intercept   : AIC=498.735, Time=0.31 sec\n",
      " ARIMA(3,1,0)(0,0,0)[0] intercept   : AIC=521.119, Time=0.04 sec\n",
      " ARIMA(3,1,1)(0,0,0)[0] intercept   : AIC=501.033, Time=0.11 sec\n",
      " ARIMA(3,1,2)(0,0,0)[0] intercept   : AIC=503.017, Time=0.14 sec\n",
      " ARIMA(4,1,0)(0,0,0)[0] intercept   : AIC=513.704, Time=0.04 sec\n",
      " ARIMA(4,1,1)(0,0,0)[0] intercept   : AIC=503.006, Time=0.10 sec\n",
      " ARIMA(5,1,0)(0,0,0)[0] intercept   : AIC=511.864, Time=0.05 sec\n",
      "Total fit time: 2.421 seconds\n"
     ]
    },
    {
     "name": "stderr",
     "output_type": "stream",
     "text": [
      "/Users/santiagocortes/opt/anaconda3/envs/tf2/lib/python3.7/site-packages/pmdarima/arima/_validation.py:60: UserWarning: m (12) set for non-seasonal fit. Setting to 0\n",
      "  warnings.warn(\"m (%i) set for non-seasonal fit. Setting to 0\" % m)\n"
     ]
    },
    {
     "name": "stdout",
     "output_type": "stream",
     "text": [
      " ARIMA(0,1,0)(0,0,0)[0] intercept   : AIC=1791.586, Time=0.01 sec\n",
      " ARIMA(0,1,1)(0,0,0)[0] intercept   : AIC=1725.476, Time=0.04 sec\n",
      " ARIMA(0,1,2)(0,0,0)[0] intercept   : AIC=1716.613, Time=0.08 sec\n",
      " ARIMA(0,1,3)(0,0,0)[0] intercept   : AIC=1718.136, Time=0.12 sec\n",
      " ARIMA(0,1,4)(0,0,0)[0] intercept   : AIC=1719.655, Time=0.19 sec\n",
      " ARIMA(0,1,5)(0,0,0)[0] intercept   : AIC=1687.660, Time=0.28 sec\n",
      " ARIMA(1,1,0)(0,0,0)[0] intercept   : AIC=1737.195, Time=0.03 sec\n",
      " ARIMA(1,1,1)(0,0,0)[0] intercept   : AIC=1719.754, Time=0.07 sec\n",
      " ARIMA(1,1,2)(0,0,0)[0] intercept   : AIC=1710.497, Time=0.09 sec\n",
      " ARIMA(1,1,3)(0,0,0)[0] intercept   : AIC=1713.660, Time=0.22 sec\n",
      " ARIMA(1,1,4)(0,0,0)[0] intercept   : AIC=1713.923, Time=0.26 sec\n",
      " ARIMA(2,1,0)(0,0,0)[0] intercept   : AIC=1710.224, Time=0.04 sec\n",
      " ARIMA(2,1,1)(0,0,0)[0] intercept   : AIC=1708.475, Time=0.12 sec\n",
      " ARIMA(2,1,2)(0,0,0)[0] intercept   : AIC=1708.404, Time=0.16 sec\n",
      " ARIMA(2,1,3)(0,0,0)[0] intercept   : AIC=1709.663, Time=0.27 sec\n",
      " ARIMA(3,1,0)(0,0,0)[0] intercept   : AIC=1711.206, Time=0.06 sec\n",
      " ARIMA(3,1,1)(0,0,0)[0] intercept   : AIC=1709.089, Time=0.20 sec\n",
      " ARIMA(3,1,2)(0,0,0)[0] intercept   : AIC=1709.967, Time=0.17 sec\n",
      " ARIMA(4,1,0)(0,0,0)[0] intercept   : AIC=1708.596, Time=0.10 sec\n",
      " ARIMA(4,1,1)(0,0,0)[0] intercept   : AIC=1709.615, Time=0.21 sec\n",
      " ARIMA(5,1,0)(0,0,0)[0] intercept   : AIC=1710.506, Time=0.18 sec\n",
      "Total fit time: 2.919 seconds\n",
      " ARIMA(0,1,0)(0,0,0)[0] intercept   : AIC=1749.613, Time=0.01 sec\n"
     ]
    },
    {
     "name": "stderr",
     "output_type": "stream",
     "text": [
      "/Users/santiagocortes/opt/anaconda3/envs/tf2/lib/python3.7/site-packages/pmdarima/arima/_validation.py:60: UserWarning: m (12) set for non-seasonal fit. Setting to 0\n",
      "  warnings.warn(\"m (%i) set for non-seasonal fit. Setting to 0\" % m)\n"
     ]
    },
    {
     "name": "stdout",
     "output_type": "stream",
     "text": [
      " ARIMA(0,1,1)(0,0,0)[0] intercept   : AIC=1726.956, Time=0.05 sec\n",
      " ARIMA(0,1,2)(0,0,0)[0] intercept   : AIC=1724.019, Time=0.05 sec\n",
      " ARIMA(0,1,3)(0,0,0)[0] intercept   : AIC=1719.860, Time=0.11 sec\n",
      " ARIMA(0,1,4)(0,0,0)[0] intercept   : AIC=1721.261, Time=0.11 sec\n",
      " ARIMA(0,1,5)(0,0,0)[0] intercept   : AIC=1713.866, Time=0.18 sec\n",
      " ARIMA(1,1,0)(0,0,0)[0] intercept   : AIC=1733.090, Time=0.03 sec\n",
      " ARIMA(1,1,1)(0,0,0)[0] intercept   : AIC=1717.245, Time=0.06 sec\n",
      " ARIMA(1,1,2)(0,0,0)[0] intercept   : AIC=1718.052, Time=0.12 sec\n",
      " ARIMA(1,1,3)(0,0,0)[0] intercept   : AIC=1719.590, Time=0.18 sec\n",
      " ARIMA(1,1,4)(0,0,0)[0] intercept   : AIC=1717.755, Time=0.27 sec\n",
      " ARIMA(2,1,0)(0,0,0)[0] intercept   : AIC=1731.820, Time=0.04 sec\n",
      " ARIMA(2,1,1)(0,0,0)[0] intercept   : AIC=1717.766, Time=0.07 sec\n",
      " ARIMA(2,1,2)(0,0,0)[0] intercept   : AIC=1713.017, Time=0.17 sec\n",
      " ARIMA(2,1,3)(0,0,0)[0] intercept   : AIC=1714.954, Time=0.22 sec\n",
      " ARIMA(3,1,0)(0,0,0)[0] intercept   : AIC=1730.921, Time=0.06 sec\n",
      " ARIMA(3,1,1)(0,0,0)[0] intercept   : AIC=1719.589, Time=0.13 sec\n",
      " ARIMA(3,1,2)(0,0,0)[0] intercept   : AIC=1714.963, Time=0.23 sec\n",
      " ARIMA(4,1,0)(0,0,0)[0] intercept   : AIC=1732.824, Time=0.08 sec\n",
      " ARIMA(4,1,1)(0,0,0)[0] intercept   : AIC=1721.494, Time=0.24 sec\n",
      " ARIMA(5,1,0)(0,0,0)[0] intercept   : AIC=1729.760, Time=0.09 sec\n",
      "Total fit time: 2.514 seconds\n",
      " ARIMA(0,1,0)(0,0,0)[0] intercept   : AIC=1621.652, Time=0.01 sec\n",
      " ARIMA(0,1,1)(0,0,0)[0] intercept   : AIC=1531.300, Time=0.03 sec\n",
      " ARIMA(0,1,2)(0,0,0)[0] intercept   : AIC=1532.904, Time=0.06 sec\n"
     ]
    },
    {
     "name": "stderr",
     "output_type": "stream",
     "text": [
      "/Users/santiagocortes/opt/anaconda3/envs/tf2/lib/python3.7/site-packages/pmdarima/arima/_validation.py:60: UserWarning: m (12) set for non-seasonal fit. Setting to 0\n",
      "  warnings.warn(\"m (%i) set for non-seasonal fit. Setting to 0\" % m)\n"
     ]
    },
    {
     "name": "stdout",
     "output_type": "stream",
     "text": [
      " ARIMA(0,1,3)(0,0,0)[0] intercept   : AIC=1533.481, Time=0.10 sec\n",
      " ARIMA(0,1,4)(0,0,0)[0] intercept   : AIC=1535.322, Time=0.15 sec\n",
      " ARIMA(0,1,5)(0,0,0)[0] intercept   : AIC=1534.415, Time=0.18 sec\n",
      " ARIMA(1,1,0)(0,0,0)[0] intercept   : AIC=1579.490, Time=0.03 sec\n",
      " ARIMA(1,1,1)(0,0,0)[0] intercept   : AIC=1532.974, Time=0.05 sec\n",
      " ARIMA(1,1,2)(0,0,0)[0] intercept   : AIC=1535.285, Time=0.07 sec\n",
      " ARIMA(1,1,3)(0,0,0)[0] intercept   : AIC=1534.496, Time=0.26 sec\n",
      " ARIMA(1,1,4)(0,0,0)[0] intercept   : AIC=1537.306, Time=0.21 sec\n",
      " ARIMA(2,1,0)(0,0,0)[0] intercept   : AIC=1556.166, Time=0.05 sec\n",
      " ARIMA(2,1,1)(0,0,0)[0] intercept   : AIC=1533.981, Time=0.09 sec\n",
      " ARIMA(2,1,2)(0,0,0)[0] intercept   : AIC=1535.787, Time=0.18 sec\n",
      " ARIMA(2,1,3)(0,0,0)[0] intercept   : AIC=1524.028, Time=0.32 sec\n",
      " ARIMA(3,1,0)(0,0,0)[0] intercept   : AIC=1553.323, Time=0.07 sec\n",
      " ARIMA(3,1,1)(0,0,0)[0] intercept   : AIC=1535.970, Time=0.11 sec\n",
      " ARIMA(3,1,2)(0,0,0)[0] intercept   : AIC=1537.964, Time=0.21 sec\n",
      " ARIMA(4,1,0)(0,0,0)[0] intercept   : AIC=1548.518, Time=0.07 sec\n",
      " ARIMA(4,1,1)(0,0,0)[0] intercept   : AIC=1534.562, Time=0.13 sec\n",
      " ARIMA(5,1,0)(0,0,0)[0] intercept   : AIC=1530.747, Time=0.08 sec\n",
      "Total fit time: 2.458 seconds\n",
      " ARIMA(0,1,0)(0,0,0)[0] intercept   : AIC=2185.221, Time=0.01 sec\n",
      " ARIMA(0,1,1)(0,0,0)[0] intercept   : AIC=2099.208, Time=0.05 sec\n",
      " ARIMA(0,1,2)(0,0,0)[0] intercept   : AIC=2101.168, Time=0.09 sec\n"
     ]
    },
    {
     "name": "stderr",
     "output_type": "stream",
     "text": [
      "/Users/santiagocortes/opt/anaconda3/envs/tf2/lib/python3.7/site-packages/pmdarima/arima/_validation.py:60: UserWarning: m (12) set for non-seasonal fit. Setting to 0\n",
      "  warnings.warn(\"m (%i) set for non-seasonal fit. Setting to 0\" % m)\n"
     ]
    },
    {
     "name": "stdout",
     "output_type": "stream",
     "text": [
      " ARIMA(0,1,3)(0,0,0)[0] intercept   : AIC=2082.851, Time=0.16 sec\n",
      " ARIMA(0,1,4)(0,0,0)[0] intercept   : AIC=2088.392, Time=0.27 sec\n",
      " ARIMA(0,1,5)(0,0,0)[0] intercept   : AIC=2088.086, Time=0.32 sec\n",
      " ARIMA(1,1,0)(0,0,0)[0] intercept   : AIC=2160.113, Time=0.03 sec\n",
      " ARIMA(1,1,1)(0,0,0)[0] intercept   : AIC=2101.186, Time=0.08 sec\n",
      " ARIMA(1,1,2)(0,0,0)[0] intercept   : AIC=2102.921, Time=0.13 sec\n",
      " ARIMA(1,1,3)(0,0,0)[0] intercept   : AIC=2105.160, Time=0.17 sec\n",
      " ARIMA(1,1,4)(0,0,0)[0] intercept   : AIC=2076.267, Time=0.32 sec\n",
      " ARIMA(2,1,0)(0,0,0)[0] intercept   : AIC=2126.590, Time=0.02 sec\n",
      " ARIMA(2,1,1)(0,0,0)[0] intercept   : AIC=2095.379, Time=0.13 sec\n",
      " ARIMA(2,1,2)(0,0,0)[0] intercept   : AIC=2070.056, Time=0.24 sec\n",
      " ARIMA(2,1,3)(0,0,0)[0] intercept   : AIC=2171.338, Time=0.16 sec\n",
      " ARIMA(3,1,0)(0,0,0)[0] intercept   : AIC=2122.700, Time=0.08 sec\n",
      " ARIMA(3,1,1)(0,0,0)[0] intercept   : AIC=2096.455, Time=0.15 sec\n",
      " ARIMA(3,1,2)(0,0,0)[0] intercept   : AIC=2099.370, Time=0.22 sec\n",
      " ARIMA(4,1,0)(0,0,0)[0] intercept   : AIC=2120.491, Time=0.09 sec\n",
      " ARIMA(4,1,1)(0,0,0)[0] intercept   : AIC=2086.943, Time=0.19 sec\n",
      " ARIMA(5,1,0)(0,0,0)[0] intercept   : AIC=2055.514, Time=0.19 sec\n",
      "Total fit time: 3.117 seconds\n"
     ]
    },
    {
     "name": "stderr",
     "output_type": "stream",
     "text": [
      "/Users/santiagocortes/opt/anaconda3/envs/tf2/lib/python3.7/site-packages/pmdarima/arima/_validation.py:60: UserWarning: m (12) set for non-seasonal fit. Setting to 0\n",
      "  warnings.warn(\"m (%i) set for non-seasonal fit. Setting to 0\" % m)\n"
     ]
    },
    {
     "name": "stdout",
     "output_type": "stream",
     "text": [
      " ARIMA(0,1,0)(0,0,0)[0] intercept   : AIC=1154.800, Time=0.01 sec\n",
      " ARIMA(0,1,1)(0,0,0)[0] intercept   : AIC=1059.020, Time=0.09 sec\n",
      " ARIMA(0,1,2)(0,0,0)[0] intercept   : AIC=1060.074, Time=0.13 sec\n",
      " ARIMA(0,1,3)(0,0,0)[0] intercept   : AIC=1061.909, Time=0.08 sec\n",
      " ARIMA(0,1,4)(0,0,0)[0] intercept   : AIC=1063.608, Time=0.21 sec\n",
      " ARIMA(0,1,5)(0,0,0)[0] intercept   : AIC=1065.461, Time=0.29 sec\n",
      " ARIMA(1,1,0)(0,0,0)[0] intercept   : AIC=1121.533, Time=0.02 sec\n",
      " ARIMA(1,1,1)(0,0,0)[0] intercept   : AIC=1060.149, Time=0.10 sec\n",
      " ARIMA(1,1,2)(0,0,0)[0] intercept   : AIC=1060.238, Time=0.24 sec\n",
      " ARIMA(1,1,3)(0,0,0)[0] intercept   : AIC=1061.872, Time=0.23 sec\n",
      " ARIMA(1,1,4)(0,0,0)[0] intercept   : AIC=1065.292, Time=0.29 sec\n",
      " ARIMA(2,1,0)(0,0,0)[0] intercept   : AIC=1106.782, Time=0.03 sec\n",
      " ARIMA(2,1,1)(0,0,0)[0] intercept   : AIC=1061.817, Time=0.16 sec\n",
      " ARIMA(2,1,2)(0,0,0)[0] intercept   : AIC=1061.885, Time=0.23 sec\n",
      " ARIMA(2,1,3)(0,0,0)[0] intercept   : AIC=1062.767, Time=0.29 sec\n",
      " ARIMA(3,1,0)(0,0,0)[0] intercept   : AIC=1082.833, Time=0.06 sec\n",
      " ARIMA(3,1,1)(0,0,0)[0] intercept   : AIC=1063.605, Time=0.20 sec\n",
      " ARIMA(3,1,2)(0,0,0)[0] intercept   : AIC=1064.075, Time=0.33 sec\n",
      " ARIMA(4,1,0)(0,0,0)[0] intercept   : AIC=1077.765, Time=0.08 sec\n",
      " ARIMA(4,1,1)(0,0,0)[0] intercept   : AIC=1065.517, Time=0.26 sec\n",
      " ARIMA(5,1,0)(0,0,0)[0] intercept   : AIC=1076.923, Time=0.09 sec\n",
      "Total fit time: 3.429 seconds\n",
      " ARIMA(0,1,0)(0,0,0)[0] intercept   : AIC=154.148, Time=0.02 sec\n"
     ]
    },
    {
     "name": "stderr",
     "output_type": "stream",
     "text": [
      "/Users/santiagocortes/opt/anaconda3/envs/tf2/lib/python3.7/site-packages/pmdarima/arima/_validation.py:60: UserWarning: m (12) set for non-seasonal fit. Setting to 0\n",
      "  warnings.warn(\"m (%i) set for non-seasonal fit. Setting to 0\" % m)\n"
     ]
    },
    {
     "name": "stdout",
     "output_type": "stream",
     "text": [
      " ARIMA(0,1,1)(0,0,0)[0] intercept   : AIC=38.996, Time=0.10 sec\n",
      " ARIMA(0,1,2)(0,0,0)[0] intercept   : AIC=40.652, Time=0.15 sec\n",
      " ARIMA(0,1,3)(0,0,0)[0] intercept   : AIC=42.251, Time=0.15 sec\n",
      " ARIMA(0,1,4)(0,0,0)[0] intercept   : AIC=43.905, Time=0.24 sec\n",
      " ARIMA(0,1,5)(0,0,0)[0] intercept   : AIC=45.965, Time=0.32 sec\n",
      " ARIMA(1,1,0)(0,0,0)[0] intercept   : AIC=108.966, Time=0.03 sec\n",
      " ARIMA(1,1,1)(0,0,0)[0] intercept   : AIC=40.684, Time=0.14 sec\n",
      " ARIMA(1,1,2)(0,0,0)[0] intercept   : AIC=42.952, Time=0.14 sec\n",
      " ARIMA(1,1,3)(0,0,0)[0] intercept   : AIC=43.981, Time=0.25 sec\n",
      " ARIMA(1,1,4)(0,0,0)[0] intercept   : AIC=46.408, Time=0.27 sec\n",
      " ARIMA(2,1,0)(0,0,0)[0] intercept   : AIC=90.570, Time=0.04 sec\n",
      " ARIMA(2,1,1)(0,0,0)[0] intercept   : AIC=42.318, Time=0.17 sec\n",
      " ARIMA(2,1,2)(0,0,0)[0] intercept   : AIC=44.016, Time=0.19 sec\n",
      " ARIMA(2,1,3)(0,0,0)[0] intercept   : AIC=44.015, Time=0.29 sec\n",
      " ARIMA(3,1,0)(0,0,0)[0] intercept   : AIC=81.884, Time=0.05 sec\n",
      " ARIMA(3,1,1)(0,0,0)[0] intercept   : AIC=44.042, Time=0.29 sec\n",
      " ARIMA(3,1,2)(0,0,0)[0] intercept   : AIC=45.960, Time=0.28 sec\n",
      " ARIMA(4,1,0)(0,0,0)[0] intercept   : AIC=77.312, Time=0.06 sec\n",
      " ARIMA(4,1,1)(0,0,0)[0] intercept   : AIC=45.758, Time=0.25 sec\n",
      " ARIMA(5,1,0)(0,0,0)[0] intercept   : AIC=74.870, Time=0.08 sec\n",
      "Total fit time: 3.542 seconds\n",
      "{'amazonas': 95.15766766790279, 'antioquia': 34.4418260186146, 'arauca': 98.34089831047196, 'atlantico': 46.84540955653945, 'bogota': 23.359521510421498, 'bolivar': 48.16737720474759, 'boyaca': 26.15706747288557, 'caldas': 48.518950846734526, 'caqueta': 27.632398712660546, 'casanare': 40.842333565104354, 'cauca': 30.436302387070864, 'cesar': 38.080248068399754, 'choco': 60.03136172155442, 'cordoba': 15.310055372417805, 'cundinamarca': 48.4312510528583, 'guainia': 186.27330528430457, 'guaviare': 117.4635344795836, 'huila': 61.87704035170212, 'la guajira': 58.98091654997087, 'magdalena': 40.33779981387885, 'meta': 39.55354479621452, 'narino': 42.58867751300755, 'norte de santander': 34.3557032236481, 'putumayo': 39.111673423620324, 'quindio': 50.45178445447609, 'risaralda': 36.93335904788326, 'san andres y providencia': 94.31472722290674, 'santander': 24.916393727081825, 'sucre': 58.04865203625062, 'tolima': 36.59888183077058, 'valle del cauca': 37.67246471575399, 'vaupes': 73.14865081586946, 'vichada': 189.6133648655472}\n"
     ]
    }
   ],
   "source": [
    "mape =  {}\n",
    "for departamento in train_set.departamento.unique():\n",
    "    #print(departamento)\n",
    "    stepwise_fit = pm.auto_arima(train_departamento[train_departamento['departamento'] == departamento]['infectados'], \n",
    "                                 start_p=0, start_q=0, max_p=7, max_q=8, m=12, start_P=0, seasonal=False, d=1, D=1, \n",
    "                                 trace=True, error_action='ignore',  # don't want to know if an order does not work\n",
    "                                 suppress_warnings=True,  # don't want convergence warnings\n",
    "                                 stepwise=False)  # set to stepwise\n",
    "    next_7 = stepwise_fit.predict(n_periods=7)\n",
    "    real = test_departamento[test_departamento['departamento'] == departamento ] ['infectados']\n",
    "    mape[departamento] = mean_absolute_percentage_error(real, next_7)\n",
    "print(mape)"
   ]
  },
  {
   "cell_type": "code",
   "execution_count": 57,
   "metadata": {},
   "outputs": [
    {
     "data": {
      "text/plain": [
       "57.69676192790466"
      ]
     },
     "execution_count": 57,
     "metadata": {},
     "output_type": "execute_result"
    }
   ],
   "source": [
    "sum(mape.values())/len(mape.values())"
   ]
  },
  {
   "cell_type": "code",
   "execution_count": 58,
   "metadata": {},
   "outputs": [
    {
     "ename": "TypeError",
     "evalue": "'builtin_function_or_method' object is not subscriptable",
     "output_type": "error",
     "traceback": [
      "\u001b[0;31m---------------------------------------------------------------------------\u001b[0m",
      "\u001b[0;31mTypeError\u001b[0m                                 Traceback (most recent call last)",
      "\u001b[0;32m<ipython-input-58-c5686eee3f4a>\u001b[0m in \u001b[0;36m<module>\u001b[0;34m\u001b[0m\n\u001b[0;32m----> 1\u001b[0;31m \u001b[0msum\u001b[0m\u001b[0;34m(\u001b[0m\u001b[0mmape\u001b[0m\u001b[0;34m.\u001b[0m\u001b[0mvalues\u001b[0m\u001b[0;34m[\u001b[0m\u001b[0;34m[\u001b[0m\u001b[0;36m1\u001b[0m\u001b[0;34m,\u001b[0m\u001b[0;36m3\u001b[0m\u001b[0;34m,\u001b[0m\u001b[0;36m4\u001b[0m\u001b[0;34m,\u001b[0m\u001b[0;34m-\u001b[0m\u001b[0;36m3\u001b[0m\u001b[0;34m]\u001b[0m\u001b[0;34m]\u001b[0m\u001b[0;34m)\u001b[0m\u001b[0;34m/\u001b[0m\u001b[0;36m4\u001b[0m\u001b[0;34m\u001b[0m\u001b[0;34m\u001b[0m\u001b[0m\n\u001b[0m",
      "\u001b[0;31mTypeError\u001b[0m: 'builtin_function_or_method' object is not subscriptable"
     ]
    }
   ],
   "source": [
    "sum(mape.values[[1,3,4,-3]])/4"
   ]
  },
  {
   "cell_type": "code",
   "execution_count": 59,
   "metadata": {},
   "outputs": [],
   "source": [
    "a = [mape['bogota'], mape['antioquia'], mape['atlantico'], mape['valle del cauca']]"
   ]
  },
  {
   "cell_type": "code",
   "execution_count": 60,
   "metadata": {},
   "outputs": [
    {
     "data": {
      "text/plain": [
       "35.57980545033239"
      ]
     },
     "execution_count": 60,
     "metadata": {},
     "output_type": "execute_result"
    }
   ],
   "source": [
    "sum(a)/4"
   ]
  },
  {
   "cell_type": "code",
   "execution_count": 54,
   "metadata": {},
   "outputs": [
    {
     "data": {
      "text/plain": [
       "[91.66122174630716,\n",
       " 32.84788875249577,\n",
       " 107.11336404969747,\n",
       " 49.2124519633797,\n",
       " 21.580289407151216,\n",
       " 43.44675763521328,\n",
       " 25.523705145786618,\n",
       " 48.67463646932938,\n",
       " 26.668107252896167,\n",
       " 40.243816681342416,\n",
       " 50.91959353643901,\n",
       " 35.7595067109771,\n",
       " 30.444276475979056,\n",
       " 26.06994797347558,\n",
       " 46.480116082386715,\n",
       " 200.0,\n",
       " 118.07594269329924,\n",
       " 41.61476476360101,\n",
       " 46.21544895038095,\n",
       " 40.33779981387885,\n",
       " 39.55354479621452,\n",
       " 36.471987794974964,\n",
       " 30.18368029474228,\n",
       " 43.85961334533622,\n",
       " 44.235141802094105,\n",
       " 37.01217660093102,\n",
       " 94.83562926162735,\n",
       " 24.3962017291615,\n",
       " 58.04865203625062,\n",
       " 36.26244344571505,\n",
       " 31.832584451155142,\n",
       " 74.38880932063647,\n",
       " 190.5430670945459]"
      ]
     },
     "execution_count": 54,
     "metadata": {},
     "output_type": "execute_result"
    }
   ],
   "source": [
    "[ mape[departamento] for departamento in mape.keys()]"
   ]
  },
  {
   "cell_type": "code",
   "execution_count": 55,
   "metadata": {},
   "outputs": [
    {
     "data": {
      "text/plain": [
       "{'amazonas': 91.66122174630716,\n",
       " 'antioquia': 32.84788875249577,\n",
       " 'arauca': 107.11336404969747,\n",
       " 'atlantico': 49.2124519633797,\n",
       " 'bogota': 21.580289407151216,\n",
       " 'bolivar': 43.44675763521328,\n",
       " 'boyaca': 25.523705145786618,\n",
       " 'caldas': 48.67463646932938,\n",
       " 'caqueta': 26.668107252896167,\n",
       " 'casanare': 40.243816681342416,\n",
       " 'cauca': 50.91959353643901,\n",
       " 'cesar': 35.7595067109771,\n",
       " 'choco': 30.444276475979056,\n",
       " 'cordoba': 26.06994797347558,\n",
       " 'cundinamarca': 46.480116082386715,\n",
       " 'guainia': 200.0,\n",
       " 'guaviare': 118.07594269329924,\n",
       " 'huila': 41.61476476360101,\n",
       " 'la guajira': 46.21544895038095,\n",
       " 'magdalena': 40.33779981387885,\n",
       " 'meta': 39.55354479621452,\n",
       " 'narino': 36.471987794974964,\n",
       " 'norte de santander': 30.18368029474228,\n",
       " 'putumayo': 43.85961334533622,\n",
       " 'quindio': 44.235141802094105,\n",
       " 'risaralda': 37.01217660093102,\n",
       " 'san andres y providencia': 94.83562926162735,\n",
       " 'santander': 24.3962017291615,\n",
       " 'sucre': 58.04865203625062,\n",
       " 'tolima': 36.26244344571505,\n",
       " 'valle del cauca': 31.832584451155142,\n",
       " 'vaupes': 74.38880932063647,\n",
       " 'vichada': 190.5430670945459}"
      ]
     },
     "execution_count": 55,
     "metadata": {},
     "output_type": "execute_result"
    }
   ],
   "source": [
    "mape"
   ]
  },
  {
   "cell_type": "code",
   "execution_count": null,
   "metadata": {},
   "outputs": [],
   "source": []
  }
 ],
 "metadata": {
  "kernelspec": {
   "display_name": "Python [conda env:tf2]",
   "language": "python",
   "name": "conda-env-tf2-py"
  },
  "language_info": {
   "codemirror_mode": {
    "name": "ipython",
    "version": 3
   },
   "file_extension": ".py",
   "mimetype": "text/x-python",
   "name": "python",
   "nbconvert_exporter": "python",
   "pygments_lexer": "ipython3",
   "version": "3.7.4"
  }
 },
 "nbformat": 4,
 "nbformat_minor": 4
}
